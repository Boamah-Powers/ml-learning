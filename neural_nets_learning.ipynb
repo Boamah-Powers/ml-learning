{
  "nbformat": 4,
  "nbformat_minor": 0,
  "metadata": {
    "colab": {
      "provenance": [],
      "authorship_tag": "ABX9TyPgK/uOPwz0LuxxWNC0S/Fb",
      "include_colab_link": true
    },
    "kernelspec": {
      "name": "python3",
      "display_name": "Python 3"
    },
    "language_info": {
      "name": "python"
    }
  },
  "cells": [
    {
      "cell_type": "markdown",
      "metadata": {
        "id": "view-in-github",
        "colab_type": "text"
      },
      "source": [
        "<a href=\"https://colab.research.google.com/github/Boamah-Powers/ml-learning/blob/main/neural_nets_learning.ipynb\" target=\"_parent\"><img src=\"https://colab.research.google.com/assets/colab-badge.svg\" alt=\"Open In Colab\"/></a>"
      ]
    },
    {
      "cell_type": "markdown",
      "source": [
        "## Introduction to Neural Nets\n",
        "\n",
        "Experimenting with neural nets"
      ],
      "metadata": {
        "id": "iV8OBTQhriuY"
      }
    },
    {
      "cell_type": "markdown",
      "source": [
        "## Import relevant modules"
      ],
      "metadata": {
        "id": "x-MmTwfvADIf"
      }
    },
    {
      "cell_type": "code",
      "execution_count": 1,
      "metadata": {
        "colab": {
          "base_uri": "https://localhost:8080/"
        },
        "id": "upZX6GADqxhN",
        "outputId": "2a8160d6-eccd-41c2-fc33-fc33cf00216b"
      },
      "outputs": [
        {
          "output_type": "stream",
          "name": "stdout",
          "text": [
            "Imported modules\n"
          ]
        }
      ],
      "source": [
        "# imports relevant modules\n",
        "import numpy as np\n",
        "import pandas as pd\n",
        "import tensorflow as tf\n",
        "from matplotlib import pyplot as plt\n",
        "import seaborn as sns\n",
        "\n",
        "# Adjust the granularity of reporting\n",
        "pd.options.display.max_rows = 10\n",
        "pd.options.display.float_format = \"{:.1f}\".format\n",
        "\n",
        "print(\"Imported modules\")"
      ]
    },
    {
      "cell_type": "markdown",
      "source": [
        "## Loading dataset\n"
      ],
      "metadata": {
        "id": "v0DBxUzXB_TV"
      }
    },
    {
      "cell_type": "code",
      "source": [
        "train_df = pd.read_csv(\"https://download.mlcc.google.com/mledu-datasets/california_housing_train.csv\")\n",
        "train_df = train_df.reindex(np.random.permutation(train_df.index)) # shuffle the examples\n",
        "test_df = pd.read_csv(\"https://download.mlcc.google.com/mledu-datasets/california_housing_test.csv\")\n",
        "\n",
        "train_df.head()"
      ],
      "metadata": {
        "colab": {
          "base_uri": "https://localhost:8080/",
          "height": 226
        },
        "id": "XNTwKDciB87i",
        "outputId": "27f45782-b2ec-45a9-e48b-9bf8342e90eb"
      },
      "execution_count": 2,
      "outputs": [
        {
          "output_type": "execute_result",
          "data": {
            "text/plain": [
              "       longitude  latitude  housing_median_age  total_rooms  total_bedrooms  \\\n",
              "7070      -118.3      34.1                30.0       1871.0           766.0   \n",
              "10048     -119.8      36.8                52.0       2408.0           498.0   \n",
              "5354      -118.2      34.1                52.0       1000.0           192.0   \n",
              "10960     -120.9      35.4                29.0       2046.0           588.0   \n",
              "15766     -122.4      37.8                52.0       1999.0           642.0   \n",
              "\n",
              "       population  households  median_income  median_house_value  \n",
              "7070       2595.0       819.0            2.0            212500.0  \n",
              "10048      1361.0       465.0            2.1             61300.0  \n",
              "5354        363.0       158.0            4.3            352800.0  \n",
              "10960       846.0       410.0            1.6            227300.0  \n",
              "15766      1846.0       620.0            1.9            225000.0  "
            ],
            "text/html": [
              "\n",
              "  <div id=\"df-b4b9a8b2-0882-47be-afaf-d704e2db096c\" class=\"colab-df-container\">\n",
              "    <div>\n",
              "<style scoped>\n",
              "    .dataframe tbody tr th:only-of-type {\n",
              "        vertical-align: middle;\n",
              "    }\n",
              "\n",
              "    .dataframe tbody tr th {\n",
              "        vertical-align: top;\n",
              "    }\n",
              "\n",
              "    .dataframe thead th {\n",
              "        text-align: right;\n",
              "    }\n",
              "</style>\n",
              "<table border=\"1\" class=\"dataframe\">\n",
              "  <thead>\n",
              "    <tr style=\"text-align: right;\">\n",
              "      <th></th>\n",
              "      <th>longitude</th>\n",
              "      <th>latitude</th>\n",
              "      <th>housing_median_age</th>\n",
              "      <th>total_rooms</th>\n",
              "      <th>total_bedrooms</th>\n",
              "      <th>population</th>\n",
              "      <th>households</th>\n",
              "      <th>median_income</th>\n",
              "      <th>median_house_value</th>\n",
              "    </tr>\n",
              "  </thead>\n",
              "  <tbody>\n",
              "    <tr>\n",
              "      <th>7070</th>\n",
              "      <td>-118.3</td>\n",
              "      <td>34.1</td>\n",
              "      <td>30.0</td>\n",
              "      <td>1871.0</td>\n",
              "      <td>766.0</td>\n",
              "      <td>2595.0</td>\n",
              "      <td>819.0</td>\n",
              "      <td>2.0</td>\n",
              "      <td>212500.0</td>\n",
              "    </tr>\n",
              "    <tr>\n",
              "      <th>10048</th>\n",
              "      <td>-119.8</td>\n",
              "      <td>36.8</td>\n",
              "      <td>52.0</td>\n",
              "      <td>2408.0</td>\n",
              "      <td>498.0</td>\n",
              "      <td>1361.0</td>\n",
              "      <td>465.0</td>\n",
              "      <td>2.1</td>\n",
              "      <td>61300.0</td>\n",
              "    </tr>\n",
              "    <tr>\n",
              "      <th>5354</th>\n",
              "      <td>-118.2</td>\n",
              "      <td>34.1</td>\n",
              "      <td>52.0</td>\n",
              "      <td>1000.0</td>\n",
              "      <td>192.0</td>\n",
              "      <td>363.0</td>\n",
              "      <td>158.0</td>\n",
              "      <td>4.3</td>\n",
              "      <td>352800.0</td>\n",
              "    </tr>\n",
              "    <tr>\n",
              "      <th>10960</th>\n",
              "      <td>-120.9</td>\n",
              "      <td>35.4</td>\n",
              "      <td>29.0</td>\n",
              "      <td>2046.0</td>\n",
              "      <td>588.0</td>\n",
              "      <td>846.0</td>\n",
              "      <td>410.0</td>\n",
              "      <td>1.6</td>\n",
              "      <td>227300.0</td>\n",
              "    </tr>\n",
              "    <tr>\n",
              "      <th>15766</th>\n",
              "      <td>-122.4</td>\n",
              "      <td>37.8</td>\n",
              "      <td>52.0</td>\n",
              "      <td>1999.0</td>\n",
              "      <td>642.0</td>\n",
              "      <td>1846.0</td>\n",
              "      <td>620.0</td>\n",
              "      <td>1.9</td>\n",
              "      <td>225000.0</td>\n",
              "    </tr>\n",
              "  </tbody>\n",
              "</table>\n",
              "</div>\n",
              "    <div class=\"colab-df-buttons\">\n",
              "\n",
              "  <div class=\"colab-df-container\">\n",
              "    <button class=\"colab-df-convert\" onclick=\"convertToInteractive('df-b4b9a8b2-0882-47be-afaf-d704e2db096c')\"\n",
              "            title=\"Convert this dataframe to an interactive table.\"\n",
              "            style=\"display:none;\">\n",
              "\n",
              "  <svg xmlns=\"http://www.w3.org/2000/svg\" height=\"24px\" viewBox=\"0 -960 960 960\">\n",
              "    <path d=\"M120-120v-720h720v720H120Zm60-500h600v-160H180v160Zm220 220h160v-160H400v160Zm0 220h160v-160H400v160ZM180-400h160v-160H180v160Zm440 0h160v-160H620v160ZM180-180h160v-160H180v160Zm440 0h160v-160H620v160Z\"/>\n",
              "  </svg>\n",
              "    </button>\n",
              "\n",
              "  <style>\n",
              "    .colab-df-container {\n",
              "      display:flex;\n",
              "      gap: 12px;\n",
              "    }\n",
              "\n",
              "    .colab-df-convert {\n",
              "      background-color: #E8F0FE;\n",
              "      border: none;\n",
              "      border-radius: 50%;\n",
              "      cursor: pointer;\n",
              "      display: none;\n",
              "      fill: #1967D2;\n",
              "      height: 32px;\n",
              "      padding: 0 0 0 0;\n",
              "      width: 32px;\n",
              "    }\n",
              "\n",
              "    .colab-df-convert:hover {\n",
              "      background-color: #E2EBFA;\n",
              "      box-shadow: 0px 1px 2px rgba(60, 64, 67, 0.3), 0px 1px 3px 1px rgba(60, 64, 67, 0.15);\n",
              "      fill: #174EA6;\n",
              "    }\n",
              "\n",
              "    .colab-df-buttons div {\n",
              "      margin-bottom: 4px;\n",
              "    }\n",
              "\n",
              "    [theme=dark] .colab-df-convert {\n",
              "      background-color: #3B4455;\n",
              "      fill: #D2E3FC;\n",
              "    }\n",
              "\n",
              "    [theme=dark] .colab-df-convert:hover {\n",
              "      background-color: #434B5C;\n",
              "      box-shadow: 0px 1px 3px 1px rgba(0, 0, 0, 0.15);\n",
              "      filter: drop-shadow(0px 1px 2px rgba(0, 0, 0, 0.3));\n",
              "      fill: #FFFFFF;\n",
              "    }\n",
              "  </style>\n",
              "\n",
              "    <script>\n",
              "      const buttonEl =\n",
              "        document.querySelector('#df-b4b9a8b2-0882-47be-afaf-d704e2db096c button.colab-df-convert');\n",
              "      buttonEl.style.display =\n",
              "        google.colab.kernel.accessAllowed ? 'block' : 'none';\n",
              "\n",
              "      async function convertToInteractive(key) {\n",
              "        const element = document.querySelector('#df-b4b9a8b2-0882-47be-afaf-d704e2db096c');\n",
              "        const dataTable =\n",
              "          await google.colab.kernel.invokeFunction('convertToInteractive',\n",
              "                                                    [key], {});\n",
              "        if (!dataTable) return;\n",
              "\n",
              "        const docLinkHtml = 'Like what you see? Visit the ' +\n",
              "          '<a target=\"_blank\" href=https://colab.research.google.com/notebooks/data_table.ipynb>data table notebook</a>'\n",
              "          + ' to learn more about interactive tables.';\n",
              "        element.innerHTML = '';\n",
              "        dataTable['output_type'] = 'display_data';\n",
              "        await google.colab.output.renderOutput(dataTable, element);\n",
              "        const docLink = document.createElement('div');\n",
              "        docLink.innerHTML = docLinkHtml;\n",
              "        element.appendChild(docLink);\n",
              "      }\n",
              "    </script>\n",
              "  </div>\n",
              "\n",
              "\n",
              "<div id=\"df-030886ac-6c67-4acb-9e46-aeea7e8eda0c\">\n",
              "  <button class=\"colab-df-quickchart\" onclick=\"quickchart('df-030886ac-6c67-4acb-9e46-aeea7e8eda0c')\"\n",
              "            title=\"Suggest charts\"\n",
              "            style=\"display:none;\">\n",
              "\n",
              "<svg xmlns=\"http://www.w3.org/2000/svg\" height=\"24px\"viewBox=\"0 0 24 24\"\n",
              "     width=\"24px\">\n",
              "    <g>\n",
              "        <path d=\"M19 3H5c-1.1 0-2 .9-2 2v14c0 1.1.9 2 2 2h14c1.1 0 2-.9 2-2V5c0-1.1-.9-2-2-2zM9 17H7v-7h2v7zm4 0h-2V7h2v10zm4 0h-2v-4h2v4z\"/>\n",
              "    </g>\n",
              "</svg>\n",
              "  </button>\n",
              "\n",
              "<style>\n",
              "  .colab-df-quickchart {\n",
              "      --bg-color: #E8F0FE;\n",
              "      --fill-color: #1967D2;\n",
              "      --hover-bg-color: #E2EBFA;\n",
              "      --hover-fill-color: #174EA6;\n",
              "      --disabled-fill-color: #AAA;\n",
              "      --disabled-bg-color: #DDD;\n",
              "  }\n",
              "\n",
              "  [theme=dark] .colab-df-quickchart {\n",
              "      --bg-color: #3B4455;\n",
              "      --fill-color: #D2E3FC;\n",
              "      --hover-bg-color: #434B5C;\n",
              "      --hover-fill-color: #FFFFFF;\n",
              "      --disabled-bg-color: #3B4455;\n",
              "      --disabled-fill-color: #666;\n",
              "  }\n",
              "\n",
              "  .colab-df-quickchart {\n",
              "    background-color: var(--bg-color);\n",
              "    border: none;\n",
              "    border-radius: 50%;\n",
              "    cursor: pointer;\n",
              "    display: none;\n",
              "    fill: var(--fill-color);\n",
              "    height: 32px;\n",
              "    padding: 0;\n",
              "    width: 32px;\n",
              "  }\n",
              "\n",
              "  .colab-df-quickchart:hover {\n",
              "    background-color: var(--hover-bg-color);\n",
              "    box-shadow: 0 1px 2px rgba(60, 64, 67, 0.3), 0 1px 3px 1px rgba(60, 64, 67, 0.15);\n",
              "    fill: var(--button-hover-fill-color);\n",
              "  }\n",
              "\n",
              "  .colab-df-quickchart-complete:disabled,\n",
              "  .colab-df-quickchart-complete:disabled:hover {\n",
              "    background-color: var(--disabled-bg-color);\n",
              "    fill: var(--disabled-fill-color);\n",
              "    box-shadow: none;\n",
              "  }\n",
              "\n",
              "  .colab-df-spinner {\n",
              "    border: 2px solid var(--fill-color);\n",
              "    border-color: transparent;\n",
              "    border-bottom-color: var(--fill-color);\n",
              "    animation:\n",
              "      spin 1s steps(1) infinite;\n",
              "  }\n",
              "\n",
              "  @keyframes spin {\n",
              "    0% {\n",
              "      border-color: transparent;\n",
              "      border-bottom-color: var(--fill-color);\n",
              "      border-left-color: var(--fill-color);\n",
              "    }\n",
              "    20% {\n",
              "      border-color: transparent;\n",
              "      border-left-color: var(--fill-color);\n",
              "      border-top-color: var(--fill-color);\n",
              "    }\n",
              "    30% {\n",
              "      border-color: transparent;\n",
              "      border-left-color: var(--fill-color);\n",
              "      border-top-color: var(--fill-color);\n",
              "      border-right-color: var(--fill-color);\n",
              "    }\n",
              "    40% {\n",
              "      border-color: transparent;\n",
              "      border-right-color: var(--fill-color);\n",
              "      border-top-color: var(--fill-color);\n",
              "    }\n",
              "    60% {\n",
              "      border-color: transparent;\n",
              "      border-right-color: var(--fill-color);\n",
              "    }\n",
              "    80% {\n",
              "      border-color: transparent;\n",
              "      border-right-color: var(--fill-color);\n",
              "      border-bottom-color: var(--fill-color);\n",
              "    }\n",
              "    90% {\n",
              "      border-color: transparent;\n",
              "      border-bottom-color: var(--fill-color);\n",
              "    }\n",
              "  }\n",
              "</style>\n",
              "\n",
              "  <script>\n",
              "    async function quickchart(key) {\n",
              "      const quickchartButtonEl =\n",
              "        document.querySelector('#' + key + ' button');\n",
              "      quickchartButtonEl.disabled = true;  // To prevent multiple clicks.\n",
              "      quickchartButtonEl.classList.add('colab-df-spinner');\n",
              "      try {\n",
              "        const charts = await google.colab.kernel.invokeFunction(\n",
              "            'suggestCharts', [key], {});\n",
              "      } catch (error) {\n",
              "        console.error('Error during call to suggestCharts:', error);\n",
              "      }\n",
              "      quickchartButtonEl.classList.remove('colab-df-spinner');\n",
              "      quickchartButtonEl.classList.add('colab-df-quickchart-complete');\n",
              "    }\n",
              "    (() => {\n",
              "      let quickchartButtonEl =\n",
              "        document.querySelector('#df-030886ac-6c67-4acb-9e46-aeea7e8eda0c button');\n",
              "      quickchartButtonEl.style.display =\n",
              "        google.colab.kernel.accessAllowed ? 'block' : 'none';\n",
              "    })();\n",
              "  </script>\n",
              "</div>\n",
              "    </div>\n",
              "  </div>\n"
            ]
          },
          "metadata": {},
          "execution_count": 2
        }
      ]
    },
    {
      "cell_type": "markdown",
      "source": [
        "## Represent data\n",
        "\n",
        "The following code cell creates preprocessing layers"
      ],
      "metadata": {
        "id": "Z7zM8735DClx"
      }
    },
    {
      "cell_type": "code",
      "source": [
        "# Keras Input tensors of float values\n",
        "inputs = {\n",
        "    'latitude':\n",
        "        tf.keras.layers.Input(shape=(1,), dtype=tf.float32, name='latitude'),\n",
        "    'longitude':\n",
        "        tf.keras.layers.Input(shape=(1,), dtype=tf.float32, name='longitude'),\n",
        "    'median_income':\n",
        "        tf.keras.layers.Input(shape=(1,), dtype=tf.float32, name='median_income'),\n",
        "    'population':\n",
        "        tf.keras.layers.Input(shape=(1,), dtype=tf.float32, name='population'),\n",
        "}\n",
        "\n",
        "# Create a Normalization layer to normalize the median_income data\n",
        "median_income = tf.keras.layers.Normalization(\n",
        "    name='normalization_median_income',\n",
        "    axis=None\n",
        ")\n",
        "median_income.adapt(train_df['median_income'])\n",
        "median_income = median_income(inputs.get('median_income'))\n",
        "\n",
        "# Create a Normalization layer to normalize the population data\n",
        "population = tf.keras.layers.Normalization(\n",
        "    name='normalization_population',\n",
        "    axis=None,\n",
        ")\n",
        "population.adapt(train_df['population'])\n",
        "population = population(inputs.get('population'))\n",
        "\n",
        "# Create a list of numbers representing the bucket boundaries for latitude\n",
        "latitude_boundaries = np.linspace(-3, 3, 20+1)\n",
        "\n",
        "# Create a Normalization layer to normalize the latitude data\n",
        "latitude = tf.keras.layers.Normalization(\n",
        "    name='normalization_latitude',\n",
        "    axis=None\n",
        ")\n",
        "latitude.adapt(train_df['latitude'])\n",
        "latitude = latitude(inputs.get('latitude'))\n",
        "\n",
        "# Create a Discretization layer to separate the latitude data into buckets\n",
        "latitude = tf.keras.layers.Discretization(\n",
        "    bin_boundaries=latitude_boundaries,\n",
        "    name='discretization_latitude'\n",
        ")(latitude)\n",
        "\n",
        "# Create a list of numbers representing the bucket boundaries for longitude\n",
        "longitude_boundaries = np.linspace(-3, 3, 20+1)\n",
        "\n",
        "# Create a Normalization layer to normalize the longitude data\n",
        "longitude = tf.keras.layers.Normalization(\n",
        "    name='normalization_longitude',\n",
        "    axis=None,\n",
        ")\n",
        "longitude.adapt(train_df['longitude'])\n",
        "longitude = longitude(inputs.get('longitude'))\n",
        "\n",
        "# Create a Discretization layer to separate the longitude data into buckets\n",
        "longitude = tf.keras.layers.Discretization(\n",
        "    bin_boundaries=longitude_boundaries,\n",
        "    name='discretization_longitude'\n",
        ")(longitude)\n",
        "\n",
        "# Cross the latitude and longitude features into a single one-hot vector\n",
        "feature_cross = tf.keras.layers.HashedCrossing(\n",
        "    num_bins=len(latitude_boundaries) * len(longitude_boundaries),\n",
        "    output_mode='one_hot',\n",
        "    name='cross_latitude_longitude'\n",
        ")([latitude, longitude])\n",
        "\n",
        "# Concatenate our inputs into a single vector\n",
        "preprocessing_layers = tf.keras.layers.Concatenate()(\n",
        "    [feature_cross, median_income, population]\n",
        ")\n",
        "\n",
        "print(\"Preprocessing layers defined.\")\n"
      ],
      "metadata": {
        "colab": {
          "base_uri": "https://localhost:8080/"
        },
        "id": "tScmPZVrCnTq",
        "outputId": "13958b9a-c48a-4c1a-855a-17cee65722db"
      },
      "execution_count": 3,
      "outputs": [
        {
          "output_type": "stream",
          "name": "stdout",
          "text": [
            "Preprocessing layers defined.\n"
          ]
        }
      ]
    },
    {
      "cell_type": "markdown",
      "source": [
        "## Define the plotting function"
      ],
      "metadata": {
        "id": "CuHkbC9zdMsr"
      }
    },
    {
      "cell_type": "code",
      "source": [
        "# Define the plotting function\n",
        "\n",
        "def plot_the_loss_curve(epochs, mse_training, mse_validation):\n",
        "  \"\"\" Plot a curve of loss vs epoch \"\"\"\n",
        "\n",
        "  plt.figure()\n",
        "  plt.xlabel(\"Epoch\")\n",
        "  plt.ylabel(\"Mean Squared Error\")\n",
        "\n",
        "  plt.plot(epochs, mse_training, label=\"Training Loss\")\n",
        "  plt.plot(epochs, mse_validation, label=\"Validation Loss\")\n",
        "\n",
        "  # mse_training is a pandas Series, so convert it to a list first\n",
        "  merged_mse_lists = mse_training.tolist() + mse_validation\n",
        "  highest_loss = max(merged_mse_lists)\n",
        "  lowest_loss = min(merged_mse_lists)\n",
        "  top_of_y_axis = highest_loss * 1.03\n",
        "  bottom_of_y_axis = lowest_loss * 0.97\n",
        "\n",
        "  plt.ylim([bottom_of_y_axis, top_of_y_axis])\n",
        "  plt.legend()\n",
        "  plt.show()\n",
        "\n",
        "print(\"Defined the plot_the_loss_curve function\")"
      ],
      "metadata": {
        "colab": {
          "base_uri": "https://localhost:8080/"
        },
        "id": "PWAF3oqHdUyO",
        "outputId": "7e6b4ddf-9afa-4acc-e856-782052cb0c87"
      },
      "execution_count": 4,
      "outputs": [
        {
          "output_type": "stream",
          "name": "stdout",
          "text": [
            "Defined the plot_the_loss_curve function\n"
          ]
        }
      ]
    },
    {
      "cell_type": "markdown",
      "source": [
        "## Define functions to create and train a linear regression model"
      ],
      "metadata": {
        "id": "hav-ANT1e-N2"
      }
    },
    {
      "cell_type": "code",
      "source": [
        "# Define functions to create and train a linear regression model\n",
        "def create_model(my_inputs, my_outputs, my_learning_rate):\n",
        "  \"\"\" Create and compile a simple linear regression model \"\"\"\n",
        "  model = tf.keras.Model(inputs=my_inputs, outputs=my_outputs)\n",
        "\n",
        "  # Construct the layers into a model that Tensorflow can execute\n",
        "  model.compile(\n",
        "      optimizer=tf.keras.optimizers.Adam(learning_rate=my_learning_rate),\n",
        "      loss=\"mean_squared_error\",\n",
        "      metrics=[tf.keras.metrics.MeanSquaredError()],\n",
        "  )\n",
        "\n",
        "  return model\n",
        "\n",
        "def train_model(model, dataset, epochs, batch_size, label_name, validation_split=0.1):\n",
        "  \"\"\" Feed a dataset into the model in order to train it \"\"\"\n",
        "\n",
        "  # Split the dataset into features and label\n",
        "  features = {name:np.array(value) for name, value in dataset.items()}\n",
        "  label = train_median_house_value_normalized(np.array(features.pop(label_name)))\n",
        "  history = model.fit(x=features, y=label, batch_size=batch_size, epochs=epochs,\n",
        "                      shuffle=True, validation_split=validation_split)\n",
        "\n",
        "  # Get details that will be useful for plotting the loss curve\n",
        "  epochs = history.epoch\n",
        "  hist = pd.DataFrame(history.history)\n",
        "  mse = hist[\"mean_squared_error\"]\n",
        "\n",
        "  return epochs, mse, history.history\n",
        "\n",
        "print(\"Defined the create_model and train_model functions\")\n"
      ],
      "metadata": {
        "colab": {
          "base_uri": "https://localhost:8080/"
        },
        "id": "r6KJBZ4fe5QF",
        "outputId": "3f8a2de7-aed5-464c-c549-8607b22ae826"
      },
      "execution_count": 5,
      "outputs": [
        {
          "output_type": "stream",
          "name": "stdout",
          "text": [
            "Defined the create_model and train_model functions\n"
          ]
        }
      ]
    },
    {
      "cell_type": "markdown",
      "source": [
        "## Define normalized label columns"
      ],
      "metadata": {
        "id": "7zsOPqjbijWd"
      }
    },
    {
      "cell_type": "code",
      "source": [
        "# Create Normalization layers to normalize the median_house_value data\n",
        "\n",
        "train_median_house_value_normalized = tf.keras.layers.Normalization(axis=None)\n",
        "train_median_house_value_normalized.adapt(np.array(train_df['median_house_value']))\n",
        "\n",
        "test_median_house_value_normalized = tf.keras.layers.Normalization(axis=None)\n",
        "test_median_house_value_normalized.adapt(np.array(test_df['median_house_value']))"
      ],
      "metadata": {
        "id": "80yxE-KNipMP"
      },
      "execution_count": 6,
      "outputs": []
    },
    {
      "cell_type": "markdown",
      "source": [
        "## Define linear regression model outputs"
      ],
      "metadata": {
        "id": "7OkoYveHkE24"
      }
    },
    {
      "cell_type": "code",
      "source": [
        "# Define linear regression model outputs\n",
        "def get_outputs_linear_regression():\n",
        "  # Create the Dense output layer\n",
        "  dense_output = tf.keras.layers.Dense(units=1, name='dense_output')(preprocessing_layers)\n",
        "\n",
        "  # Define an output dictionary we'll send to the model constructor\n",
        "  outputs = {\n",
        "      'dense_output': dense_output\n",
        "  }\n",
        "\n",
        "  return outputs"
      ],
      "metadata": {
        "id": "BfXepSApkJb3"
      },
      "execution_count": 8,
      "outputs": []
    },
    {
      "cell_type": "markdown",
      "source": [
        "## Training the linear regression model"
      ],
      "metadata": {
        "id": "ZtWg81W2lCb-"
      }
    },
    {
      "cell_type": "code",
      "source": [
        "# The following variables are the hyperparameters\n",
        "learning_rate = 0.01\n",
        "epochs = 15\n",
        "batch_size = 1000\n",
        "label_name = \"median_house_value\"\n",
        "\n",
        "# Split the original training set into a reduced training set and a validation set\n",
        "validation_split = 0.2\n",
        "\n",
        "outputs = get_outputs_linear_regression()\n",
        "\n",
        "# Establish the model's topography\n",
        "my_model = create_model(inputs, outputs, learning_rate)\n",
        "\n",
        "# Train the model on the normalized training set\n",
        "epochs, mse, history = train_model(my_model, train_df, epochs, batch_size,\n",
        "                                   label_name, validation_split)\n",
        "plot_the_loss_curve(epochs, mse, history[\"val_mean_squared_error\"])\n",
        "\n",
        "test_features = {name:np.array(value) for name, value in test_df.items()}\n",
        "test_label = test_median_house_value_normalized(test_features.pop(label_name))\n",
        "print(\"\\n Evaluate the linear regression model against the test set: \")\n",
        "my_model.evaluate(x=test_features, y=test_label, batch_size=batch_size, return_dict=True)"
      ],
      "metadata": {
        "id": "GN7DfC3FlFZy",
        "colab": {
          "base_uri": "https://localhost:8080/",
          "height": 1000
        },
        "outputId": "b2fc5ed0-e322-417c-eb1b-44805c99a3c9"
      },
      "execution_count": 9,
      "outputs": [
        {
          "output_type": "stream",
          "name": "stdout",
          "text": [
            "Epoch 1/15\n"
          ]
        },
        {
          "output_type": "stream",
          "name": "stderr",
          "text": [
            "/usr/local/lib/python3.10/dist-packages/keras/src/engine/functional.py:642: UserWarning: Input dict contained keys ['housing_median_age', 'total_rooms', 'total_bedrooms', 'households'] which did not match any model input. They will be ignored by the model.\n",
            "  inputs = self._flatten_to_reference_inputs(inputs)\n"
          ]
        },
        {
          "output_type": "stream",
          "name": "stdout",
          "text": [
            "14/14 [==============================] - 1s 29ms/step - loss: 0.9694 - mean_squared_error: 0.9694 - val_loss: 0.8002 - val_mean_squared_error: 0.8002\n",
            "Epoch 2/15\n",
            "14/14 [==============================] - 0s 9ms/step - loss: 0.6986 - mean_squared_error: 0.6986 - val_loss: 0.5864 - val_mean_squared_error: 0.5864\n",
            "Epoch 3/15\n",
            "14/14 [==============================] - 0s 10ms/step - loss: 0.5270 - mean_squared_error: 0.5270 - val_loss: 0.4554 - val_mean_squared_error: 0.4554\n",
            "Epoch 4/15\n",
            "14/14 [==============================] - 0s 8ms/step - loss: 0.4281 - mean_squared_error: 0.4281 - val_loss: 0.3868 - val_mean_squared_error: 0.3868\n",
            "Epoch 5/15\n",
            "14/14 [==============================] - 0s 9ms/step - loss: 0.3771 - mean_squared_error: 0.3771 - val_loss: 0.3554 - val_mean_squared_error: 0.3554\n",
            "Epoch 6/15\n",
            "14/14 [==============================] - 0s 9ms/step - loss: 0.3550 - mean_squared_error: 0.3550 - val_loss: 0.3421 - val_mean_squared_error: 0.3421\n",
            "Epoch 7/15\n",
            "14/14 [==============================] - 0s 9ms/step - loss: 0.3458 - mean_squared_error: 0.3458 - val_loss: 0.3373 - val_mean_squared_error: 0.3373\n",
            "Epoch 8/15\n",
            "14/14 [==============================] - 0s 9ms/step - loss: 0.3420 - mean_squared_error: 0.3420 - val_loss: 0.3352 - val_mean_squared_error: 0.3352\n",
            "Epoch 9/15\n",
            "14/14 [==============================] - 0s 9ms/step - loss: 0.3403 - mean_squared_error: 0.3403 - val_loss: 0.3346 - val_mean_squared_error: 0.3346\n",
            "Epoch 10/15\n",
            "14/14 [==============================] - 0s 9ms/step - loss: 0.3393 - mean_squared_error: 0.3393 - val_loss: 0.3340 - val_mean_squared_error: 0.3340\n",
            "Epoch 11/15\n",
            "14/14 [==============================] - 0s 9ms/step - loss: 0.3391 - mean_squared_error: 0.3391 - val_loss: 0.3335 - val_mean_squared_error: 0.3335\n",
            "Epoch 12/15\n",
            "14/14 [==============================] - 0s 7ms/step - loss: 0.3386 - mean_squared_error: 0.3386 - val_loss: 0.3340 - val_mean_squared_error: 0.3340\n",
            "Epoch 13/15\n",
            "14/14 [==============================] - 0s 8ms/step - loss: 0.3382 - mean_squared_error: 0.3382 - val_loss: 0.3336 - val_mean_squared_error: 0.3336\n",
            "Epoch 14/15\n",
            "14/14 [==============================] - 0s 8ms/step - loss: 0.3380 - mean_squared_error: 0.3380 - val_loss: 0.3333 - val_mean_squared_error: 0.3333\n",
            "Epoch 15/15\n",
            "14/14 [==============================] - 0s 8ms/step - loss: 0.3378 - mean_squared_error: 0.3378 - val_loss: 0.3332 - val_mean_squared_error: 0.3332\n"
          ]
        },
        {
          "output_type": "display_data",
          "data": {
            "text/plain": [
              "<Figure size 640x480 with 1 Axes>"
            ],
            "image/png": "[encoded data removed]"
          },
          "metadata": {}
        },
        {
          "output_type": "stream",
          "name": "stdout",
          "text": [
            "\n",
            " Evaluate the linear regression model against the test set: \n",
            "3/3 [==============================] - 0s 8ms/step - loss: 0.3616 - mean_squared_error: 0.3616\n"
          ]
        },
        {
          "output_type": "execute_result",
          "data": {
            "text/plain": [
              "{'loss': 0.36159929633140564, 'mean_squared_error': 0.36159929633140564}"
            ]
          },
          "metadata": {},
          "execution_count": 9
        }
      ]
    },
    {
      "cell_type": "markdown",
      "source": [
        "## Define a deep neural net model"
      ],
      "metadata": {
        "id": "KLdaHfgyEI5a"
      }
    },
    {
      "cell_type": "code",
      "source": [
        "# defines the topography of the deep neural net\n",
        "def get_outputs_dnn():\n",
        "  # Create a Dense layer with 20 nodes\n",
        "  dense_output = tf.keras.layers.Dense(\n",
        "      units = 10,\n",
        "      activation='relu',\n",
        "      name='hideen_dense_layer_1'\n",
        "  )(preprocessing_layers)\n",
        "\n",
        "  # Create a Dense layer with 12 nodes\n",
        "  dense_output = tf.keras.layers.Dense(\n",
        "      units=6,\n",
        "      activation='relu',\n",
        "      name='hidden_dense_layer_2'\n",
        "  )(dense_output)\n",
        "\n",
        "  # Create the Dense output layer\n",
        "  dense_output = tf.keras.layers.Dense(\n",
        "      units=1,\n",
        "      name='dense_output'\n",
        "  )(dense_output)\n",
        "\n",
        "  # Defina an output dictionary we'll send to the model constructor\n",
        "  outputs = {\n",
        "      'dense_output': dense_output\n",
        "  }\n",
        "\n",
        "  return outputs"
      ],
      "metadata": {
        "id": "tU01lSKsEM7V"
      },
      "execution_count": 14,
      "outputs": []
    },
    {
      "cell_type": "markdown",
      "source": [
        "## Training the deep neural net"
      ],
      "metadata": {
        "id": "n4OESMucGD7I"
      }
    },
    {
      "cell_type": "code",
      "source": [
        "# The following variables are the hyperparameters\n",
        "learning_rate = 0.01\n",
        "epochs = 20\n",
        "batch_size = 1000\n",
        "\n",
        "# Specify the label\n",
        "label_name = \"median_house_value\"\n",
        "\n",
        "# Split the original training set into a reduced set and\n",
        "# a validation set\n",
        "validation_split = 0.2\n",
        "\n",
        "dnn_outputs = get_outputs_dnn()\n",
        "\n",
        "# Establish the model's topography\n",
        "my_model = create_model(\n",
        "    inputs,\n",
        "    dnn_outputs,\n",
        "    learning_rate\n",
        ")\n",
        "\n",
        "# Train the model on the normalized training set\n",
        "epochs, mse, history = train_model(\n",
        "    my_model,\n",
        "    train_df,\n",
        "    epochs,\n",
        "    batch_size,\n",
        "    label_name,\n",
        "    validation_split,\n",
        ")\n",
        "\n",
        "plot_the_loss_curve(epochs, mse, history[\"val_mean_squared_error\"])\n",
        "\n",
        "# Testing the model against the test set\n",
        "test_features = {name:np.array(value) for name, value in test_df.items()}\n",
        "test_label = test_median_house_value_normalized(np.array(test_features.pop(label_name)))\n",
        "print(\"\\n Evaluate the new model against the test set: \")\n",
        "my_model.evaluate(\n",
        "    x=test_features,\n",
        "    y=test_label,\n",
        "    batch_size=batch_size,\n",
        "    return_dict=True\n",
        ")"
      ],
      "metadata": {
        "colab": {
          "base_uri": "https://localhost:8080/",
          "height": 1000
        },
        "id": "ely9QeKHGIB7",
        "outputId": "d7b6b339-4644-4b35-c144-656ea19ebb82"
      },
      "execution_count": 15,
      "outputs": [
        {
          "output_type": "stream",
          "name": "stdout",
          "text": [
            "Epoch 1/20\n"
          ]
        },
        {
          "output_type": "stream",
          "name": "stderr",
          "text": [
            "/usr/local/lib/python3.10/dist-packages/keras/src/engine/functional.py:642: UserWarning: Input dict contained keys ['housing_median_age', 'total_rooms', 'total_bedrooms', 'households'] which did not match any model input. They will be ignored by the model.\n",
            "  inputs = self._flatten_to_reference_inputs(inputs)\n"
          ]
        },
        {
          "output_type": "stream",
          "name": "stdout",
          "text": [
            "14/14 [==============================] - 1s 30ms/step - loss: 0.6735 - mean_squared_error: 0.6735 - val_loss: 0.3824 - val_mean_squared_error: 0.3824\n",
            "Epoch 2/20\n",
            "14/14 [==============================] - 0s 13ms/step - loss: 0.3741 - mean_squared_error: 0.3741 - val_loss: 0.3431 - val_mean_squared_error: 0.3431\n",
            "Epoch 3/20\n",
            "14/14 [==============================] - 0s 11ms/step - loss: 0.3392 - mean_squared_error: 0.3392 - val_loss: 0.3341 - val_mean_squared_error: 0.3341\n",
            "Epoch 4/20\n",
            "14/14 [==============================] - 0s 11ms/step - loss: 0.3300 - mean_squared_error: 0.3300 - val_loss: 0.3264 - val_mean_squared_error: 0.3264\n",
            "Epoch 5/20\n",
            "14/14 [==============================] - 0s 11ms/step - loss: 0.3249 - mean_squared_error: 0.3249 - val_loss: 0.3251 - val_mean_squared_error: 0.3251\n",
            "Epoch 6/20\n",
            "14/14 [==============================] - 0s 11ms/step - loss: 0.3238 - mean_squared_error: 0.3238 - val_loss: 0.3220 - val_mean_squared_error: 0.3220\n",
            "Epoch 7/20\n",
            "14/14 [==============================] - 0s 12ms/step - loss: 0.3216 - mean_squared_error: 0.3216 - val_loss: 0.3221 - val_mean_squared_error: 0.3221\n",
            "Epoch 8/20\n",
            "14/14 [==============================] - 0s 13ms/step - loss: 0.3207 - mean_squared_error: 0.3207 - val_loss: 0.3208 - val_mean_squared_error: 0.3208\n",
            "Epoch 9/20\n",
            "14/14 [==============================] - 0s 11ms/step - loss: 0.3202 - mean_squared_error: 0.3202 - val_loss: 0.3206 - val_mean_squared_error: 0.3206\n",
            "Epoch 10/20\n",
            "14/14 [==============================] - 0s 11ms/step - loss: 0.3193 - mean_squared_error: 0.3193 - val_loss: 0.3205 - val_mean_squared_error: 0.3205\n",
            "Epoch 11/20\n",
            "14/14 [==============================] - 0s 11ms/step - loss: 0.3198 - mean_squared_error: 0.3198 - val_loss: 0.3185 - val_mean_squared_error: 0.3185\n",
            "Epoch 12/20\n",
            "14/14 [==============================] - 0s 11ms/step - loss: 0.3188 - mean_squared_error: 0.3188 - val_loss: 0.3212 - val_mean_squared_error: 0.3212\n",
            "Epoch 13/20\n",
            "14/14 [==============================] - 0s 11ms/step - loss: 0.3170 - mean_squared_error: 0.3170 - val_loss: 0.3178 - val_mean_squared_error: 0.3178\n",
            "Epoch 14/20\n",
            "14/14 [==============================] - 0s 12ms/step - loss: 0.3154 - mean_squared_error: 0.3154 - val_loss: 0.3167 - val_mean_squared_error: 0.3167\n",
            "Epoch 15/20\n",
            "14/14 [==============================] - 0s 12ms/step - loss: 0.3149 - mean_squared_error: 0.3149 - val_loss: 0.3165 - val_mean_squared_error: 0.3165\n",
            "Epoch 16/20\n",
            "14/14 [==============================] - 0s 11ms/step - loss: 0.3143 - mean_squared_error: 0.3143 - val_loss: 0.3170 - val_mean_squared_error: 0.3170\n",
            "Epoch 17/20\n",
            "14/14 [==============================] - 0s 11ms/step - loss: 0.3142 - mean_squared_error: 0.3142 - val_loss: 0.3151 - val_mean_squared_error: 0.3151\n",
            "Epoch 18/20\n",
            "14/14 [==============================] - 0s 11ms/step - loss: 0.3142 - mean_squared_error: 0.3142 - val_loss: 0.3151 - val_mean_squared_error: 0.3151\n",
            "Epoch 19/20\n",
            "14/14 [==============================] - 0s 11ms/step - loss: 0.3133 - mean_squared_error: 0.3133 - val_loss: 0.3163 - val_mean_squared_error: 0.3163\n",
            "Epoch 20/20\n",
            "14/14 [==============================] - 0s 11ms/step - loss: 0.3140 - mean_squared_error: 0.3140 - val_loss: 0.3154 - val_mean_squared_error: 0.3154\n"
          ]
        },
        {
          "output_type": "display_data",
          "data": {
            "text/plain": [
              "<Figure size 640x480 with 1 Axes>"
            ],
            "image/png": "[encoded data removed]"
          },
          "metadata": {}
        },
        {
          "output_type": "stream",
          "name": "stdout",
          "text": [
            "\n",
            " Evaluate the new model against the test set: \n",
            "3/3 [==============================] - 0s 10ms/step - loss: 0.3459 - mean_squared_error: 0.3459\n"
          ]
        },
        {
          "output_type": "execute_result",
          "data": {
            "text/plain": [
              "{'loss': 0.3458573818206787, 'mean_squared_error': 0.3458573818206787}"
            ]
          },
          "metadata": {},
          "execution_count": 15
        }
      ]
    }
  ]
}