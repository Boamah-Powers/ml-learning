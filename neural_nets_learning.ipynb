{
  "nbformat": 4,
  "nbformat_minor": 0,
  "metadata": {
    "colab": {
      "provenance": [],
      "authorship_tag": "ABX9TyMPgKWuEim7xPCrPi4I/dtB",
      "include_colab_link": true
    },
    "kernelspec": {
      "name": "python3",
      "display_name": "Python 3"
    },
    "language_info": {
      "name": "python"
    }
  },
  "cells": [
    {
      "cell_type": "markdown",
      "metadata": {
        "id": "view-in-github",
        "colab_type": "text"
      },
      "source": [
        "<a href=\"https://colab.research.google.com/github/Boamah-Powers/ml-learning/blob/main/neural_nets_learning.ipynb\" target=\"_parent\"><img src=\"https://colab.research.google.com/assets/colab-badge.svg\" alt=\"Open In Colab\"/></a>"
      ]
    },
    {
      "cell_type": "markdown",
      "source": [
        "## Introduction to Neural Nets\n",
        "\n",
        "Experimenting with neural nets"
      ],
      "metadata": {
        "id": "iV8OBTQhriuY"
      }
    },
    {
      "cell_type": "markdown",
      "source": [
        "## Import relevant modules"
      ],
      "metadata": {
        "id": "x-MmTwfvADIf"
      }
    },
    {
      "cell_type": "code",
      "execution_count": 2,
      "metadata": {
        "colab": {
          "base_uri": "https://localhost:8080/"
        },
        "id": "upZX6GADqxhN",
        "outputId": "3372d291-7860-456b-f958-9e6ed541c6e7"
      },
      "outputs": [
        {
          "output_type": "stream",
          "name": "stdout",
          "text": [
            "Imported modules\n"
          ]
        }
      ],
      "source": [
        "# imports relevant modules\n",
        "import numpy as np\n",
        "import pandas as pd\n",
        "import tensorflow as tf\n",
        "from matplotlib import pyplot as plt\n",
        "import seaborn as sns\n",
        "\n",
        "# Adjust the granularity of reporting\n",
        "pd.options.display.max_rows = 10\n",
        "pd.options.display.float_format = \"{:.1f}\".format\n",
        "\n",
        "print(\"Imported modules\")"
      ]
    },
    {
      "cell_type": "markdown",
      "source": [
        "## Loading dataset\n"
      ],
      "metadata": {
        "id": "v0DBxUzXB_TV"
      }
    },
    {
      "cell_type": "code",
      "source": [
        "train_df = pd.read_csv(\"https://download.mlcc.google.com/mledu-datasets/california_housing_train.csv\")\n",
        "train_df = train_df.reindex(np.random.permutation(train_df.index)) # shuffle the examples\n",
        "test_df = pd.read_csv(\"https://download.mlcc.google.com/mledu-datasets/california_housing_test.csv\")\n",
        "\n",
        "train_df.head()"
      ],
      "metadata": {
        "id": "XNTwKDciB87i"
      },
      "execution_count": null,
      "outputs": []
    },
    {
      "cell_type": "markdown",
      "source": [
        "## Represent data\n",
        "\n",
        "The following code cell creates preprocessing layers"
      ],
      "metadata": {
        "id": "Z7zM8735DClx"
      }
    },
    {
      "cell_type": "code",
      "source": [
        "# Keras Input tensors of float values\n",
        "inputs = {\n",
        "    'latitude':\n",
        "        tf.keras.layers.Input(shape=(1,), dtype=tf.float32, name='latitude'),\n",
        "    'longitude':\n",
        "        tf.keras.layers.Input(shape=(1,), dtype=tf.float32, name='longitude'),\n",
        "    'median_income':\n",
        "        tf.keras.layers.Input(shape=(1,), dtype=tf.float32, name='median_income'),\n",
        "    'population':\n",
        "        tf.keras.layers.Input(shape=(1,), dtype=tf.float32, name='population'),\n",
        "}\n",
        "\n",
        "# Create a Normalization layer to normalize the median_income data\n",
        "median_income = tf.keras.layers.Normalization(\n",
        "    name='normalization_median_income',\n",
        "    axis=None\n",
        ")\n",
        "median_income.adapt(train_df['median_income'])\n",
        "median_income = median_income(inputs.get('median_income'))\n",
        "\n"
      ],
      "metadata": {
        "id": "tScmPZVrCnTq"
      },
      "execution_count": null,
      "outputs": []
    }
  ]
}