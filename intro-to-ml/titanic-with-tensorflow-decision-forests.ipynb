{
 "cells": [
  {
   "cell_type": "code",
   "execution_count": 1,
   "id": "e1a2b00d",
   "metadata": {
    "_cell_guid": "b1076dfc-b9ad-4769-8c92-a6c4dae69d19",
    "_uuid": "8f2839f25d086af736a60e9eeb907d3b93b6e0e5",
    "execution": {
     "iopub.execute_input": "2024-02-17T13:47:12.839031Z",
     "iopub.status.busy": "2024-02-17T13:47:12.838213Z",
     "iopub.status.idle": "2024-02-17T13:47:30.156687Z",
     "shell.execute_reply": "2024-02-17T13:47:30.155370Z"
    },
    "papermill": {
     "duration": 17.329303,
     "end_time": "2024-02-17T13:47:30.159412",
     "exception": false,
     "start_time": "2024-02-17T13:47:12.830109",
     "status": "completed"
    },
    "tags": []
   },
   "outputs": [
    {
     "name": "stderr",
     "output_type": "stream",
     "text": [
      "2024-02-17 13:47:16.154629: E external/local_xla/xla/stream_executor/cuda/cuda_dnn.cc:9261] Unable to register cuDNN factory: Attempting to register factory for plugin cuDNN when one has already been registered\n",
      "2024-02-17 13:47:16.154768: E external/local_xla/xla/stream_executor/cuda/cuda_fft.cc:607] Unable to register cuFFT factory: Attempting to register factory for plugin cuFFT when one has already been registered\n",
      "2024-02-17 13:47:16.316249: E external/local_xla/xla/stream_executor/cuda/cuda_blas.cc:1515] Unable to register cuBLAS factory: Attempting to register factory for plugin cuBLAS when one has already been registered\n"
     ]
    },
    {
     "name": "stdout",
     "output_type": "stream",
     "text": [
      "/kaggle/input/titanic/train.csv\n",
      "/kaggle/input/titanic/test.csv\n",
      "/kaggle/input/titanic/gender_submission.csv\n"
     ]
    }
   ],
   "source": [
    "# This Python 3 environment comes with many helpful analytics libraries installed\n",
    "# It is defined by the kaggle/python Docker image: https://github.com/kaggle/docker-python\n",
    "# For example, here's several helpful packages to load\n",
    "\n",
    "import numpy as np # linear algebra\n",
    "import pandas as pd # data processing, CSV file I/O (e.g. pd.read_csv)\n",
    "import tensorflow as tf\n",
    "import tensorflow_decision_forests as tfdf\n",
    "\n",
    "# Input data files are available in the read-only \"../input/\" directory\n",
    "# For example, running this (by clicking run or pressing Shift+Enter) will list all files under the input directory\n",
    "\n",
    "import os\n",
    "for dirname, _, filenames in os.walk('/kaggle/input'):\n",
    "    for filename in filenames:\n",
    "        print(os.path.join(dirname, filename))\n",
    "\n",
    "# You can write up to 20GB to the current directory (/kaggle/working/) that gets preserved as output when you create a version using \"Save & Run All\" \n",
    "# You can also write temporary files to /kaggle/temp/, but they won't be saved outside of the current session"
   ]
  },
  {
   "cell_type": "markdown",
   "id": "1ca34980",
   "metadata": {
    "papermill": {
     "duration": 0.004528,
     "end_time": "2024-02-17T13:47:30.169213",
     "exception": false,
     "start_time": "2024-02-17T13:47:30.164685",
     "status": "completed"
    },
    "tags": []
   },
   "source": [
    "## Loading dataset"
   ]
  },
  {
   "cell_type": "code",
   "execution_count": 2,
   "id": "e3a7edc9",
   "metadata": {
    "execution": {
     "iopub.execute_input": "2024-02-17T13:47:30.180836Z",
     "iopub.status.busy": "2024-02-17T13:47:30.180177Z",
     "iopub.status.idle": "2024-02-17T13:47:30.222715Z",
     "shell.execute_reply": "2024-02-17T13:47:30.221635Z"
    },
    "papermill": {
     "duration": 0.050893,
     "end_time": "2024-02-17T13:47:30.224877",
     "exception": false,
     "start_time": "2024-02-17T13:47:30.173984",
     "status": "completed"
    },
    "tags": []
   },
   "outputs": [
    {
     "data": {
      "text/html": [
       "<div>\n",
       "<style scoped>\n",
       "    .dataframe tbody tr th:only-of-type {\n",
       "        vertical-align: middle;\n",
       "    }\n",
       "\n",
       "    .dataframe tbody tr th {\n",
       "        vertical-align: top;\n",
       "    }\n",
       "\n",
       "    .dataframe thead th {\n",
       "        text-align: right;\n",
       "    }\n",
       "</style>\n",
       "<table border=\"1\" class=\"dataframe\">\n",
       "  <thead>\n",
       "    <tr style=\"text-align: right;\">\n",
       "      <th></th>\n",
       "      <th>PassengerId</th>\n",
       "      <th>Survived</th>\n",
       "      <th>Pclass</th>\n",
       "      <th>Name</th>\n",
       "      <th>Sex</th>\n",
       "      <th>Age</th>\n",
       "      <th>SibSp</th>\n",
       "      <th>Parch</th>\n",
       "      <th>Ticket</th>\n",
       "      <th>Fare</th>\n",
       "      <th>Cabin</th>\n",
       "      <th>Embarked</th>\n",
       "    </tr>\n",
       "  </thead>\n",
       "  <tbody>\n",
       "    <tr>\n",
       "      <th>0</th>\n",
       "      <td>1</td>\n",
       "      <td>0</td>\n",
       "      <td>3</td>\n",
       "      <td>Braund, Mr. Owen Harris</td>\n",
       "      <td>male</td>\n",
       "      <td>22.0</td>\n",
       "      <td>1</td>\n",
       "      <td>0</td>\n",
       "      <td>A/5 21171</td>\n",
       "      <td>7.2500</td>\n",
       "      <td>NaN</td>\n",
       "      <td>S</td>\n",
       "    </tr>\n",
       "    <tr>\n",
       "      <th>1</th>\n",
       "      <td>2</td>\n",
       "      <td>1</td>\n",
       "      <td>1</td>\n",
       "      <td>Cumings, Mrs. John Bradley (Florence Briggs Th...</td>\n",
       "      <td>female</td>\n",
       "      <td>38.0</td>\n",
       "      <td>1</td>\n",
       "      <td>0</td>\n",
       "      <td>PC 17599</td>\n",
       "      <td>71.2833</td>\n",
       "      <td>C85</td>\n",
       "      <td>C</td>\n",
       "    </tr>\n",
       "    <tr>\n",
       "      <th>2</th>\n",
       "      <td>3</td>\n",
       "      <td>1</td>\n",
       "      <td>3</td>\n",
       "      <td>Heikkinen, Miss. Laina</td>\n",
       "      <td>female</td>\n",
       "      <td>26.0</td>\n",
       "      <td>0</td>\n",
       "      <td>0</td>\n",
       "      <td>STON/O2. 3101282</td>\n",
       "      <td>7.9250</td>\n",
       "      <td>NaN</td>\n",
       "      <td>S</td>\n",
       "    </tr>\n",
       "    <tr>\n",
       "      <th>3</th>\n",
       "      <td>4</td>\n",
       "      <td>1</td>\n",
       "      <td>1</td>\n",
       "      <td>Futrelle, Mrs. Jacques Heath (Lily May Peel)</td>\n",
       "      <td>female</td>\n",
       "      <td>35.0</td>\n",
       "      <td>1</td>\n",
       "      <td>0</td>\n",
       "      <td>113803</td>\n",
       "      <td>53.1000</td>\n",
       "      <td>C123</td>\n",
       "      <td>S</td>\n",
       "    </tr>\n",
       "    <tr>\n",
       "      <th>4</th>\n",
       "      <td>5</td>\n",
       "      <td>0</td>\n",
       "      <td>3</td>\n",
       "      <td>Allen, Mr. William Henry</td>\n",
       "      <td>male</td>\n",
       "      <td>35.0</td>\n",
       "      <td>0</td>\n",
       "      <td>0</td>\n",
       "      <td>373450</td>\n",
       "      <td>8.0500</td>\n",
       "      <td>NaN</td>\n",
       "      <td>S</td>\n",
       "    </tr>\n",
       "  </tbody>\n",
       "</table>\n",
       "</div>"
      ],
      "text/plain": [
       "   PassengerId  Survived  Pclass  \\\n",
       "0            1         0       3   \n",
       "1            2         1       1   \n",
       "2            3         1       3   \n",
       "3            4         1       1   \n",
       "4            5         0       3   \n",
       "\n",
       "                                                Name     Sex   Age  SibSp  \\\n",
       "0                            Braund, Mr. Owen Harris    male  22.0      1   \n",
       "1  Cumings, Mrs. John Bradley (Florence Briggs Th...  female  38.0      1   \n",
       "2                             Heikkinen, Miss. Laina  female  26.0      0   \n",
       "3       Futrelle, Mrs. Jacques Heath (Lily May Peel)  female  35.0      1   \n",
       "4                           Allen, Mr. William Henry    male  35.0      0   \n",
       "\n",
       "   Parch            Ticket     Fare Cabin Embarked  \n",
       "0      0         A/5 21171   7.2500   NaN        S  \n",
       "1      0          PC 17599  71.2833   C85        C  \n",
       "2      0  STON/O2. 3101282   7.9250   NaN        S  \n",
       "3      0            113803  53.1000  C123        S  \n",
       "4      0            373450   8.0500   NaN        S  "
      ]
     },
     "execution_count": 2,
     "metadata": {},
     "output_type": "execute_result"
    }
   ],
   "source": [
    "train_df = pd.read_csv(\"/kaggle/input/titanic/train.csv\")\n",
    "test_df = pd.read_csv(\"/kaggle/input/titanic/test.csv\")\n",
    "\n",
    "train_df.head()"
   ]
  },
  {
   "cell_type": "markdown",
   "id": "cfe93f0f",
   "metadata": {
    "papermill": {
     "duration": 0.004713,
     "end_time": "2024-02-17T13:47:30.234689",
     "exception": false,
     "start_time": "2024-02-17T13:47:30.229976",
     "status": "completed"
    },
    "tags": []
   },
   "source": [
    "## Preparing dataset"
   ]
  },
  {
   "cell_type": "code",
   "execution_count": 3,
   "id": "79b28d33",
   "metadata": {
    "execution": {
     "iopub.execute_input": "2024-02-17T13:47:30.246620Z",
     "iopub.status.busy": "2024-02-17T13:47:30.246154Z",
     "iopub.status.idle": "2024-02-17T13:47:30.276911Z",
     "shell.execute_reply": "2024-02-17T13:47:30.275674Z"
    },
    "papermill": {
     "duration": 0.039641,
     "end_time": "2024-02-17T13:47:30.279418",
     "exception": false,
     "start_time": "2024-02-17T13:47:30.239777",
     "status": "completed"
    },
    "tags": []
   },
   "outputs": [
    {
     "data": {
      "text/html": [
       "<div>\n",
       "<style scoped>\n",
       "    .dataframe tbody tr th:only-of-type {\n",
       "        vertical-align: middle;\n",
       "    }\n",
       "\n",
       "    .dataframe tbody tr th {\n",
       "        vertical-align: top;\n",
       "    }\n",
       "\n",
       "    .dataframe thead th {\n",
       "        text-align: right;\n",
       "    }\n",
       "</style>\n",
       "<table border=\"1\" class=\"dataframe\">\n",
       "  <thead>\n",
       "    <tr style=\"text-align: right;\">\n",
       "      <th></th>\n",
       "      <th>PassengerId</th>\n",
       "      <th>Survived</th>\n",
       "      <th>Pclass</th>\n",
       "      <th>Name</th>\n",
       "      <th>Sex</th>\n",
       "      <th>Age</th>\n",
       "      <th>SibSp</th>\n",
       "      <th>Parch</th>\n",
       "      <th>Ticket</th>\n",
       "      <th>Fare</th>\n",
       "      <th>Cabin</th>\n",
       "      <th>Embarked</th>\n",
       "      <th>Ticket_number</th>\n",
       "      <th>Ticket_item</th>\n",
       "    </tr>\n",
       "  </thead>\n",
       "  <tbody>\n",
       "    <tr>\n",
       "      <th>0</th>\n",
       "      <td>1</td>\n",
       "      <td>0</td>\n",
       "      <td>3</td>\n",
       "      <td>Braund Mr Owen Harris</td>\n",
       "      <td>male</td>\n",
       "      <td>22.0</td>\n",
       "      <td>1</td>\n",
       "      <td>0</td>\n",
       "      <td>A/5 21171</td>\n",
       "      <td>7.2500</td>\n",
       "      <td>NaN</td>\n",
       "      <td>S</td>\n",
       "      <td>21171</td>\n",
       "      <td>A/5</td>\n",
       "    </tr>\n",
       "    <tr>\n",
       "      <th>1</th>\n",
       "      <td>2</td>\n",
       "      <td>1</td>\n",
       "      <td>1</td>\n",
       "      <td>Cumings Mrs John Bradley Florence Briggs Thayer</td>\n",
       "      <td>female</td>\n",
       "      <td>38.0</td>\n",
       "      <td>1</td>\n",
       "      <td>0</td>\n",
       "      <td>PC 17599</td>\n",
       "      <td>71.2833</td>\n",
       "      <td>C85</td>\n",
       "      <td>C</td>\n",
       "      <td>17599</td>\n",
       "      <td>PC</td>\n",
       "    </tr>\n",
       "    <tr>\n",
       "      <th>2</th>\n",
       "      <td>3</td>\n",
       "      <td>1</td>\n",
       "      <td>3</td>\n",
       "      <td>Heikkinen Miss Laina</td>\n",
       "      <td>female</td>\n",
       "      <td>26.0</td>\n",
       "      <td>0</td>\n",
       "      <td>0</td>\n",
       "      <td>STON/O2. 3101282</td>\n",
       "      <td>7.9250</td>\n",
       "      <td>NaN</td>\n",
       "      <td>S</td>\n",
       "      <td>3101282</td>\n",
       "      <td>STON/O2.</td>\n",
       "    </tr>\n",
       "    <tr>\n",
       "      <th>3</th>\n",
       "      <td>4</td>\n",
       "      <td>1</td>\n",
       "      <td>1</td>\n",
       "      <td>Futrelle Mrs Jacques Heath Lily May Peel</td>\n",
       "      <td>female</td>\n",
       "      <td>35.0</td>\n",
       "      <td>1</td>\n",
       "      <td>0</td>\n",
       "      <td>113803</td>\n",
       "      <td>53.1000</td>\n",
       "      <td>C123</td>\n",
       "      <td>S</td>\n",
       "      <td>113803</td>\n",
       "      <td>NONE</td>\n",
       "    </tr>\n",
       "    <tr>\n",
       "      <th>4</th>\n",
       "      <td>5</td>\n",
       "      <td>0</td>\n",
       "      <td>3</td>\n",
       "      <td>Allen Mr William Henry</td>\n",
       "      <td>male</td>\n",
       "      <td>35.0</td>\n",
       "      <td>0</td>\n",
       "      <td>0</td>\n",
       "      <td>373450</td>\n",
       "      <td>8.0500</td>\n",
       "      <td>NaN</td>\n",
       "      <td>S</td>\n",
       "      <td>373450</td>\n",
       "      <td>NONE</td>\n",
       "    </tr>\n",
       "  </tbody>\n",
       "</table>\n",
       "</div>"
      ],
      "text/plain": [
       "   PassengerId  Survived  Pclass  \\\n",
       "0            1         0       3   \n",
       "1            2         1       1   \n",
       "2            3         1       3   \n",
       "3            4         1       1   \n",
       "4            5         0       3   \n",
       "\n",
       "                                              Name     Sex   Age  SibSp  \\\n",
       "0                            Braund Mr Owen Harris    male  22.0      1   \n",
       "1  Cumings Mrs John Bradley Florence Briggs Thayer  female  38.0      1   \n",
       "2                             Heikkinen Miss Laina  female  26.0      0   \n",
       "3         Futrelle Mrs Jacques Heath Lily May Peel  female  35.0      1   \n",
       "4                           Allen Mr William Henry    male  35.0      0   \n",
       "\n",
       "   Parch            Ticket     Fare Cabin Embarked Ticket_number Ticket_item  \n",
       "0      0         A/5 21171   7.2500   NaN        S         21171         A/5  \n",
       "1      0          PC 17599  71.2833   C85        C         17599          PC  \n",
       "2      0  STON/O2. 3101282   7.9250   NaN        S       3101282    STON/O2.  \n",
       "3      0            113803  53.1000  C123        S        113803        NONE  \n",
       "4      0            373450   8.0500   NaN        S        373450        NONE  "
      ]
     },
     "execution_count": 3,
     "metadata": {},
     "output_type": "execute_result"
    }
   ],
   "source": [
    "def preprocess(df):\n",
    "    df = df.copy()\n",
    "    \n",
    "    def normalize_name(x):\n",
    "        return \" \".join([v.strip(\",()[].\\\"'\") for v in x.split(\" \")])\n",
    "    \n",
    "    def ticket_number(x):\n",
    "        return x.split(\" \")[-1]\n",
    "    \n",
    "    def ticket_item(x):\n",
    "        items = x.split(\" \")\n",
    "        if len(items) == 1:\n",
    "            return \"NONE\"\n",
    "        return \"_\".join(items[0:-1])\n",
    "    \n",
    "    df[\"Name\"] = df[\"Name\"].apply(normalize_name)\n",
    "    df[\"Ticket_number\"] = df[\"Ticket\"].apply(ticket_number)\n",
    "    df[\"Ticket_item\"] = df[\"Ticket\"].apply(ticket_item)\n",
    "    return df\n",
    "\n",
    "preprocessed_train_df = preprocess(train_df)\n",
    "preprocessed_test_df = preprocess(test_df)\n",
    "\n",
    "preprocessed_train_df.head()"
   ]
  },
  {
   "cell_type": "code",
   "execution_count": 4,
   "id": "e722cbf3",
   "metadata": {
    "execution": {
     "iopub.execute_input": "2024-02-17T13:47:30.292470Z",
     "iopub.status.busy": "2024-02-17T13:47:30.292068Z",
     "iopub.status.idle": "2024-02-17T13:47:30.298351Z",
     "shell.execute_reply": "2024-02-17T13:47:30.297125Z"
    },
    "papermill": {
     "duration": 0.015763,
     "end_time": "2024-02-17T13:47:30.300916",
     "exception": false,
     "start_time": "2024-02-17T13:47:30.285153",
     "status": "completed"
    },
    "tags": []
   },
   "outputs": [
    {
     "name": "stdout",
     "output_type": "stream",
     "text": [
      "Input features: ['Pclass', 'Name', 'Sex', 'Age', 'SibSp', 'Parch', 'Fare', 'Cabin', 'Embarked', 'Ticket_number', 'Ticket_item']\n"
     ]
    }
   ],
   "source": [
    "# list of input features\n",
    "input_features = list(preprocessed_train_df.columns)\n",
    "input_features.remove(\"Ticket\")\n",
    "input_features.remove(\"PassengerId\")\n",
    "input_features.remove(\"Survived\")\n",
    "\n",
    "print(f\"Input features: {input_features}\")"
   ]
  },
  {
   "cell_type": "markdown",
   "id": "0a88d3d3",
   "metadata": {
    "papermill": {
     "duration": 0.005183,
     "end_time": "2024-02-17T13:47:30.311636",
     "exception": false,
     "start_time": "2024-02-17T13:47:30.306453",
     "status": "completed"
    },
    "tags": []
   },
   "source": [
    "## Convert Pandas dataset to Tensorflow Dataset"
   ]
  },
  {
   "cell_type": "code",
   "execution_count": 5,
   "id": "7dbfa81f",
   "metadata": {
    "execution": {
     "iopub.execute_input": "2024-02-17T13:47:30.324153Z",
     "iopub.status.busy": "2024-02-17T13:47:30.323764Z",
     "iopub.status.idle": "2024-02-17T13:47:30.563337Z",
     "shell.execute_reply": "2024-02-17T13:47:30.562004Z"
    },
    "papermill": {
     "duration": 0.249277,
     "end_time": "2024-02-17T13:47:30.566259",
     "exception": false,
     "start_time": "2024-02-17T13:47:30.316982",
     "status": "completed"
    },
    "tags": []
   },
   "outputs": [],
   "source": [
    "def tokenize_names(features, labels=None):\n",
    "    \"\"\" Divide the names into tokens. TF-DF can consume text tokens natively. \"\"\"\n",
    "    features[\"Name\"] = tf.strings.split(features[\"Name\"])\n",
    "    return features, labels\n",
    "\n",
    "train_ds = tfdf.keras.pd_dataframe_to_tf_dataset(preprocessed_train_df, label=\"Survived\").map(tokenize_names)\n",
    "test_ds = tfdf.keras.pd_dataframe_to_tf_dataset(preprocessed_test_df).map(tokenize_names)"
   ]
  },
  {
   "cell_type": "markdown",
   "id": "c40ac65b",
   "metadata": {
    "papermill": {
     "duration": 0.005128,
     "end_time": "2024-02-17T13:47:30.577013",
     "exception": false,
     "start_time": "2024-02-17T13:47:30.571885",
     "status": "completed"
    },
    "tags": []
   },
   "source": [
    "## Train model with default parameters"
   ]
  },
  {
   "cell_type": "markdown",
   "id": "29c3dcf1",
   "metadata": {
    "papermill": {
     "duration": 0.005047,
     "end_time": "2024-02-17T13:47:30.587390",
     "exception": false,
     "start_time": "2024-02-17T13:47:30.582343",
     "status": "completed"
    },
    "tags": []
   },
   "source": [
    "__Train model__ <br><br>\n",
    "Training the model firstly with a GradientBoostedTreesModel model with the default parameters."
   ]
  },
  {
   "cell_type": "code",
   "execution_count": 6,
   "id": "48ef28ba",
   "metadata": {
    "execution": {
     "iopub.execute_input": "2024-02-17T13:47:30.600241Z",
     "iopub.status.busy": "2024-02-17T13:47:30.599538Z",
     "iopub.status.idle": "2024-02-17T13:47:37.950236Z",
     "shell.execute_reply": "2024-02-17T13:47:37.948223Z"
    },
    "papermill": {
     "duration": 7.359832,
     "end_time": "2024-02-17T13:47:37.952569",
     "exception": false,
     "start_time": "2024-02-17T13:47:30.592737",
     "status": "completed"
    },
    "tags": []
   },
   "outputs": [
    {
     "name": "stderr",
     "output_type": "stream",
     "text": [
      "[WARNING 24-02-17 13:47:30.6466 UTC gradient_boosted_trees.cc:1886] \"goss_alpha\" set but \"sampling_method\" not equal to \"GOSS\".\n",
      "[WARNING 24-02-17 13:47:30.6474 UTC gradient_boosted_trees.cc:1897] \"goss_beta\" set but \"sampling_method\" not equal to \"GOSS\".\n",
      "[WARNING 24-02-17 13:47:30.6475 UTC gradient_boosted_trees.cc:1911] \"selective_gradient_boosting_ratio\" set but \"sampling_method\" not equal to \"SELGB\".\n",
      "[INFO 24-02-17 13:47:36.4834 UTC kernel.cc:1233] Loading model from path /tmp/tmpqllf6oax/model/ with prefix bb25ea3901064a4f\n",
      "[INFO 24-02-17 13:47:36.4897 UTC quick_scorer_extended.cc:903] The binary was compiled without AVX2 support, but your CPU supports it. Enable it for faster model inference.\n",
      "[INFO 24-02-17 13:47:36.4902 UTC abstract_model.cc:1344] Engine \"GradientBoostedTreesQuickScorerExtended\" built\n",
      "[INFO 24-02-17 13:47:36.4904 UTC kernel.cc:1061] Use fast generic engine\n"
     ]
    },
    {
     "name": "stdout",
     "output_type": "stream",
     "text": [
      "Accuracy: 0.8260869383811951 Loss:0.8608942627906799\n"
     ]
    }
   ],
   "source": [
    "model = tfdf.keras.GradientBoostedTreesModel(\n",
    "    verbose=0,\n",
    "    features = [tfdf.keras.FeatureUsage(name=n) for n in input_features],\n",
    "    exclude_non_specified_features=True,\n",
    "    random_seed=1234,\n",
    ")\n",
    "model.fit(train_ds)\n",
    "\n",
    "self_evaluation = model.make_inspector().evaluation()\n",
    "print(f\"Accuracy: {self_evaluation.accuracy} Loss:{self_evaluation.loss}\")"
   ]
  },
  {
   "cell_type": "markdown",
   "id": "36540099",
   "metadata": {
    "papermill": {
     "duration": 0.005499,
     "end_time": "2024-02-17T13:47:37.963897",
     "exception": false,
     "start_time": "2024-02-17T13:47:37.958398",
     "status": "completed"
    },
    "tags": []
   },
   "source": [
    "Using some specific parameters for creating the GBT model"
   ]
  },
  {
   "cell_type": "code",
   "execution_count": 7,
   "id": "a3930eeb",
   "metadata": {
    "execution": {
     "iopub.execute_input": "2024-02-17T13:47:37.977251Z",
     "iopub.status.busy": "2024-02-17T13:47:37.976805Z",
     "iopub.status.idle": "2024-02-17T13:47:39.565075Z",
     "shell.execute_reply": "2024-02-17T13:47:39.563526Z"
    },
    "papermill": {
     "duration": 1.598114,
     "end_time": "2024-02-17T13:47:39.567721",
     "exception": false,
     "start_time": "2024-02-17T13:47:37.969607",
     "status": "completed"
    },
    "tags": []
   },
   "outputs": [
    {
     "name": "stderr",
     "output_type": "stream",
     "text": [
      "[WARNING 24-02-17 13:47:37.9904 UTC gradient_boosted_trees.cc:1886] \"goss_alpha\" set but \"sampling_method\" not equal to \"GOSS\".\n",
      "[WARNING 24-02-17 13:47:37.9904 UTC gradient_boosted_trees.cc:1897] \"goss_beta\" set but \"sampling_method\" not equal to \"GOSS\".\n",
      "[WARNING 24-02-17 13:47:37.9905 UTC gradient_boosted_trees.cc:1911] \"selective_gradient_boosting_ratio\" set but \"sampling_method\" not equal to \"SELGB\".\n",
      "[INFO 24-02-17 13:47:38.9489 UTC kernel.cc:1233] Loading model from path /tmp/tmpmz0461mt/model/ with prefix 12ecb7ee31374608\n",
      "[INFO 24-02-17 13:47:38.9593 UTC decision_forest.cc:660] Model loaded with 48 root(s), 2482 node(s), and 10 input feature(s).\n",
      "[INFO 24-02-17 13:47:38.9596 UTC kernel.cc:1061] Use fast generic engine\n"
     ]
    },
    {
     "name": "stdout",
     "output_type": "stream",
     "text": [
      "Accuracy: 0.8024193644523621 Loss:0.9385538101196289\n"
     ]
    }
   ],
   "source": [
    "model = tfdf.keras.GradientBoostedTreesModel(\n",
    "    verbose=0,\n",
    "    features=[tfdf.keras.FeatureUsage(name=n) for n in input_features],\n",
    "    exclude_non_specified_features=True,\n",
    "    \n",
    "    min_examples=1,\n",
    "    categorical_algorithm=\"RANDOM\",\n",
    "    shrinkage=0.05,\n",
    "    split_axis=\"SPARSE_OBLIQUE\",\n",
    "    sparse_oblique_normalization=\"MIN_MAX\",\n",
    "    sparse_oblique_num_projections_exponent=2.0,\n",
    "    num_trees=2000,\n",
    "    validation_ratio=0.3,\n",
    "    random_seed=1234,\n",
    ")\n",
    "\n",
    "model.fit(train_ds)\n",
    "\n",
    "self_evaluation = model.make_inspector().evaluation()\n",
    "print(f\"Accuracy: {self_evaluation.accuracy} Loss:{self_evaluation.loss}\")"
   ]
  },
  {
   "cell_type": "code",
   "execution_count": 8,
   "id": "cdcd2da2",
   "metadata": {
    "execution": {
     "iopub.execute_input": "2024-02-17T13:47:39.583210Z",
     "iopub.status.busy": "2024-02-17T13:47:39.581957Z",
     "iopub.status.idle": "2024-02-17T13:47:39.600409Z",
     "shell.execute_reply": "2024-02-17T13:47:39.598990Z"
    },
    "papermill": {
     "duration": 0.029093,
     "end_time": "2024-02-17T13:47:39.603258",
     "exception": false,
     "start_time": "2024-02-17T13:47:39.574165",
     "status": "completed"
    },
    "tags": []
   },
   "outputs": [
    {
     "name": "stdout",
     "output_type": "stream",
     "text": [
      "Model: \"gradient_boosted_trees_model_1\"\n",
      "_________________________________________________________________\n",
      " Layer (type)                Output Shape              Param #   \n",
      "=================================================================\n",
      "=================================================================\n",
      "Total params: 1 (1.00 Byte)\n",
      "Trainable params: 0 (0.00 Byte)\n",
      "Non-trainable params: 1 (1.00 Byte)\n",
      "_________________________________________________________________\n",
      "Type: \"GRADIENT_BOOSTED_TREES\"\n",
      "Task: CLASSIFICATION\n",
      "Label: \"__LABEL\"\n",
      "\n",
      "Input Features (11):\n",
      "\tAge\n",
      "\tCabin\n",
      "\tEmbarked\n",
      "\tFare\n",
      "\tName\n",
      "\tParch\n",
      "\tPclass\n",
      "\tSex\n",
      "\tSibSp\n",
      "\tTicket_item\n",
      "\tTicket_number\n",
      "\n",
      "No weights\n",
      "\n",
      "Variable Importance: INV_MEAN_MIN_DEPTH:\n",
      "    1.           \"Sex\"  0.632060 ################\n",
      "    2.           \"Age\"  0.363398 ######\n",
      "    3.          \"Fare\"  0.283188 ###\n",
      "    4.          \"Name\"  0.207762 #\n",
      "    5.   \"Ticket_item\"  0.180666 \n",
      "    6. \"Ticket_number\"  0.179024 \n",
      "    7.        \"Pclass\"  0.177893 \n",
      "    8.      \"Embarked\"  0.177319 \n",
      "    9.         \"Parch\"  0.174762 \n",
      "   10.         \"SibSp\"  0.172219 \n",
      "\n",
      "Variable Importance: NUM_AS_ROOT:\n",
      "    1.  \"Sex\" 42.000000 ################\n",
      "    2. \"Name\"  5.000000 #\n",
      "    3.  \"Age\"  1.000000 \n",
      "\n",
      "Variable Importance: NUM_NODES:\n",
      "    1.           \"Age\" 600.000000 ################\n",
      "    2.          \"Fare\" 349.000000 #########\n",
      "    3.          \"Name\" 90.000000 ##\n",
      "    4.   \"Ticket_item\" 49.000000 #\n",
      "    5.           \"Sex\" 46.000000 #\n",
      "    6.         \"Parch\" 25.000000 \n",
      "    7.      \"Embarked\" 20.000000 \n",
      "    8. \"Ticket_number\" 20.000000 \n",
      "    9.        \"Pclass\" 14.000000 \n",
      "   10.         \"SibSp\"  4.000000 \n",
      "\n",
      "Variable Importance: SUM_SCORE:\n",
      "    1.           \"Sex\" 385.377557 ################\n",
      "    2.           \"Age\" 340.244542 ##############\n",
      "    3.          \"Fare\" 275.962744 ###########\n",
      "    4.          \"Name\" 104.129492 ####\n",
      "    5.   \"Ticket_item\" 27.833645 #\n",
      "    6.        \"Pclass\" 23.481065 \n",
      "    7. \"Ticket_number\" 14.112277 \n",
      "    8.      \"Embarked\" 13.233214 \n",
      "    9.         \"Parch\"  4.856204 \n",
      "   10.         \"SibSp\"  0.986016 \n",
      "\n",
      "\n",
      "\n",
      "Loss: BINOMIAL_LOG_LIKELIHOOD\n",
      "Validation loss value: 0.938554\n",
      "Number of trees per iteration: 1\n",
      "Node format: NOT_SET\n",
      "Number of trees: 48\n",
      "Total number of nodes: 2482\n",
      "\n",
      "Number of nodes by tree:\n",
      "Count: 48 Average: 51.7083 StdDev: 5.18796\n",
      "Min: 39 Max: 63 Ignored: 0\n",
      "----------------------------------------------\n",
      "[ 39, 40) 1   2.08%   2.08% #\n",
      "[ 40, 41) 0   0.00%   2.08%\n",
      "[ 41, 42) 1   2.08%   4.17% #\n",
      "[ 42, 44) 2   4.17%   8.33% ##\n",
      "[ 44, 45) 0   0.00%   8.33%\n",
      "[ 45, 46) 1   2.08%  10.42% #\n",
      "[ 46, 47) 0   0.00%  10.42%\n",
      "[ 47, 49) 6  12.50%  22.92% #######\n",
      "[ 49, 50) 6  12.50%  35.42% #######\n",
      "[ 50, 51) 0   0.00%  35.42%\n",
      "[ 51, 52) 9  18.75%  54.17% ##########\n",
      "[ 52, 54) 7  14.58%  68.75% ########\n",
      "[ 54, 55) 0   0.00%  68.75%\n",
      "[ 55, 56) 5  10.42%  79.17% ######\n",
      "[ 56, 57) 0   0.00%  79.17%\n",
      "[ 57, 59) 4   8.33%  87.50% ####\n",
      "[ 59, 60) 3   6.25%  93.75% ###\n",
      "[ 60, 61) 0   0.00%  93.75%\n",
      "[ 61, 62) 2   4.17%  97.92% ##\n",
      "[ 62, 63] 1   2.08% 100.00% #\n",
      "\n",
      "Depth by leafs:\n",
      "Count: 1265 Average: 4.82055 StdDev: 0.462221\n",
      "Min: 2 Max: 5 Ignored: 0\n",
      "----------------------------------------------\n",
      "[ 2, 3)    2   0.16%   0.16%\n",
      "[ 3, 4)   36   2.85%   3.00%\n",
      "[ 4, 5)  149  11.78%  14.78% #\n",
      "[ 5, 5] 1078  85.22% 100.00% ##########\n",
      "\n",
      "Number of training obs by leaf:\n",
      "Count: 1265 Average: 24.3984 StdDev: 60.6308\n",
      "Min: 1 Max: 453 Ignored: 0\n",
      "----------------------------------------------\n",
      "[   1,  23) 1022  80.79%  80.79% ##########\n",
      "[  23,  46)   95   7.51%  88.30% #\n",
      "[  46,  68)   35   2.77%  91.07%\n",
      "[  68,  91)   13   1.03%  92.09%\n",
      "[  91, 114)   19   1.50%  93.60%\n",
      "[ 114, 136)   24   1.90%  95.49%\n",
      "[ 136, 159)    8   0.63%  96.13%\n",
      "[ 159, 182)    2   0.16%  96.28%\n",
      "[ 182, 204)    4   0.32%  96.60%\n",
      "[ 204, 227)    1   0.08%  96.68%\n",
      "[ 227, 250)    2   0.16%  96.84%\n",
      "[ 250, 272)    0   0.00%  96.84%\n",
      "[ 272, 295)    6   0.47%  97.31%\n",
      "[ 295, 318)   20   1.58%  98.89%\n",
      "[ 318, 340)   10   0.79%  99.68%\n",
      "[ 340, 363)    2   0.16%  99.84%\n",
      "[ 363, 386)    1   0.08%  99.92%\n",
      "[ 386, 408)    0   0.00%  99.92%\n",
      "[ 408, 431)    0   0.00%  99.92%\n",
      "[ 431, 453]    1   0.08% 100.00%\n",
      "\n",
      "Attribute in nodes:\n",
      "\t600 : Age [NUMERICAL]\n",
      "\t349 : Fare [NUMERICAL]\n",
      "\t90 : Name [CATEGORICAL_SET]\n",
      "\t49 : Ticket_item [CATEGORICAL]\n",
      "\t46 : Sex [CATEGORICAL]\n",
      "\t25 : Parch [NUMERICAL]\n",
      "\t20 : Ticket_number [CATEGORICAL]\n",
      "\t20 : Embarked [CATEGORICAL]\n",
      "\t14 : Pclass [NUMERICAL]\n",
      "\t4 : SibSp [NUMERICAL]\n",
      "\n",
      "Attribute in nodes with depth <= 0:\n",
      "\t42 : Sex [CATEGORICAL]\n",
      "\t5 : Name [CATEGORICAL_SET]\n",
      "\t1 : Age [NUMERICAL]\n",
      "\n",
      "Attribute in nodes with depth <= 1:\n",
      "\t55 : Age [NUMERICAL]\n",
      "\t42 : Sex [CATEGORICAL]\n",
      "\t33 : Fare [NUMERICAL]\n",
      "\t9 : Name [CATEGORICAL_SET]\n",
      "\t4 : Pclass [NUMERICAL]\n",
      "\t1 : Ticket_number [CATEGORICAL]\n",
      "\n",
      "Attribute in nodes with depth <= 2:\n",
      "\t153 : Age [NUMERICAL]\n",
      "\t83 : Fare [NUMERICAL]\n",
      "\t43 : Sex [CATEGORICAL]\n",
      "\t25 : Name [CATEGORICAL_SET]\n",
      "\t8 : Ticket_number [CATEGORICAL]\n",
      "\t8 : Ticket_item [CATEGORICAL]\n",
      "\t8 : Embarked [CATEGORICAL]\n",
      "\t5 : Pclass [NUMERICAL]\n",
      "\t1 : Parch [NUMERICAL]\n",
      "\n",
      "Attribute in nodes with depth <= 3:\n",
      "\t312 : Age [NUMERICAL]\n",
      "\t195 : Fare [NUMERICAL]\n",
      "\t51 : Name [CATEGORICAL_SET]\n",
      "\t45 : Sex [CATEGORICAL]\n",
      "\t28 : Ticket_item [CATEGORICAL]\n",
      "\t17 : Ticket_number [CATEGORICAL]\n",
      "\t14 : Parch [NUMERICAL]\n",
      "\t8 : Pclass [NUMERICAL]\n",
      "\t8 : Embarked [CATEGORICAL]\n",
      "\n",
      "Attribute in nodes with depth <= 5:\n",
      "\t600 : Age [NUMERICAL]\n",
      "\t349 : Fare [NUMERICAL]\n",
      "\t90 : Name [CATEGORICAL_SET]\n",
      "\t49 : Ticket_item [CATEGORICAL]\n",
      "\t46 : Sex [CATEGORICAL]\n",
      "\t25 : Parch [NUMERICAL]\n",
      "\t20 : Ticket_number [CATEGORICAL]\n",
      "\t20 : Embarked [CATEGORICAL]\n",
      "\t14 : Pclass [NUMERICAL]\n",
      "\t4 : SibSp [NUMERICAL]\n",
      "\n",
      "Condition type in nodes:\n",
      "\t992 : ObliqueCondition\n",
      "\t153 : ContainsBitmapCondition\n",
      "\t72 : ContainsCondition\n",
      "Condition type in nodes with depth <= 0:\n",
      "\t46 : ContainsBitmapCondition\n",
      "\t1 : ObliqueCondition\n",
      "\t1 : ContainsCondition\n",
      "Condition type in nodes with depth <= 1:\n",
      "\t92 : ObliqueCondition\n",
      "\t50 : ContainsBitmapCondition\n",
      "\t2 : ContainsCondition\n",
      "Condition type in nodes with depth <= 2:\n",
      "\t242 : ObliqueCondition\n",
      "\t78 : ContainsBitmapCondition\n",
      "\t14 : ContainsCondition\n",
      "Condition type in nodes with depth <= 3:\n",
      "\t529 : ObliqueCondition\n",
      "\t111 : ContainsBitmapCondition\n",
      "\t38 : ContainsCondition\n",
      "Condition type in nodes with depth <= 5:\n",
      "\t992 : ObliqueCondition\n",
      "\t153 : ContainsBitmapCondition\n",
      "\t72 : ContainsCondition\n",
      "\n",
      "Training logs:\n",
      "Number of iteration to final model: 48\n",
      "\tIter:1 train-loss:1.255197 valid-loss:1.341015  train-accuracy:0.632970 valid-accuracy:0.572581\n",
      "\tIter:2 train-loss:1.200379 valid-loss:1.301068  train-accuracy:0.632970 valid-accuracy:0.572581\n",
      "\tIter:3 train-loss:1.149282 valid-loss:1.264319  train-accuracy:0.632970 valid-accuracy:0.572581\n",
      "\tIter:4 train-loss:1.104637 valid-loss:1.230947  train-accuracy:0.632970 valid-accuracy:0.572581\n",
      "\tIter:5 train-loss:1.062758 valid-loss:1.204717  train-accuracy:0.807154 valid-accuracy:0.693548\n",
      "\tIter:6 train-loss:1.021002 valid-loss:1.173376  train-accuracy:0.841369 valid-accuracy:0.717742\n",
      "\tIter:16 train-loss:0.757319 valid-loss:1.024746  train-accuracy:0.916019 valid-accuracy:0.806452\n",
      "\tIter:26 train-loss:0.614254 valid-loss:0.968876  train-accuracy:0.933126 valid-accuracy:0.802419\n",
      "\tIter:36 train-loss:0.525066 valid-loss:0.943295  train-accuracy:0.939347 valid-accuracy:0.806452\n",
      "\tIter:46 train-loss:0.462640 valid-loss:0.942562  train-accuracy:0.950233 valid-accuracy:0.798387\n",
      "\tIter:56 train-loss:0.408353 valid-loss:0.944950  train-accuracy:0.959565 valid-accuracy:0.798387\n",
      "\tIter:66 train-loss:0.367634 valid-loss:0.950023  train-accuracy:0.962675 valid-accuracy:0.806452\n",
      "\tIter:76 train-loss:0.339924 valid-loss:0.951396  train-accuracy:0.964230 valid-accuracy:0.802419\n",
      "\n"
     ]
    }
   ],
   "source": [
    "model.summary()"
   ]
  },
  {
   "cell_type": "markdown",
   "id": "a2e62ac6",
   "metadata": {
    "papermill": {
     "duration": 0.006507,
     "end_time": "2024-02-17T13:47:39.617671",
     "exception": false,
     "start_time": "2024-02-17T13:47:39.611164",
     "status": "completed"
    },
    "tags": []
   },
   "source": [
    "## Making predictions"
   ]
  },
  {
   "cell_type": "code",
   "execution_count": 9,
   "id": "5f4830fd",
   "metadata": {
    "execution": {
     "iopub.execute_input": "2024-02-17T13:47:39.633189Z",
     "iopub.status.busy": "2024-02-17T13:47:39.632448Z",
     "iopub.status.idle": "2024-02-17T13:47:40.805248Z",
     "shell.execute_reply": "2024-02-17T13:47:40.803777Z"
    },
    "papermill": {
     "duration": 1.184,
     "end_time": "2024-02-17T13:47:40.808357",
     "exception": false,
     "start_time": "2024-02-17T13:47:39.624357",
     "status": "completed"
    },
    "tags": []
   },
   "outputs": [
    {
     "name": "stdout",
     "output_type": "stream",
     "text": [
      "Submission exported to /kaggle/working/submission.csv\n",
      "PassengerId,Survived\r\n",
      "892,0\r\n",
      "893,0\r\n",
      "894,0\r\n",
      "895,0\r\n",
      "896,0\r\n",
      "897,1\r\n",
      "898,0\r\n",
      "899,0\r\n",
      "900,1\r\n"
     ]
    }
   ],
   "source": [
    "def prediction_to_kaggle_format(model, threshold=0.5):\n",
    "    proba_survive = model.predict(test_ds, verbose=0)[:,0]\n",
    "    return pd.DataFrame({\n",
    "        \"PassengerId\": test_df[\"PassengerId\"],\n",
    "        \"Survived\": (proba_survive >= threshold).astype(int)\n",
    "    })\n",
    "\n",
    "def make_submission(kaggle_predictions):\n",
    "    path = \"/kaggle/working/submission.csv\"\n",
    "    kaggle_predictions.to_csv(path, index=False)\n",
    "    print(f\"Submission exported to {path}\")\n",
    "    \n",
    "kaggle_predictions = prediction_to_kaggle_format(model)\n",
    "make_submission(kaggle_predictions)\n",
    "!head /kaggle/working/submission.csv"
   ]
  },
  {
   "cell_type": "markdown",
   "id": "61678ba0",
   "metadata": {
    "papermill": {
     "duration": 0.006932,
     "end_time": "2024-02-17T13:47:40.822938",
     "exception": false,
     "start_time": "2024-02-17T13:47:40.816006",
     "status": "completed"
    },
    "tags": []
   },
   "source": [
    "## Training a model with hyperparameter tuning"
   ]
  },
  {
   "cell_type": "code",
   "execution_count": 10,
   "id": "5eb9de32",
   "metadata": {
    "execution": {
     "iopub.execute_input": "2024-02-17T13:47:40.840372Z",
     "iopub.status.busy": "2024-02-17T13:47:40.839920Z",
     "iopub.status.idle": "2024-02-17T13:47:40.846536Z",
     "shell.execute_reply": "2024-02-17T13:47:40.845271Z"
    },
    "papermill": {
     "duration": 0.018721,
     "end_time": "2024-02-17T13:47:40.848968",
     "exception": false,
     "start_time": "2024-02-17T13:47:40.830247",
     "status": "completed"
    },
    "tags": []
   },
   "outputs": [],
   "source": [
    "# tuner = tfdf.tuner.RandomSearch(num_trials=1000)\n",
    "# tuner.choice(\"min_examples\", [2, 5, 7, 10])\n",
    "# tuner.choice(\"categorical_algorithm\", [\"CART\", \"RANDOM\"])\n",
    "\n",
    "# local_search_space = tuner.choice(\"growing_strategy\", [\"LOCAL\"])\n",
    "# local_search_space.choice(\"max_depth\", [3, 4, 5, 6, 8])\n",
    "\n",
    "# global_search_space = tuner.choice(\"growing_strategy\", [\"BEST_FIRST_GLOBAL\"], merge=True)\n",
    "# global_search_space.choice(\"max_num_nodes\", [16, 32, 64, 128, 256])\n",
    "\n",
    "# tuner.choice(\"use_hessian_gain\", [True, False])\n",
    "# tuner.choice(\"shrinkage\", [0.02, 0.05, 0.10, 0.15])\n",
    "# tuner.choice(\"num_candidate_attributes_ratio\", [0.2, 0.5, 0.9, 1.0])\n",
    "\n",
    "\n",
    "# tuner.choice(\"split_axis\", [\"AXIS_ALIGNED\"])\n",
    "# oblique_space = tuner.choice(\"split_axis\", [\"SPARSE_OBLIQUE\"], merge=True)\n",
    "# oblique_space.choice(\"sparse_oblique_normalization\",\n",
    "#                      [\"NONE\", \"STANDARD_DEVIATION\", \"MIN_MAX\"])\n",
    "# oblique_space.choice(\"sparse_oblique_weights\", [\"BINARY\", \"CONTINUOUS\"])\n",
    "# oblique_space.choice(\"sparse_oblique_num_projections_exponent\", [1.0, 1.5])\n",
    "\n",
    "# # Tune the model. Notice the `tuner=tuner`.\n",
    "# tuned_model = tfdf.keras.GradientBoostedTreesModel(tuner=tuner)\n",
    "# tuned_model.fit(train_ds, verbose=0)\n",
    "\n",
    "# tuned_self_evaluation = tuned_model.make_inspector().evaluation()\n",
    "# print(f\"Accuracy: {tuned_self_evaluation.accuracy} Loss:{tuned_self_evaluation.loss}\")"
   ]
  },
  {
   "cell_type": "code",
   "execution_count": null,
   "id": "29308016",
   "metadata": {
    "papermill": {
     "duration": 0.00696,
     "end_time": "2024-02-17T13:47:40.863102",
     "exception": false,
     "start_time": "2024-02-17T13:47:40.856142",
     "status": "completed"
    },
    "tags": []
   },
   "outputs": [],
   "source": []
  }
 ],
 "metadata": {
  "kaggle": {
   "accelerator": "none",
   "dataSources": [
    {
     "databundleVersionId": 26502,
     "sourceId": 3136,
     "sourceType": "competition"
    }
   ],
   "dockerImageVersionId": 30646,
   "isGpuEnabled": false,
   "isInternetEnabled": false,
   "language": "python",
   "sourceType": "notebook"
  },
  "kernelspec": {
   "display_name": "Python 3",
   "language": "python",
   "name": "python3"
  },
  "language_info": {
   "codemirror_mode": {
    "name": "ipython",
    "version": 3
   },
   "file_extension": ".py",
   "mimetype": "text/x-python",
   "name": "python",
   "nbconvert_exporter": "python",
   "pygments_lexer": "ipython3",
   "version": "3.10.13"
  },
  "papermill": {
   "default_parameters": {},
   "duration": 32.981567,
   "end_time": "2024-02-17T13:47:42.596681",
   "environment_variables": {},
   "exception": null,
   "input_path": "__notebook__.ipynb",
   "output_path": "__notebook__.ipynb",
   "parameters": {},
   "start_time": "2024-02-17T13:47:09.615114",
   "version": "2.5.0"
  }
 },
 "nbformat": 4,
 "nbformat_minor": 5
}
