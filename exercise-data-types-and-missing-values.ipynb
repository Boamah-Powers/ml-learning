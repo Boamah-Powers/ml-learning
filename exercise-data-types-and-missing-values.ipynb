{
 "cells": [
  {
   "cell_type": "markdown",
   "id": "8ce84f0b",
   "metadata": {
    "papermill": {
     "duration": 0.007093,
     "end_time": "2024-02-20T12:50:22.230609",
     "exception": false,
     "start_time": "2024-02-20T12:50:22.223516",
     "status": "completed"
    },
    "tags": []
   },
   "source": [
    "**This notebook is an exercise in the [Pandas](https://www.kaggle.com/learn/pandas) course.  You can reference the tutorial at [this link](https://www.kaggle.com/residentmario/data-types-and-missing-values).**\n",
    "\n",
    "---\n"
   ]
  },
  {
   "cell_type": "markdown",
   "id": "5fe5f87f",
   "metadata": {
    "papermill": {
     "duration": 0.005855,
     "end_time": "2024-02-20T12:50:22.242950",
     "exception": false,
     "start_time": "2024-02-20T12:50:22.237095",
     "status": "completed"
    },
    "tags": []
   },
   "source": [
    "# Introduction\n",
    "\n",
    "Run the following cell to load your data and some utility functions."
   ]
  },
  {
   "cell_type": "code",
   "execution_count": 1,
   "id": "356996f1",
   "metadata": {
    "execution": {
     "iopub.execute_input": "2024-02-20T12:50:22.258036Z",
     "iopub.status.busy": "2024-02-20T12:50:22.257024Z",
     "iopub.status.idle": "2024-02-20T12:50:26.404193Z",
     "shell.execute_reply": "2024-02-20T12:50:26.401443Z"
    },
    "papermill": {
     "duration": 4.157592,
     "end_time": "2024-02-20T12:50:26.407167",
     "exception": false,
     "start_time": "2024-02-20T12:50:22.249575",
     "status": "completed"
    },
    "tags": []
   },
   "outputs": [
    {
     "name": "stdout",
     "output_type": "stream",
     "text": [
      "Setup complete.\n"
     ]
    }
   ],
   "source": [
    "import pandas as pd\n",
    "\n",
    "reviews = pd.read_csv(\"../input/wine-reviews/winemag-data-130k-v2.csv\", index_col=0)\n",
    "\n",
    "from learntools.core import binder; binder.bind(globals())\n",
    "from learntools.pandas.data_types_and_missing_data import *\n",
    "print(\"Setup complete.\")"
   ]
  },
  {
   "cell_type": "markdown",
   "id": "d9f3a3ad",
   "metadata": {
    "papermill": {
     "duration": 0.00591,
     "end_time": "2024-02-20T12:50:26.419314",
     "exception": false,
     "start_time": "2024-02-20T12:50:26.413404",
     "status": "completed"
    },
    "tags": []
   },
   "source": [
    "# Exercises"
   ]
  },
  {
   "cell_type": "markdown",
   "id": "c88bd86f",
   "metadata": {
    "papermill": {
     "duration": 0.005862,
     "end_time": "2024-02-20T12:50:26.431324",
     "exception": false,
     "start_time": "2024-02-20T12:50:26.425462",
     "status": "completed"
    },
    "tags": []
   },
   "source": [
    "## 1. \n",
    "What is the data type of the `points` column in the dataset?"
   ]
  },
  {
   "cell_type": "code",
   "execution_count": 2,
   "id": "676b2d0d",
   "metadata": {
    "execution": {
     "iopub.execute_input": "2024-02-20T12:50:26.445975Z",
     "iopub.status.busy": "2024-02-20T12:50:26.444832Z",
     "iopub.status.idle": "2024-02-20T12:50:26.455407Z",
     "shell.execute_reply": "2024-02-20T12:50:26.454556Z"
    },
    "papermill": {
     "duration": 0.020454,
     "end_time": "2024-02-20T12:50:26.457864",
     "exception": false,
     "start_time": "2024-02-20T12:50:26.437410",
     "status": "completed"
    },
    "tags": []
   },
   "outputs": [
    {
     "data": {
      "application/javascript": [
       "parent.postMessage({\"jupyterEvent\": \"custom.exercise_interaction\", \"data\": {\"outcomeType\": 1, \"valueTowardsCompletion\": 0.25, \"interactionType\": 1, \"questionType\": 1, \"questionId\": \"1_PointsDtype\", \"learnToolsVersion\": \"0.3.4\", \"failureMessage\": \"\", \"exceptionClass\": \"\", \"trace\": \"\"}}, \"*\")"
      ],
      "text/plain": [
       "<IPython.core.display.Javascript object>"
      ]
     },
     "metadata": {},
     "output_type": "display_data"
    },
    {
     "data": {
      "text/markdown": [
       "<span style=\"color:#33cc33\">Correct</span>"
      ],
      "text/plain": [
       "Correct"
      ]
     },
     "metadata": {},
     "output_type": "display_data"
    }
   ],
   "source": [
    "# Your code here\n",
    "dtype = reviews.points.dtype\n",
    "\n",
    "# Check your answer\n",
    "q1.check()"
   ]
  },
  {
   "cell_type": "code",
   "execution_count": 3,
   "id": "162dddf5",
   "metadata": {
    "execution": {
     "iopub.execute_input": "2024-02-20T12:50:26.474387Z",
     "iopub.status.busy": "2024-02-20T12:50:26.473689Z",
     "iopub.status.idle": "2024-02-20T12:50:26.478134Z",
     "shell.execute_reply": "2024-02-20T12:50:26.477210Z"
    },
    "papermill": {
     "duration": 0.015327,
     "end_time": "2024-02-20T12:50:26.480518",
     "exception": false,
     "start_time": "2024-02-20T12:50:26.465191",
     "status": "completed"
    },
    "tags": []
   },
   "outputs": [],
   "source": [
    "#q1.hint()\n",
    "#q1.solution()"
   ]
  },
  {
   "cell_type": "markdown",
   "id": "c45e85d6",
   "metadata": {
    "papermill": {
     "duration": 0.0063,
     "end_time": "2024-02-20T12:50:26.493427",
     "exception": false,
     "start_time": "2024-02-20T12:50:26.487127",
     "status": "completed"
    },
    "tags": []
   },
   "source": [
    "## 2. \n",
    "Create a Series from entries in the `points` column, but convert the entries to strings. Hint: strings are `str` in native Python."
   ]
  },
  {
   "cell_type": "code",
   "execution_count": 4,
   "id": "f82114ff",
   "metadata": {
    "execution": {
     "iopub.execute_input": "2024-02-20T12:50:26.508608Z",
     "iopub.status.busy": "2024-02-20T12:50:26.507944Z",
     "iopub.status.idle": "2024-02-20T12:50:26.582051Z",
     "shell.execute_reply": "2024-02-20T12:50:26.580785Z"
    },
    "papermill": {
     "duration": 0.084757,
     "end_time": "2024-02-20T12:50:26.584731",
     "exception": false,
     "start_time": "2024-02-20T12:50:26.499974",
     "status": "completed"
    },
    "tags": []
   },
   "outputs": [
    {
     "data": {
      "application/javascript": [
       "parent.postMessage({\"jupyterEvent\": \"custom.exercise_interaction\", \"data\": {\"outcomeType\": 1, \"valueTowardsCompletion\": 0.25, \"interactionType\": 1, \"questionType\": 1, \"questionId\": \"2_StrPoints\", \"learnToolsVersion\": \"0.3.4\", \"failureMessage\": \"\", \"exceptionClass\": \"\", \"trace\": \"\"}}, \"*\")"
      ],
      "text/plain": [
       "<IPython.core.display.Javascript object>"
      ]
     },
     "metadata": {},
     "output_type": "display_data"
    },
    {
     "data": {
      "text/markdown": [
       "<span style=\"color:#33cc33\">Correct</span>"
      ],
      "text/plain": [
       "Correct"
      ]
     },
     "metadata": {},
     "output_type": "display_data"
    }
   ],
   "source": [
    "point_strings = reviews.points.astype(str)\n",
    "\n",
    "# Check your answer\n",
    "q2.check()"
   ]
  },
  {
   "cell_type": "code",
   "execution_count": 5,
   "id": "c125e4a9",
   "metadata": {
    "execution": {
     "iopub.execute_input": "2024-02-20T12:50:26.600940Z",
     "iopub.status.busy": "2024-02-20T12:50:26.600559Z",
     "iopub.status.idle": "2024-02-20T12:50:26.605190Z",
     "shell.execute_reply": "2024-02-20T12:50:26.604040Z"
    },
    "papermill": {
     "duration": 0.015588,
     "end_time": "2024-02-20T12:50:26.607624",
     "exception": false,
     "start_time": "2024-02-20T12:50:26.592036",
     "status": "completed"
    },
    "tags": []
   },
   "outputs": [],
   "source": [
    "#q2.hint()\n",
    "#q2.solution()"
   ]
  },
  {
   "cell_type": "markdown",
   "id": "be27c044",
   "metadata": {
    "papermill": {
     "duration": 0.006737,
     "end_time": "2024-02-20T12:50:26.621497",
     "exception": false,
     "start_time": "2024-02-20T12:50:26.614760",
     "status": "completed"
    },
    "tags": []
   },
   "source": [
    "## 3.\n",
    "Sometimes the price column is null. How many reviews in the dataset are missing a price?"
   ]
  },
  {
   "cell_type": "code",
   "execution_count": 6,
   "id": "e68f9eda",
   "metadata": {
    "execution": {
     "iopub.execute_input": "2024-02-20T12:50:26.637424Z",
     "iopub.status.busy": "2024-02-20T12:50:26.636952Z",
     "iopub.status.idle": "2024-02-20T12:50:26.654728Z",
     "shell.execute_reply": "2024-02-20T12:50:26.653677Z"
    },
    "papermill": {
     "duration": 0.028413,
     "end_time": "2024-02-20T12:50:26.656997",
     "exception": false,
     "start_time": "2024-02-20T12:50:26.628584",
     "status": "completed"
    },
    "tags": []
   },
   "outputs": [
    {
     "data": {
      "application/javascript": [
       "parent.postMessage({\"jupyterEvent\": \"custom.exercise_interaction\", \"data\": {\"outcomeType\": 1, \"valueTowardsCompletion\": 0.25, \"interactionType\": 1, \"questionType\": 1, \"questionId\": \"3_CountMissingPrices\", \"learnToolsVersion\": \"0.3.4\", \"failureMessage\": \"\", \"exceptionClass\": \"\", \"trace\": \"\"}}, \"*\")"
      ],
      "text/plain": [
       "<IPython.core.display.Javascript object>"
      ]
     },
     "metadata": {},
     "output_type": "display_data"
    },
    {
     "data": {
      "text/markdown": [
       "<span style=\"color:#33cc33\">Correct</span>"
      ],
      "text/plain": [
       "Correct"
      ]
     },
     "metadata": {},
     "output_type": "display_data"
    }
   ],
   "source": [
    "n_missing_prices = len(reviews[pd.isnull(reviews.price)])\n",
    "\n",
    "# Check your answer\n",
    "q3.check()"
   ]
  },
  {
   "cell_type": "code",
   "execution_count": 7,
   "id": "de8f89e9",
   "metadata": {
    "execution": {
     "iopub.execute_input": "2024-02-20T12:50:26.673894Z",
     "iopub.status.busy": "2024-02-20T12:50:26.672813Z",
     "iopub.status.idle": "2024-02-20T12:50:26.677539Z",
     "shell.execute_reply": "2024-02-20T12:50:26.676755Z"
    },
    "papermill": {
     "duration": 0.01548,
     "end_time": "2024-02-20T12:50:26.679772",
     "exception": false,
     "start_time": "2024-02-20T12:50:26.664292",
     "status": "completed"
    },
    "tags": []
   },
   "outputs": [],
   "source": [
    "#q3.hint()\n",
    "# q3.solution()"
   ]
  },
  {
   "cell_type": "markdown",
   "id": "4195a0b5",
   "metadata": {
    "papermill": {
     "duration": 0.007435,
     "end_time": "2024-02-20T12:50:26.694507",
     "exception": false,
     "start_time": "2024-02-20T12:50:26.687072",
     "status": "completed"
    },
    "tags": []
   },
   "source": [
    "## 4.\n",
    "What are the most common wine-producing regions? Create a Series counting the number of times each value occurs in the `region_1` field. This field is often missing data, so replace missing values with `Unknown`. Sort in descending order.  Your output should look something like this:\n",
    "\n",
    "```\n",
    "Unknown                    21247\n",
    "Napa Valley                 4480\n",
    "                           ...  \n",
    "Bardolino Superiore            1\n",
    "Primitivo del Tarantino        1\n",
    "Name: region_1, Length: 1230, dtype: int64\n",
    "```"
   ]
  },
  {
   "cell_type": "code",
   "execution_count": 8,
   "id": "6b15130d",
   "metadata": {
    "execution": {
     "iopub.execute_input": "2024-02-20T12:50:26.712558Z",
     "iopub.status.busy": "2024-02-20T12:50:26.711898Z",
     "iopub.status.idle": "2024-02-20T12:50:26.802510Z",
     "shell.execute_reply": "2024-02-20T12:50:26.801325Z"
    },
    "papermill": {
     "duration": 0.103496,
     "end_time": "2024-02-20T12:50:26.805509",
     "exception": false,
     "start_time": "2024-02-20T12:50:26.702013",
     "status": "completed"
    },
    "tags": []
   },
   "outputs": [
    {
     "data": {
      "application/javascript": [
       "parent.postMessage({\"jupyterEvent\": \"custom.exercise_interaction\", \"data\": {\"outcomeType\": 1, \"valueTowardsCompletion\": 0.25, \"interactionType\": 1, \"questionType\": 2, \"questionId\": \"4_ReviewsPerRegion\", \"learnToolsVersion\": \"0.3.4\", \"failureMessage\": \"\", \"exceptionClass\": \"\", \"trace\": \"\"}}, \"*\")"
      ],
      "text/plain": [
       "<IPython.core.display.Javascript object>"
      ]
     },
     "metadata": {},
     "output_type": "display_data"
    },
    {
     "data": {
      "text/markdown": [
       "<span style=\"color:#33cc33\">Correct</span>"
      ],
      "text/plain": [
       "Correct"
      ]
     },
     "metadata": {},
     "output_type": "display_data"
    }
   ],
   "source": [
    "reviews_per_region = reviews.region_1.fillna(\"Unknown\").value_counts().sort_values(ascending=False)\n",
    "\n",
    "# Check your answer\n",
    "q4.check()"
   ]
  },
  {
   "cell_type": "code",
   "execution_count": 9,
   "id": "5f6bb948",
   "metadata": {
    "execution": {
     "iopub.execute_input": "2024-02-20T12:50:26.822332Z",
     "iopub.status.busy": "2024-02-20T12:50:26.821957Z",
     "iopub.status.idle": "2024-02-20T12:50:26.826706Z",
     "shell.execute_reply": "2024-02-20T12:50:26.825632Z"
    },
    "papermill": {
     "duration": 0.015941,
     "end_time": "2024-02-20T12:50:26.829050",
     "exception": false,
     "start_time": "2024-02-20T12:50:26.813109",
     "status": "completed"
    },
    "tags": []
   },
   "outputs": [],
   "source": [
    "#q4.hint()\n",
    "# q4.solution()"
   ]
  },
  {
   "cell_type": "markdown",
   "id": "c18ab70d",
   "metadata": {
    "papermill": {
     "duration": 0.007452,
     "end_time": "2024-02-20T12:50:26.844186",
     "exception": false,
     "start_time": "2024-02-20T12:50:26.836734",
     "status": "completed"
    },
    "tags": []
   },
   "source": [
    "# Keep going\n",
    "\n",
    "Move on to **[renaming and combining](https://www.kaggle.com/residentmario/renaming-and-combining)**."
   ]
  },
  {
   "cell_type": "markdown",
   "id": "46b6396e",
   "metadata": {
    "papermill": {
     "duration": 0.007587,
     "end_time": "2024-02-20T12:50:26.859516",
     "exception": false,
     "start_time": "2024-02-20T12:50:26.851929",
     "status": "completed"
    },
    "tags": []
   },
   "source": [
    "---\n",
    "\n",
    "\n",
    "\n",
    "\n",
    "*Have questions or comments? Visit the [course discussion forum](https://www.kaggle.com/learn/pandas/discussion) to chat with other learners.*"
   ]
  }
 ],
 "metadata": {
  "kaggle": {
   "accelerator": "none",
   "dataSources": [
    {
     "datasetId": 655,
     "sourceId": 1252,
     "sourceType": "datasetVersion"
    },
    {
     "datasetId": 2321,
     "sourceId": 3919,
     "sourceType": "datasetVersion"
    },
    {
     "datasetId": 2894,
     "sourceId": 4877,
     "sourceType": "datasetVersion"
    },
    {
     "datasetId": 3491,
     "sourceId": 5624,
     "sourceType": "datasetVersion"
    },
    {
     "datasetId": 1442,
     "sourceId": 8172,
     "sourceType": "datasetVersion"
    },
    {
     "datasetId": 9366,
     "sourceId": 13206,
     "sourceType": "datasetVersion"
    },
    {
     "datasetId": 179555,
     "sourceId": 403916,
     "sourceType": "datasetVersion"
    },
    {
     "datasetId": 4549,
     "sourceId": 466349,
     "sourceType": "datasetVersion"
    },
    {
     "datasetId": 2478,
     "sourceId": 1151655,
     "sourceType": "datasetVersion"
    },
    {
     "datasetId": 10128,
     "sourceId": 5438389,
     "sourceType": "datasetVersion"
    }
   ],
   "isGpuEnabled": false,
   "isInternetEnabled": false,
   "language": "python",
   "sourceType": "notebook"
  },
  "kernelspec": {
   "display_name": "Python 3",
   "language": "python",
   "name": "python3"
  },
  "language_info": {
   "codemirror_mode": {
    "name": "ipython",
    "version": 3
   },
   "file_extension": ".py",
   "mimetype": "text/x-python",
   "name": "python",
   "nbconvert_exporter": "python",
   "pygments_lexer": "ipython3",
   "version": "3.10.13"
  },
  "papermill": {
   "default_parameters": {},
   "duration": 8.290535,
   "end_time": "2024-02-20T12:50:27.389466",
   "environment_variables": {},
   "exception": null,
   "input_path": "__notebook__.ipynb",
   "output_path": "__notebook__.ipynb",
   "parameters": {},
   "start_time": "2024-02-20T12:50:19.098931",
   "version": "2.5.0"
  }
 },
 "nbformat": 4,
 "nbformat_minor": 5
}
