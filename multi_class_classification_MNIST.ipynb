{
  "nbformat": 4,
  "nbformat_minor": 0,
  "metadata": {
    "colab": {
      "provenance": [],
      "authorship_tag": "ABX9TyMlH1MffIJA2nvGnnpAFpu0",
      "include_colab_link": true
    },
    "kernelspec": {
      "name": "python3",
      "display_name": "Python 3"
    },
    "language_info": {
      "name": "python"
    }
  },
  "cells": [
    {
      "cell_type": "markdown",
      "metadata": {
        "id": "view-in-github",
        "colab_type": "text"
      },
      "source": [
        "<a href=\"https://colab.research.google.com/github/Boamah-Powers/ml-learning/blob/main/multi_class_classification_MNIST.ipynb\" target=\"_parent\"><img src=\"https://colab.research.google.com/assets/colab-badge.svg\" alt=\"Open In Colab\"/></a>"
      ]
    },
    {
      "cell_type": "markdown",
      "source": [
        "## Import relevant modules"
      ],
      "metadata": {
        "id": "FcAA0Q7yn5Ug"
      }
    },
    {
      "cell_type": "code",
      "execution_count": 3,
      "metadata": {
        "id": "lN5-3uOJnuB2"
      },
      "outputs": [],
      "source": [
        "# Import relevant modules\n",
        "import numpy as np\n",
        "import pandas as pd\n",
        "import tensorflow as tf\n",
        "from tensorflow.keras import layers\n",
        "from matplotlib import pyplot as plt\n",
        "\n",
        "# The following lines adjust the granularity of reporting\n",
        "pd.options.display.max_rows = 10\n",
        "pd.options.display.float_format = \"{:.1f}\".format\n",
        "\n",
        "# The following line improves formatting when outputting NumPy arrays\n",
        "np.set_printoptions(linewidth = 200)"
      ]
    },
    {
      "cell_type": "markdown",
      "source": [
        "## Loading dataset"
      ],
      "metadata": {
        "id": "n4PQIb1JoyOl"
      }
    },
    {
      "cell_type": "code",
      "source": [
        "(x_train, y_train),(x_test,y_test) = tf.keras.datasets.mnist.load_data()"
      ],
      "metadata": {
        "colab": {
          "base_uri": "https://localhost:8080/"
        },
        "id": "gNxy6uwio8MH",
        "outputId": "26807397-363d-4bc2-feda-1a12f1802fc5"
      },
      "execution_count": 4,
      "outputs": [
        {
          "output_type": "stream",
          "name": "stdout",
          "text": [
            "Downloading data from https://storage.googleapis.com/tensorflow/tf-keras-datasets/mnist.npz\n",
            "11490434/11490434 [==============================] - 0s 0us/step\n"
          ]
        }
      ]
    },
    {
      "cell_type": "markdown",
      "source": [
        "## Viewing data"
      ],
      "metadata": {
        "id": "1uIBVyeRpYiB"
      }
    },
    {
      "cell_type": "code",
      "source": [
        "# Using false colors to visualize the array\n",
        "plt.imshow(x_train[2917])"
      ],
      "metadata": {
        "id": "88RET_9LpdDU"
      },
      "execution_count": null,
      "outputs": []
    },
    {
      "cell_type": "code",
      "source": [
        "# Output example #2917 of the training set\n",
        "x_train[2917]"
      ],
      "metadata": {
        "id": "PD1BwcpYpvFs"
      },
      "execution_count": null,
      "outputs": []
    },
    {
      "cell_type": "markdown",
      "source": [
        "## Normalizing feature values"
      ],
      "metadata": {
        "id": "tr3GMzWDqJiy"
      }
    },
    {
      "cell_type": "code",
      "source": [
        "x_train_normalized = x_train / 255.0\n",
        "x_test_normalized = x_test / 255.0\n",
        "print(x_train_normalized[2900][10]) # Output a normalized row"
      ],
      "metadata": {
        "id": "VEdf5eq2qNT7"
      },
      "execution_count": null,
      "outputs": []
    },
    {
      "cell_type": "markdown",
      "source": [
        "## Defining a plotting function"
      ],
      "metadata": {
        "id": "0LGa8gZSqr1X"
      }
    },
    {
      "cell_type": "code",
      "source": [
        "def plot_curve(epochs, hist, list_of_metrics):\n",
        "  \"\"\" Plot a curve of one or more classification metrics vs epoch \"\"\"\n",
        "\n",
        "  plt.figure()\n",
        "  plt.xlabel(\"Epoch\")\n",
        "  plt.ylabel(\"Value\")\n",
        "\n",
        "  for m in list_of_metrics:\n",
        "    x = hist[m]\n",
        "    plt.plot(epochs[1:], x[1:], label=m)\n",
        "\n",
        "  plt.legend()\n",
        "\n",
        "print(\"Loaded the plot_curve function\")"
      ],
      "metadata": {
        "colab": {
          "base_uri": "https://localhost:8080/"
        },
        "id": "GjkNr5F4qwIE",
        "outputId": "f1292883-bfb1-46d5-cbc3-51759c001027"
      },
      "execution_count": 8,
      "outputs": [
        {
          "output_type": "stream",
          "name": "stdout",
          "text": [
            "Loaded the plot_curve function\n"
          ]
        }
      ]
    },
    {
      "cell_type": "markdown",
      "source": [
        "## Create a deep neural net model"
      ],
      "metadata": {
        "id": "UGXnhxpprrtN"
      }
    },
    {
      "cell_type": "code",
      "source": [
        "# Define the topography of the deep neural net\n",
        "def create_model(my_learning_rate):\n",
        "  \"\"\" Create and compile a deep neural net \"\"\"\n",
        "\n",
        "  model = tf.keras.models.Sequential()\n",
        "\n",
        "  # Flatten two dimensional array into a one-dimensional\n",
        "  # array\n",
        "  model.add(tf.keras.layers.Flatten(\n",
        "      input_shape=(28,28),\n",
        "  ))\n",
        "\n",
        "  # Define the first hidden layer\n",
        "  model.add(tf.keras.layers.Dense(\n",
        "      units=256,\n",
        "      activation='relu',\n",
        "  ))\n",
        "\n",
        "  # Define the second hidden layer\n",
        "  model.add(tf.keras.layers.Dense(\n",
        "      units=128,\n",
        "      activation='relu',\n",
        "  ))\n",
        "\n",
        "  # Define a dropout regularization layer\n",
        "  model.add(tf.keras.layers.Dropout(\n",
        "      rate=0.3,\n",
        "  ))\n",
        "\n",
        "\n",
        "  # Define an output layer. The units parameter is set to\n",
        "  # 10 because the model must choose among 10 possible output values\n",
        "  model.add(tf.keras.layers.Dense(\n",
        "      units=10,\n",
        "      activation='softmax',\n",
        "  ))\n",
        "\n",
        "  # Construct the layers into a model that TensorFlow can execute\n",
        "  model.compile(\n",
        "      optimizer=tf.keras.optimizers.Adam(learning_rate=my_learning_rate),\n",
        "      loss=\"sparse_categorical_crossentropy\",\n",
        "      metrics=['accuracy'],\n",
        "  )\n",
        "\n",
        "  return model\n",
        "\n",
        "\n",
        "def train_model(model, train_features, train_label, epochs, batch_size=None, validation_split=0.1):\n",
        "  \"\"\" Train the model by feeding it data \"\"\"\n",
        "\n",
        "  history = model.fit(\n",
        "      x=train_features,\n",
        "      y=train_label,\n",
        "      batch_size=batch_size,\n",
        "      epochs=epochs,\n",
        "      shuffle=True,\n",
        "      validation_split=validation_split,\n",
        "  )\n",
        "\n",
        "  epochs = history.epoch\n",
        "  hist = pd.DataFrame(history.history)\n",
        "\n",
        "  return epochs, hist"
      ],
      "metadata": {
        "id": "6nS4LGv5rwA7"
      },
      "execution_count": 20,
      "outputs": []
    },
    {
      "cell_type": "markdown",
      "source": [
        "## Training the model"
      ],
      "metadata": {
        "id": "xNyrYeocu_K4"
      }
    },
    {
      "cell_type": "code",
      "source": [
        "# The following variables are the hyperparameters\n",
        "learning_rate = 0.003\n",
        "epochs = 50\n",
        "batch_size = 4000\n",
        "validation_split = 0.2\n",
        "\n",
        "# Establish the model's topography\n",
        "my_model = create_model(learning_rate)\n",
        "\n",
        "# Train the model on the normalized training set\n",
        "epochs, hist = train_model(\n",
        "    my_model,\n",
        "    x_train_normalized,\n",
        "    y_train,\n",
        "    epochs,\n",
        "    batch_size,\n",
        "    validation_split,\n",
        ")\n",
        "\n",
        "# Plot a graph of the metric vs epochs\n",
        "list_of_metrics_to_plot = ['accuracy']\n",
        "plot_curve(epochs, hist, list_of_metrics_to_plot)\n",
        "\n",
        "# Evaluate against the test set\n",
        "print(\"\\n Evaluate the new model against the test set: \")\n",
        "my_model.evaluate(\n",
        "    x=x_test_normalized,\n",
        "    y=y_test,\n",
        "    batch_size=batch_size,\n",
        ")"
      ],
      "metadata": {
        "colab": {
          "base_uri": "https://localhost:8080/",
          "height": 1000
        },
        "id": "Hhm3PpZCvDZV",
        "outputId": "c039af98-93bd-48e0-94c9-d332d13a4458"
      },
      "execution_count": 21,
      "outputs": [
        {
          "output_type": "stream",
          "name": "stdout",
          "text": [
            "Epoch 1/50\n",
            "12/12 [==============================] - 2s 128ms/step - loss: 1.0676 - accuracy: 0.6798 - val_loss: 0.3579 - val_accuracy: 0.8946\n",
            "Epoch 2/50\n",
            "12/12 [==============================] - 1s 104ms/step - loss: 0.3764 - accuracy: 0.8883 - val_loss: 0.2511 - val_accuracy: 0.9283\n",
            "Epoch 3/50\n",
            "12/12 [==============================] - 1s 102ms/step - loss: 0.2657 - accuracy: 0.9218 - val_loss: 0.1919 - val_accuracy: 0.9437\n",
            "Epoch 4/50\n",
            "12/12 [==============================] - 1s 103ms/step - loss: 0.2080 - accuracy: 0.9391 - val_loss: 0.1597 - val_accuracy: 0.9542\n",
            "Epoch 5/50\n",
            "12/12 [==============================] - 1s 103ms/step - loss: 0.1702 - accuracy: 0.9492 - val_loss: 0.1412 - val_accuracy: 0.9592\n",
            "Epoch 6/50\n",
            "12/12 [==============================] - 2s 146ms/step - loss: 0.1467 - accuracy: 0.9558 - val_loss: 0.1275 - val_accuracy: 0.9632\n",
            "Epoch 7/50\n",
            "12/12 [==============================] - 2s 157ms/step - loss: 0.1241 - accuracy: 0.9633 - val_loss: 0.1148 - val_accuracy: 0.9660\n",
            "Epoch 8/50\n",
            "12/12 [==============================] - 1s 102ms/step - loss: 0.1083 - accuracy: 0.9683 - val_loss: 0.1087 - val_accuracy: 0.9682\n",
            "Epoch 9/50\n",
            "12/12 [==============================] - 1s 105ms/step - loss: 0.0980 - accuracy: 0.9709 - val_loss: 0.1019 - val_accuracy: 0.9682\n",
            "Epoch 10/50\n",
            "12/12 [==============================] - 1s 101ms/step - loss: 0.0830 - accuracy: 0.9755 - val_loss: 0.0989 - val_accuracy: 0.9702\n",
            "Epoch 11/50\n",
            "12/12 [==============================] - 1s 101ms/step - loss: 0.0759 - accuracy: 0.9775 - val_loss: 0.0921 - val_accuracy: 0.9720\n",
            "Epoch 12/50\n",
            "12/12 [==============================] - 1s 101ms/step - loss: 0.0682 - accuracy: 0.9800 - val_loss: 0.0901 - val_accuracy: 0.9720\n",
            "Epoch 13/50\n",
            "12/12 [==============================] - 1s 103ms/step - loss: 0.0603 - accuracy: 0.9819 - val_loss: 0.0870 - val_accuracy: 0.9732\n",
            "Epoch 14/50\n",
            "12/12 [==============================] - 1s 103ms/step - loss: 0.0539 - accuracy: 0.9837 - val_loss: 0.0842 - val_accuracy: 0.9737\n",
            "Epoch 15/50\n",
            "12/12 [==============================] - 1s 102ms/step - loss: 0.0498 - accuracy: 0.9855 - val_loss: 0.0831 - val_accuracy: 0.9748\n",
            "Epoch 16/50\n",
            "12/12 [==============================] - 2s 181ms/step - loss: 0.0452 - accuracy: 0.9867 - val_loss: 0.0848 - val_accuracy: 0.9753\n",
            "Epoch 17/50\n",
            "12/12 [==============================] - 1s 117ms/step - loss: 0.0415 - accuracy: 0.9879 - val_loss: 0.0818 - val_accuracy: 0.9752\n",
            "Epoch 18/50\n",
            "12/12 [==============================] - 1s 104ms/step - loss: 0.0383 - accuracy: 0.9883 - val_loss: 0.0839 - val_accuracy: 0.9752\n",
            "Epoch 19/50\n",
            "12/12 [==============================] - 1s 102ms/step - loss: 0.0336 - accuracy: 0.9900 - val_loss: 0.0789 - val_accuracy: 0.9772\n",
            "Epoch 20/50\n",
            "12/12 [==============================] - 1s 99ms/step - loss: 0.0294 - accuracy: 0.9919 - val_loss: 0.0793 - val_accuracy: 0.9769\n",
            "Epoch 21/50\n",
            "12/12 [==============================] - 1s 104ms/step - loss: 0.0266 - accuracy: 0.9925 - val_loss: 0.0813 - val_accuracy: 0.9771\n",
            "Epoch 22/50\n",
            "12/12 [==============================] - 1s 103ms/step - loss: 0.0247 - accuracy: 0.9929 - val_loss: 0.0803 - val_accuracy: 0.9777\n",
            "Epoch 23/50\n",
            "12/12 [==============================] - 1s 100ms/step - loss: 0.0224 - accuracy: 0.9933 - val_loss: 0.0800 - val_accuracy: 0.9772\n",
            "Epoch 24/50\n",
            "12/12 [==============================] - 1s 107ms/step - loss: 0.0202 - accuracy: 0.9946 - val_loss: 0.0807 - val_accuracy: 0.9770\n",
            "Epoch 25/50\n",
            "12/12 [==============================] - 2s 131ms/step - loss: 0.0175 - accuracy: 0.9950 - val_loss: 0.0800 - val_accuracy: 0.9778\n",
            "Epoch 26/50\n",
            "12/12 [==============================] - 2s 177ms/step - loss: 0.0177 - accuracy: 0.9948 - val_loss: 0.0805 - val_accuracy: 0.9775\n",
            "Epoch 27/50\n",
            "12/12 [==============================] - 1s 104ms/step - loss: 0.0156 - accuracy: 0.9961 - val_loss: 0.0842 - val_accuracy: 0.9775\n",
            "Epoch 28/50\n",
            "12/12 [==============================] - 1s 103ms/step - loss: 0.0145 - accuracy: 0.9962 - val_loss: 0.0829 - val_accuracy: 0.9781\n",
            "Epoch 29/50\n",
            "12/12 [==============================] - 1s 101ms/step - loss: 0.0142 - accuracy: 0.9960 - val_loss: 0.0834 - val_accuracy: 0.9776\n",
            "Epoch 30/50\n",
            "12/12 [==============================] - 1s 101ms/step - loss: 0.0131 - accuracy: 0.9964 - val_loss: 0.0860 - val_accuracy: 0.9773\n",
            "Epoch 31/50\n",
            "12/12 [==============================] - 1s 103ms/step - loss: 0.0121 - accuracy: 0.9969 - val_loss: 0.0875 - val_accuracy: 0.9779\n",
            "Epoch 32/50\n",
            "12/12 [==============================] - 1s 102ms/step - loss: 0.0110 - accuracy: 0.9970 - val_loss: 0.0886 - val_accuracy: 0.9780\n",
            "Epoch 33/50\n",
            "12/12 [==============================] - 1s 104ms/step - loss: 0.0098 - accuracy: 0.9975 - val_loss: 0.0849 - val_accuracy: 0.9781\n",
            "Epoch 34/50\n",
            "12/12 [==============================] - 1s 103ms/step - loss: 0.0095 - accuracy: 0.9975 - val_loss: 0.0902 - val_accuracy: 0.9772\n",
            "Epoch 35/50\n",
            "12/12 [==============================] - 2s 177ms/step - loss: 0.0080 - accuracy: 0.9981 - val_loss: 0.0881 - val_accuracy: 0.9793\n",
            "Epoch 36/50\n",
            "12/12 [==============================] - 2s 123ms/step - loss: 0.0078 - accuracy: 0.9981 - val_loss: 0.0936 - val_accuracy: 0.9783\n",
            "Epoch 37/50\n",
            "12/12 [==============================] - 1s 105ms/step - loss: 0.0077 - accuracy: 0.9980 - val_loss: 0.0928 - val_accuracy: 0.9774\n",
            "Epoch 38/50\n",
            "12/12 [==============================] - 1s 105ms/step - loss: 0.0074 - accuracy: 0.9982 - val_loss: 0.0918 - val_accuracy: 0.9787\n",
            "Epoch 39/50\n",
            "12/12 [==============================] - 1s 103ms/step - loss: 0.0066 - accuracy: 0.9984 - val_loss: 0.0905 - val_accuracy: 0.9778\n",
            "Epoch 40/50\n",
            "12/12 [==============================] - 1s 104ms/step - loss: 0.0063 - accuracy: 0.9984 - val_loss: 0.0912 - val_accuracy: 0.9786\n",
            "Epoch 41/50\n",
            "12/12 [==============================] - 1s 100ms/step - loss: 0.0057 - accuracy: 0.9985 - val_loss: 0.0951 - val_accuracy: 0.9789\n",
            "Epoch 42/50\n",
            "12/12 [==============================] - 1s 104ms/step - loss: 0.0053 - accuracy: 0.9990 - val_loss: 0.0941 - val_accuracy: 0.9782\n",
            "Epoch 43/50\n",
            "12/12 [==============================] - 1s 103ms/step - loss: 0.0049 - accuracy: 0.9991 - val_loss: 0.0941 - val_accuracy: 0.9783\n",
            "Epoch 44/50\n",
            "12/12 [==============================] - 2s 134ms/step - loss: 0.0048 - accuracy: 0.9989 - val_loss: 0.0953 - val_accuracy: 0.9789\n",
            "Epoch 45/50\n",
            "12/12 [==============================] - 2s 176ms/step - loss: 0.0044 - accuracy: 0.9991 - val_loss: 0.0943 - val_accuracy: 0.9783\n",
            "Epoch 46/50\n",
            "12/12 [==============================] - 1s 102ms/step - loss: 0.0047 - accuracy: 0.9988 - val_loss: 0.0976 - val_accuracy: 0.9779\n",
            "Epoch 47/50\n",
            "12/12 [==============================] - 1s 103ms/step - loss: 0.0047 - accuracy: 0.9991 - val_loss: 0.0944 - val_accuracy: 0.9793\n",
            "Epoch 48/50\n",
            "12/12 [==============================] - 1s 100ms/step - loss: 0.0038 - accuracy: 0.9993 - val_loss: 0.0937 - val_accuracy: 0.9786\n",
            "Epoch 49/50\n",
            "12/12 [==============================] - 1s 101ms/step - loss: 0.0037 - accuracy: 0.9992 - val_loss: 0.0952 - val_accuracy: 0.9793\n",
            "Epoch 50/50\n",
            "12/12 [==============================] - 1s 99ms/step - loss: 0.0031 - accuracy: 0.9994 - val_loss: 0.0984 - val_accuracy: 0.9780\n",
            "\n",
            " Evaluate the new model against the test set: \n",
            "3/3 [==============================] - 0s 29ms/step - loss: 0.0842 - accuracy: 0.9805\n"
          ]
        },
        {
          "output_type": "execute_result",
          "data": {
            "text/plain": [
              "[0.08420319110155106, 0.9804999828338623]"
            ]
          },
          "metadata": {},
          "execution_count": 21
        },
        {
          "output_type": "display_data",
          "data": {
            "text/plain": [
              "<Figure size 640x480 with 1 Axes>"
            ],
            "image/png": "[encoded data removed]"
          },
          "metadata": {}
        }
      ]
    }
  ]
}