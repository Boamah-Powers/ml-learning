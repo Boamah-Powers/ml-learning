{
 "cells": [
  {
   "cell_type": "markdown",
   "id": "f1ee6227",
   "metadata": {
    "papermill": {
     "duration": 0.005359,
     "end_time": "2024-02-21T12:06:17.110674",
     "exception": false,
     "start_time": "2024-02-21T12:06:17.105315",
     "status": "completed"
    },
    "tags": []
   },
   "source": [
    "**This notebook is an exercise in the [Pandas](https://www.kaggle.com/learn/pandas) course.  You can reference the tutorial at [this link](https://www.kaggle.com/residentmario/renaming-and-combining).**\n",
    "\n",
    "---\n"
   ]
  },
  {
   "cell_type": "markdown",
   "id": "cd9ab723",
   "metadata": {
    "papermill": {
     "duration": 0.004213,
     "end_time": "2024-02-21T12:06:17.119549",
     "exception": false,
     "start_time": "2024-02-21T12:06:17.115336",
     "status": "completed"
    },
    "tags": []
   },
   "source": [
    "# Introduction\n",
    "\n",
    "Run the following cell to load your data and some utility functions."
   ]
  },
  {
   "cell_type": "code",
   "execution_count": 1,
   "id": "928f2e72",
   "metadata": {
    "execution": {
     "iopub.execute_input": "2024-02-21T12:06:17.130862Z",
     "iopub.status.busy": "2024-02-21T12:06:17.130449Z",
     "iopub.status.idle": "2024-02-21T12:06:21.215090Z",
     "shell.execute_reply": "2024-02-21T12:06:21.214232Z"
    },
    "papermill": {
     "duration": 4.093114,
     "end_time": "2024-02-21T12:06:21.217184",
     "exception": false,
     "start_time": "2024-02-21T12:06:17.124070",
     "status": "completed"
    },
    "tags": []
   },
   "outputs": [
    {
     "name": "stdout",
     "output_type": "stream",
     "text": [
      "Setup complete.\n"
     ]
    }
   ],
   "source": [
    "import pandas as pd\n",
    "\n",
    "reviews = pd.read_csv(\"../input/wine-reviews/winemag-data-130k-v2.csv\", index_col=0)\n",
    "\n",
    "from learntools.core import binder; binder.bind(globals())\n",
    "from learntools.pandas.renaming_and_combining import *\n",
    "print(\"Setup complete.\")"
   ]
  },
  {
   "cell_type": "markdown",
   "id": "d4032b38",
   "metadata": {
    "papermill": {
     "duration": 0.004397,
     "end_time": "2024-02-21T12:06:21.226584",
     "exception": false,
     "start_time": "2024-02-21T12:06:21.222187",
     "status": "completed"
    },
    "tags": []
   },
   "source": [
    "# Exercises\n",
    "\n",
    "View the first several lines of your data by running the cell below:"
   ]
  },
  {
   "cell_type": "code",
   "execution_count": 2,
   "id": "4d48d293",
   "metadata": {
    "execution": {
     "iopub.execute_input": "2024-02-21T12:06:21.237877Z",
     "iopub.status.busy": "2024-02-21T12:06:21.237520Z",
     "iopub.status.idle": "2024-02-21T12:06:21.257847Z",
     "shell.execute_reply": "2024-02-21T12:06:21.256416Z"
    },
    "papermill": {
     "duration": 0.028811,
     "end_time": "2024-02-21T12:06:21.260076",
     "exception": false,
     "start_time": "2024-02-21T12:06:21.231265",
     "status": "completed"
    },
    "tags": []
   },
   "outputs": [
    {
     "data": {
      "text/html": [
       "<div>\n",
       "<style scoped>\n",
       "    .dataframe tbody tr th:only-of-type {\n",
       "        vertical-align: middle;\n",
       "    }\n",
       "\n",
       "    .dataframe tbody tr th {\n",
       "        vertical-align: top;\n",
       "    }\n",
       "\n",
       "    .dataframe thead th {\n",
       "        text-align: right;\n",
       "    }\n",
       "</style>\n",
       "<table border=\"1\" class=\"dataframe\">\n",
       "  <thead>\n",
       "    <tr style=\"text-align: right;\">\n",
       "      <th></th>\n",
       "      <th>country</th>\n",
       "      <th>description</th>\n",
       "      <th>designation</th>\n",
       "      <th>points</th>\n",
       "      <th>price</th>\n",
       "      <th>province</th>\n",
       "      <th>region_1</th>\n",
       "      <th>region_2</th>\n",
       "      <th>taster_name</th>\n",
       "      <th>taster_twitter_handle</th>\n",
       "      <th>title</th>\n",
       "      <th>variety</th>\n",
       "      <th>winery</th>\n",
       "    </tr>\n",
       "  </thead>\n",
       "  <tbody>\n",
       "    <tr>\n",
       "      <th>0</th>\n",
       "      <td>Italy</td>\n",
       "      <td>Aromas include tropical fruit, broom, brimston...</td>\n",
       "      <td>Vulkà Bianco</td>\n",
       "      <td>87</td>\n",
       "      <td>NaN</td>\n",
       "      <td>Sicily &amp; Sardinia</td>\n",
       "      <td>Etna</td>\n",
       "      <td>NaN</td>\n",
       "      <td>Kerin O’Keefe</td>\n",
       "      <td>@kerinokeefe</td>\n",
       "      <td>Nicosia 2013 Vulkà Bianco  (Etna)</td>\n",
       "      <td>White Blend</td>\n",
       "      <td>Nicosia</td>\n",
       "    </tr>\n",
       "    <tr>\n",
       "      <th>1</th>\n",
       "      <td>Portugal</td>\n",
       "      <td>This is ripe and fruity, a wine that is smooth...</td>\n",
       "      <td>Avidagos</td>\n",
       "      <td>87</td>\n",
       "      <td>15.0</td>\n",
       "      <td>Douro</td>\n",
       "      <td>NaN</td>\n",
       "      <td>NaN</td>\n",
       "      <td>Roger Voss</td>\n",
       "      <td>@vossroger</td>\n",
       "      <td>Quinta dos Avidagos 2011 Avidagos Red (Douro)</td>\n",
       "      <td>Portuguese Red</td>\n",
       "      <td>Quinta dos Avidagos</td>\n",
       "    </tr>\n",
       "    <tr>\n",
       "      <th>2</th>\n",
       "      <td>US</td>\n",
       "      <td>Tart and snappy, the flavors of lime flesh and...</td>\n",
       "      <td>NaN</td>\n",
       "      <td>87</td>\n",
       "      <td>14.0</td>\n",
       "      <td>Oregon</td>\n",
       "      <td>Willamette Valley</td>\n",
       "      <td>Willamette Valley</td>\n",
       "      <td>Paul Gregutt</td>\n",
       "      <td>@paulgwine</td>\n",
       "      <td>Rainstorm 2013 Pinot Gris (Willamette Valley)</td>\n",
       "      <td>Pinot Gris</td>\n",
       "      <td>Rainstorm</td>\n",
       "    </tr>\n",
       "    <tr>\n",
       "      <th>3</th>\n",
       "      <td>US</td>\n",
       "      <td>Pineapple rind, lemon pith and orange blossom ...</td>\n",
       "      <td>Reserve Late Harvest</td>\n",
       "      <td>87</td>\n",
       "      <td>13.0</td>\n",
       "      <td>Michigan</td>\n",
       "      <td>Lake Michigan Shore</td>\n",
       "      <td>NaN</td>\n",
       "      <td>Alexander Peartree</td>\n",
       "      <td>NaN</td>\n",
       "      <td>St. Julian 2013 Reserve Late Harvest Riesling ...</td>\n",
       "      <td>Riesling</td>\n",
       "      <td>St. Julian</td>\n",
       "    </tr>\n",
       "    <tr>\n",
       "      <th>4</th>\n",
       "      <td>US</td>\n",
       "      <td>Much like the regular bottling from 2012, this...</td>\n",
       "      <td>Vintner's Reserve Wild Child Block</td>\n",
       "      <td>87</td>\n",
       "      <td>65.0</td>\n",
       "      <td>Oregon</td>\n",
       "      <td>Willamette Valley</td>\n",
       "      <td>Willamette Valley</td>\n",
       "      <td>Paul Gregutt</td>\n",
       "      <td>@paulgwine</td>\n",
       "      <td>Sweet Cheeks 2012 Vintner's Reserve Wild Child...</td>\n",
       "      <td>Pinot Noir</td>\n",
       "      <td>Sweet Cheeks</td>\n",
       "    </tr>\n",
       "  </tbody>\n",
       "</table>\n",
       "</div>"
      ],
      "text/plain": [
       "    country                                        description  \\\n",
       "0     Italy  Aromas include tropical fruit, broom, brimston...   \n",
       "1  Portugal  This is ripe and fruity, a wine that is smooth...   \n",
       "2        US  Tart and snappy, the flavors of lime flesh and...   \n",
       "3        US  Pineapple rind, lemon pith and orange blossom ...   \n",
       "4        US  Much like the regular bottling from 2012, this...   \n",
       "\n",
       "                          designation  points  price           province  \\\n",
       "0                        Vulkà Bianco      87    NaN  Sicily & Sardinia   \n",
       "1                            Avidagos      87   15.0              Douro   \n",
       "2                                 NaN      87   14.0             Oregon   \n",
       "3                Reserve Late Harvest      87   13.0           Michigan   \n",
       "4  Vintner's Reserve Wild Child Block      87   65.0             Oregon   \n",
       "\n",
       "              region_1           region_2         taster_name  \\\n",
       "0                 Etna                NaN       Kerin O’Keefe   \n",
       "1                  NaN                NaN          Roger Voss   \n",
       "2    Willamette Valley  Willamette Valley        Paul Gregutt   \n",
       "3  Lake Michigan Shore                NaN  Alexander Peartree   \n",
       "4    Willamette Valley  Willamette Valley        Paul Gregutt   \n",
       "\n",
       "  taster_twitter_handle                                              title  \\\n",
       "0          @kerinokeefe                  Nicosia 2013 Vulkà Bianco  (Etna)   \n",
       "1            @vossroger      Quinta dos Avidagos 2011 Avidagos Red (Douro)   \n",
       "2           @paulgwine       Rainstorm 2013 Pinot Gris (Willamette Valley)   \n",
       "3                   NaN  St. Julian 2013 Reserve Late Harvest Riesling ...   \n",
       "4           @paulgwine   Sweet Cheeks 2012 Vintner's Reserve Wild Child...   \n",
       "\n",
       "          variety               winery  \n",
       "0     White Blend              Nicosia  \n",
       "1  Portuguese Red  Quinta dos Avidagos  \n",
       "2      Pinot Gris            Rainstorm  \n",
       "3        Riesling           St. Julian  \n",
       "4      Pinot Noir         Sweet Cheeks  "
      ]
     },
     "execution_count": 2,
     "metadata": {},
     "output_type": "execute_result"
    }
   ],
   "source": [
    "reviews.head()"
   ]
  },
  {
   "cell_type": "markdown",
   "id": "65050fe4",
   "metadata": {
    "papermill": {
     "duration": 0.005433,
     "end_time": "2024-02-21T12:06:21.270822",
     "exception": false,
     "start_time": "2024-02-21T12:06:21.265389",
     "status": "completed"
    },
    "tags": []
   },
   "source": [
    "## 1.\n",
    "`region_1` and `region_2` are pretty uninformative names for locale columns in the dataset. Create a copy of `reviews` with these columns renamed to `region` and `locale`, respectively."
   ]
  },
  {
   "cell_type": "code",
   "execution_count": 3,
   "id": "e37e3b8d",
   "metadata": {
    "execution": {
     "iopub.execute_input": "2024-02-21T12:06:21.282589Z",
     "iopub.status.busy": "2024-02-21T12:06:21.282247Z",
     "iopub.status.idle": "2024-02-21T12:06:21.303712Z",
     "shell.execute_reply": "2024-02-21T12:06:21.302676Z"
    },
    "papermill": {
     "duration": 0.029552,
     "end_time": "2024-02-21T12:06:21.305531",
     "exception": false,
     "start_time": "2024-02-21T12:06:21.275979",
     "status": "completed"
    },
    "tags": []
   },
   "outputs": [
    {
     "data": {
      "application/javascript": [
       "parent.postMessage({\"jupyterEvent\": \"custom.exercise_interaction\", \"data\": {\"outcomeType\": 1, \"valueTowardsCompletion\": 0.25, \"interactionType\": 1, \"questionType\": 1, \"questionId\": \"1_RenameCols\", \"learnToolsVersion\": \"0.3.4\", \"failureMessage\": \"\", \"exceptionClass\": \"\", \"trace\": \"\"}}, \"*\")"
      ],
      "text/plain": [
       "<IPython.core.display.Javascript object>"
      ]
     },
     "metadata": {},
     "output_type": "display_data"
    },
    {
     "data": {
      "text/markdown": [
       "<span style=\"color:#33cc33\">Correct</span>"
      ],
      "text/plain": [
       "Correct"
      ]
     },
     "metadata": {},
     "output_type": "display_data"
    }
   ],
   "source": [
    "# Your code here\n",
    "renamed = reviews.rename(columns={'region_1': 'region', 'region_2': 'locale'})\n",
    "\n",
    "# Check your answer\n",
    "q1.check()"
   ]
  },
  {
   "cell_type": "code",
   "execution_count": 4,
   "id": "4e5abff4",
   "metadata": {
    "execution": {
     "iopub.execute_input": "2024-02-21T12:06:21.317982Z",
     "iopub.status.busy": "2024-02-21T12:06:21.317622Z",
     "iopub.status.idle": "2024-02-21T12:06:21.322064Z",
     "shell.execute_reply": "2024-02-21T12:06:21.321019Z"
    },
    "papermill": {
     "duration": 0.013034,
     "end_time": "2024-02-21T12:06:21.323965",
     "exception": false,
     "start_time": "2024-02-21T12:06:21.310931",
     "status": "completed"
    },
    "tags": []
   },
   "outputs": [],
   "source": [
    "#q1.hint()\n",
    "#q1.solution()"
   ]
  },
  {
   "cell_type": "markdown",
   "id": "98a367fc",
   "metadata": {
    "papermill": {
     "duration": 0.004937,
     "end_time": "2024-02-21T12:06:21.334581",
     "exception": false,
     "start_time": "2024-02-21T12:06:21.329644",
     "status": "completed"
    },
    "tags": []
   },
   "source": [
    "## 2.\n",
    "Set the index name in the dataset to `wines`."
   ]
  },
  {
   "cell_type": "code",
   "execution_count": 5,
   "id": "19b63ea2",
   "metadata": {
    "execution": {
     "iopub.execute_input": "2024-02-21T12:06:21.346706Z",
     "iopub.status.busy": "2024-02-21T12:06:21.346328Z",
     "iopub.status.idle": "2024-02-21T12:06:21.366874Z",
     "shell.execute_reply": "2024-02-21T12:06:21.365913Z"
    },
    "papermill": {
     "duration": 0.029119,
     "end_time": "2024-02-21T12:06:21.368818",
     "exception": false,
     "start_time": "2024-02-21T12:06:21.339699",
     "status": "completed"
    },
    "tags": []
   },
   "outputs": [
    {
     "data": {
      "application/javascript": [
       "parent.postMessage({\"jupyterEvent\": \"custom.exercise_interaction\", \"data\": {\"outcomeType\": 1, \"valueTowardsCompletion\": 0.25, \"interactionType\": 1, \"questionType\": 1, \"questionId\": \"2_RenameIndex\", \"learnToolsVersion\": \"0.3.4\", \"failureMessage\": \"\", \"exceptionClass\": \"\", \"trace\": \"\"}}, \"*\")"
      ],
      "text/plain": [
       "<IPython.core.display.Javascript object>"
      ]
     },
     "metadata": {},
     "output_type": "display_data"
    },
    {
     "data": {
      "text/markdown": [
       "<span style=\"color:#33cc33\">Correct</span>"
      ],
      "text/plain": [
       "Correct"
      ]
     },
     "metadata": {},
     "output_type": "display_data"
    }
   ],
   "source": [
    "reindexed = reviews.rename_axis(\"wines\", axis='rows')\n",
    "\n",
    "# Check your answer\n",
    "q2.check()"
   ]
  },
  {
   "cell_type": "code",
   "execution_count": 6,
   "id": "7ebfa564",
   "metadata": {
    "execution": {
     "iopub.execute_input": "2024-02-21T12:06:21.381994Z",
     "iopub.status.busy": "2024-02-21T12:06:21.381640Z",
     "iopub.status.idle": "2024-02-21T12:06:21.385624Z",
     "shell.execute_reply": "2024-02-21T12:06:21.384612Z"
    },
    "papermill": {
     "duration": 0.012518,
     "end_time": "2024-02-21T12:06:21.387089",
     "exception": false,
     "start_time": "2024-02-21T12:06:21.374571",
     "status": "completed"
    },
    "tags": []
   },
   "outputs": [],
   "source": [
    "#q2.hint()\n",
    "#q2.solution()"
   ]
  },
  {
   "cell_type": "markdown",
   "id": "1552a22d",
   "metadata": {
    "papermill": {
     "duration": 0.004902,
     "end_time": "2024-02-21T12:06:21.398425",
     "exception": false,
     "start_time": "2024-02-21T12:06:21.393523",
     "status": "completed"
    },
    "tags": []
   },
   "source": [
    "## 3.\n",
    "The [Things on Reddit](https://www.kaggle.com/residentmario/things-on-reddit/data) dataset includes product links from a selection of top-ranked forums (\"subreddits\") on reddit.com. Run the cell below to load a dataframe of products mentioned on the */r/gaming* subreddit and another dataframe for products mentioned on the *r//movies* subreddit."
   ]
  },
  {
   "cell_type": "code",
   "execution_count": 7,
   "id": "44e18fcb",
   "metadata": {
    "execution": {
     "iopub.execute_input": "2024-02-21T12:06:21.410357Z",
     "iopub.status.busy": "2024-02-21T12:06:21.410010Z",
     "iopub.status.idle": "2024-02-21T12:06:21.421731Z",
     "shell.execute_reply": "2024-02-21T12:06:21.420756Z"
    },
    "papermill": {
     "duration": 0.020129,
     "end_time": "2024-02-21T12:06:21.423551",
     "exception": false,
     "start_time": "2024-02-21T12:06:21.403422",
     "status": "completed"
    },
    "tags": []
   },
   "outputs": [],
   "source": [
    "gaming_products = pd.read_csv(\"../input/things-on-reddit/top-things/top-things/reddits/g/gaming.csv\")\n",
    "gaming_products['subreddit'] = \"r/gaming\"\n",
    "movie_products = pd.read_csv(\"../input/things-on-reddit/top-things/top-things/reddits/m/movies.csv\")\n",
    "movie_products['subreddit'] = \"r/movies\""
   ]
  },
  {
   "cell_type": "markdown",
   "id": "94968a42",
   "metadata": {
    "papermill": {
     "duration": 0.005191,
     "end_time": "2024-02-21T12:06:21.434292",
     "exception": false,
     "start_time": "2024-02-21T12:06:21.429101",
     "status": "completed"
    },
    "tags": []
   },
   "source": [
    "Create a `DataFrame` of products mentioned on *either* subreddit."
   ]
  },
  {
   "cell_type": "code",
   "execution_count": 8,
   "id": "50fee26b",
   "metadata": {
    "execution": {
     "iopub.execute_input": "2024-02-21T12:06:21.446694Z",
     "iopub.status.busy": "2024-02-21T12:06:21.446322Z",
     "iopub.status.idle": "2024-02-21T12:06:21.455843Z",
     "shell.execute_reply": "2024-02-21T12:06:21.455050Z"
    },
    "papermill": {
     "duration": 0.018428,
     "end_time": "2024-02-21T12:06:21.458204",
     "exception": false,
     "start_time": "2024-02-21T12:06:21.439776",
     "status": "completed"
    },
    "tags": []
   },
   "outputs": [
    {
     "data": {
      "application/javascript": [
       "parent.postMessage({\"jupyterEvent\": \"custom.exercise_interaction\", \"data\": {\"outcomeType\": 1, \"valueTowardsCompletion\": 0.25, \"interactionType\": 1, \"questionType\": 2, \"questionId\": \"3_ConcatReddit\", \"learnToolsVersion\": \"0.3.4\", \"failureMessage\": \"\", \"exceptionClass\": \"\", \"trace\": \"\"}}, \"*\")"
      ],
      "text/plain": [
       "<IPython.core.display.Javascript object>"
      ]
     },
     "metadata": {},
     "output_type": "display_data"
    },
    {
     "data": {
      "text/markdown": [
       "<span style=\"color:#33cc33\">Correct</span>"
      ],
      "text/plain": [
       "Correct"
      ]
     },
     "metadata": {},
     "output_type": "display_data"
    }
   ],
   "source": [
    "combined_products = pd.concat([gaming_products, movie_products])\n",
    "\n",
    "# Check your answer\n",
    "q3.check()"
   ]
  },
  {
   "cell_type": "code",
   "execution_count": 9,
   "id": "94700811",
   "metadata": {
    "execution": {
     "iopub.execute_input": "2024-02-21T12:06:21.471843Z",
     "iopub.status.busy": "2024-02-21T12:06:21.471230Z",
     "iopub.status.idle": "2024-02-21T12:06:21.474874Z",
     "shell.execute_reply": "2024-02-21T12:06:21.474309Z"
    },
    "papermill": {
     "duration": 0.012206,
     "end_time": "2024-02-21T12:06:21.476497",
     "exception": false,
     "start_time": "2024-02-21T12:06:21.464291",
     "status": "completed"
    },
    "tags": []
   },
   "outputs": [],
   "source": [
    "#q3.hint()\n",
    "#q3.solution()"
   ]
  },
  {
   "cell_type": "markdown",
   "id": "5309e99a",
   "metadata": {
    "papermill": {
     "duration": 0.00525,
     "end_time": "2024-02-21T12:06:21.487301",
     "exception": false,
     "start_time": "2024-02-21T12:06:21.482051",
     "status": "completed"
    },
    "tags": []
   },
   "source": [
    "## 4.\n",
    "The [Powerlifting Database](https://www.kaggle.com/open-powerlifting/powerlifting-database) dataset on Kaggle includes one CSV table for powerlifting meets and a separate one for powerlifting competitors. Run the cell below to load these datasets into dataframes:"
   ]
  },
  {
   "cell_type": "code",
   "execution_count": 10,
   "id": "1b89bc3d",
   "metadata": {
    "execution": {
     "iopub.execute_input": "2024-02-21T12:06:21.500388Z",
     "iopub.status.busy": "2024-02-21T12:06:21.499976Z",
     "iopub.status.idle": "2024-02-21T12:06:22.017177Z",
     "shell.execute_reply": "2024-02-21T12:06:22.016014Z"
    },
    "papermill": {
     "duration": 0.526761,
     "end_time": "2024-02-21T12:06:22.019741",
     "exception": false,
     "start_time": "2024-02-21T12:06:21.492980",
     "status": "completed"
    },
    "tags": []
   },
   "outputs": [],
   "source": [
    "powerlifting_meets = pd.read_csv(\"../input/powerlifting-database/meets.csv\")\n",
    "powerlifting_competitors = pd.read_csv(\"../input/powerlifting-database/openpowerlifting.csv\")"
   ]
  },
  {
   "cell_type": "markdown",
   "id": "417bc2b6",
   "metadata": {
    "papermill": {
     "duration": 0.005505,
     "end_time": "2024-02-21T12:06:22.031236",
     "exception": false,
     "start_time": "2024-02-21T12:06:22.025731",
     "status": "completed"
    },
    "tags": []
   },
   "source": [
    "Both tables include references to a `MeetID`, a unique key for each meet (competition) included in the database. Using this, generate a dataset combining the two tables into one."
   ]
  },
  {
   "cell_type": "code",
   "execution_count": 11,
   "id": "2e39d2b7",
   "metadata": {
    "execution": {
     "iopub.execute_input": "2024-02-21T12:06:22.045265Z",
     "iopub.status.busy": "2024-02-21T12:06:22.044064Z",
     "iopub.status.idle": "2024-02-21T12:06:22.884679Z",
     "shell.execute_reply": "2024-02-21T12:06:22.883469Z"
    },
    "papermill": {
     "duration": 0.849646,
     "end_time": "2024-02-21T12:06:22.886613",
     "exception": false,
     "start_time": "2024-02-21T12:06:22.036967",
     "status": "completed"
    },
    "tags": []
   },
   "outputs": [
    {
     "data": {
      "application/javascript": [
       "parent.postMessage({\"jupyterEvent\": \"custom.exercise_interaction\", \"data\": {\"outcomeType\": 1, \"valueTowardsCompletion\": 0.25, \"interactionType\": 1, \"questionType\": 2, \"questionId\": \"4_JoinLifting\", \"learnToolsVersion\": \"0.3.4\", \"failureMessage\": \"\", \"exceptionClass\": \"\", \"trace\": \"\"}}, \"*\")"
      ],
      "text/plain": [
       "<IPython.core.display.Javascript object>"
      ]
     },
     "metadata": {},
     "output_type": "display_data"
    },
    {
     "data": {
      "text/markdown": [
       "<span style=\"color:#33cc33\">Correct</span>"
      ],
      "text/plain": [
       "Correct"
      ]
     },
     "metadata": {},
     "output_type": "display_data"
    }
   ],
   "source": [
    "left = powerlifting_meets.set_index(['MeetID'])\n",
    "right = powerlifting_competitors.set_index(['MeetID'])\n",
    "powerlifting_combined = left.join(right)\n",
    "\n",
    "# Check your answer\n",
    "q4.check()"
   ]
  },
  {
   "cell_type": "code",
   "execution_count": 12,
   "id": "ed5574b4",
   "metadata": {
    "execution": {
     "iopub.execute_input": "2024-02-21T12:06:22.899806Z",
     "iopub.status.busy": "2024-02-21T12:06:22.899499Z",
     "iopub.status.idle": "2024-02-21T12:06:22.903412Z",
     "shell.execute_reply": "2024-02-21T12:06:22.902454Z"
    },
    "papermill": {
     "duration": 0.01289,
     "end_time": "2024-02-21T12:06:22.905603",
     "exception": false,
     "start_time": "2024-02-21T12:06:22.892713",
     "status": "completed"
    },
    "tags": []
   },
   "outputs": [],
   "source": [
    "#q4.hint()\n",
    "#q4.solution()"
   ]
  },
  {
   "cell_type": "markdown",
   "id": "0f45a193",
   "metadata": {
    "papermill": {
     "duration": 0.006033,
     "end_time": "2024-02-21T12:06:22.918669",
     "exception": false,
     "start_time": "2024-02-21T12:06:22.912636",
     "status": "completed"
    },
    "tags": []
   },
   "source": [
    "# Congratulations!\n",
    "\n",
    "You've finished the Pandas micro-course.  Many data scientists feel efficiency with Pandas is the most useful and practical skill they have, because it allows you to progress quickly in any project you have.\n",
    "\n",
    "If you'd like to apply your new skills to examining geospatial data, you're encouraged to check out our **[Geospatial Analysis](https://www.kaggle.com/learn/geospatial-analysis)** micro-course.\n",
    "\n",
    "You can also take advantage of your Pandas skills by entering a **[Kaggle Competition](https://www.kaggle.com/competitions)** or by answering a question you find interesting using **[Kaggle Datasets](https://www.kaggle.com/datasets)**."
   ]
  },
  {
   "cell_type": "markdown",
   "id": "fecdc8d5",
   "metadata": {
    "papermill": {
     "duration": 0.00563,
     "end_time": "2024-02-21T12:06:22.930329",
     "exception": false,
     "start_time": "2024-02-21T12:06:22.924699",
     "status": "completed"
    },
    "tags": []
   },
   "source": [
    "---\n",
    "\n",
    "\n",
    "\n",
    "\n",
    "*Have questions or comments? Visit the [course discussion forum](https://www.kaggle.com/learn/pandas/discussion) to chat with other learners.*"
   ]
  }
 ],
 "metadata": {
  "kaggle": {
   "accelerator": "none",
   "dataSources": [
    {
     "datasetId": 655,
     "sourceId": 1252,
     "sourceType": "datasetVersion"
    },
    {
     "datasetId": 2321,
     "sourceId": 3919,
     "sourceType": "datasetVersion"
    },
    {
     "datasetId": 2894,
     "sourceId": 4877,
     "sourceType": "datasetVersion"
    },
    {
     "datasetId": 3491,
     "sourceId": 5624,
     "sourceType": "datasetVersion"
    },
    {
     "datasetId": 1442,
     "sourceId": 8172,
     "sourceType": "datasetVersion"
    },
    {
     "datasetId": 9366,
     "sourceId": 13206,
     "sourceType": "datasetVersion"
    },
    {
     "datasetId": 179555,
     "sourceId": 403916,
     "sourceType": "datasetVersion"
    },
    {
     "datasetId": 4549,
     "sourceId": 466349,
     "sourceType": "datasetVersion"
    },
    {
     "datasetId": 2478,
     "sourceId": 1151655,
     "sourceType": "datasetVersion"
    },
    {
     "datasetId": 10128,
     "sourceId": 5438389,
     "sourceType": "datasetVersion"
    }
   ],
   "isGpuEnabled": false,
   "isInternetEnabled": false,
   "language": "python",
   "sourceType": "notebook"
  },
  "kernelspec": {
   "display_name": "Python 3",
   "language": "python",
   "name": "python3"
  },
  "language_info": {
   "codemirror_mode": {
    "name": "ipython",
    "version": 3
   },
   "file_extension": ".py",
   "mimetype": "text/x-python",
   "name": "python",
   "nbconvert_exporter": "python",
   "pygments_lexer": "ipython3",
   "version": "3.10.13"
  },
  "papermill": {
   "default_parameters": {},
   "duration": 8.629322,
   "end_time": "2024-02-21T12:06:23.456452",
   "environment_variables": {},
   "exception": null,
   "input_path": "__notebook__.ipynb",
   "output_path": "__notebook__.ipynb",
   "parameters": {},
   "start_time": "2024-02-21T12:06:14.827130",
   "version": "2.5.0"
  }
 },
 "nbformat": 4,
 "nbformat_minor": 5
}
