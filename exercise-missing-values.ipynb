{
 "cells": [
  {
   "cell_type": "markdown",
   "id": "5cb2a415",
   "metadata": {
    "papermill": {
     "duration": 0.012073,
     "end_time": "2024-02-24T10:47:15.441918",
     "exception": false,
     "start_time": "2024-02-24T10:47:15.429845",
     "status": "completed"
    },
    "tags": []
   },
   "source": [
    "**This notebook is an exercise in the [Intermediate Machine Learning](https://www.kaggle.com/learn/intermediate-machine-learning) course.  You can reference the tutorial at [this link](https://www.kaggle.com/alexisbcook/missing-values).**\n",
    "\n",
    "---\n"
   ]
  },
  {
   "cell_type": "markdown",
   "id": "92c8f611",
   "metadata": {
    "papermill": {
     "duration": 0.011072,
     "end_time": "2024-02-24T10:47:15.465261",
     "exception": false,
     "start_time": "2024-02-24T10:47:15.454189",
     "status": "completed"
    },
    "tags": []
   },
   "source": [
    "Now it's your turn to test your new knowledge of **missing values** handling. You'll probably find it makes a big difference.\n",
    "\n",
    "# Setup\n",
    "\n",
    "The questions will give you feedback on your work. Run the following cell to set up the feedback system."
   ]
  },
  {
   "cell_type": "code",
   "execution_count": 1,
   "id": "6e390fe5",
   "metadata": {
    "execution": {
     "iopub.execute_input": "2024-02-24T10:47:15.492124Z",
     "iopub.status.busy": "2024-02-24T10:47:15.491715Z",
     "iopub.status.idle": "2024-02-24T10:47:16.545231Z",
     "shell.execute_reply": "2024-02-24T10:47:16.543379Z"
    },
    "papermill": {
     "duration": 1.069269,
     "end_time": "2024-02-24T10:47:16.547879",
     "exception": false,
     "start_time": "2024-02-24T10:47:15.478610",
     "status": "completed"
    },
    "tags": []
   },
   "outputs": [
    {
     "name": "stdout",
     "output_type": "stream",
     "text": [
      "Setup Complete\n"
     ]
    }
   ],
   "source": [
    "# Set up code checking\n",
    "import os\n",
    "if not os.path.exists(\"../input/train.csv\"):\n",
    "    os.symlink(\"../input/home-data-for-ml-course/train.csv\", \"../input/train.csv\")  \n",
    "    os.symlink(\"../input/home-data-for-ml-course/test.csv\", \"../input/test.csv\") \n",
    "from learntools.core import binder\n",
    "binder.bind(globals())\n",
    "from learntools.ml_intermediate.ex2 import *\n",
    "print(\"Setup Complete\")"
   ]
  },
  {
   "cell_type": "markdown",
   "id": "809e6aad",
   "metadata": {
    "papermill": {
     "duration": 0.011235,
     "end_time": "2024-02-24T10:47:16.571169",
     "exception": false,
     "start_time": "2024-02-24T10:47:16.559934",
     "status": "completed"
    },
    "tags": []
   },
   "source": [
    "In this exercise, you will work with data from the [Housing Prices Competition for Kaggle Learn Users](https://www.kaggle.com/c/home-data-for-ml-course). \n",
    "\n",
    "![Ames Housing dataset image](https://storage.googleapis.com/kaggle-media/learn/images/lTJVG4e.png)\n",
    "\n",
    "Run the next code cell without changes to load the training and validation sets in `X_train`, `X_valid`, `y_train`, and `y_valid`.  The test set is loaded in `X_test`."
   ]
  },
  {
   "cell_type": "code",
   "execution_count": 2,
   "id": "ac5f0a80",
   "metadata": {
    "execution": {
     "iopub.execute_input": "2024-02-24T10:47:16.597735Z",
     "iopub.status.busy": "2024-02-24T10:47:16.596607Z",
     "iopub.status.idle": "2024-02-24T10:47:18.228532Z",
     "shell.execute_reply": "2024-02-24T10:47:18.227081Z"
    },
    "papermill": {
     "duration": 1.648087,
     "end_time": "2024-02-24T10:47:18.231555",
     "exception": false,
     "start_time": "2024-02-24T10:47:16.583468",
     "status": "completed"
    },
    "tags": []
   },
   "outputs": [],
   "source": [
    "import pandas as pd\n",
    "from sklearn.model_selection import train_test_split\n",
    "\n",
    "# Read the data\n",
    "X_full = pd.read_csv('../input/train.csv', index_col='Id')\n",
    "X_test_full = pd.read_csv('../input/test.csv', index_col='Id')\n",
    "\n",
    "# Remove rows with missing target, separate target from predictors\n",
    "X_full.dropna(axis=0, subset=['SalePrice'], inplace=True)\n",
    "y = X_full.SalePrice\n",
    "X_full.drop(['SalePrice'], axis=1, inplace=True)\n",
    "\n",
    "# To keep things simple, we'll use only numerical predictors\n",
    "X = X_full.select_dtypes(exclude=['object'])\n",
    "X_test = X_test_full.select_dtypes(exclude=['object'])\n",
    "\n",
    "# Break off validation set from training data\n",
    "X_train, X_valid, y_train, y_valid = train_test_split(X, y, train_size=0.8, test_size=0.2,\n",
    "                                                      random_state=0)"
   ]
  },
  {
   "cell_type": "markdown",
   "id": "8956f34f",
   "metadata": {
    "papermill": {
     "duration": 0.011812,
     "end_time": "2024-02-24T10:47:18.255553",
     "exception": false,
     "start_time": "2024-02-24T10:47:18.243741",
     "status": "completed"
    },
    "tags": []
   },
   "source": [
    "Use the next code cell to print the first five rows of the data."
   ]
  },
  {
   "cell_type": "code",
   "execution_count": 3,
   "id": "a645de63",
   "metadata": {
    "execution": {
     "iopub.execute_input": "2024-02-24T10:47:18.283946Z",
     "iopub.status.busy": "2024-02-24T10:47:18.282940Z",
     "iopub.status.idle": "2024-02-24T10:47:18.314662Z",
     "shell.execute_reply": "2024-02-24T10:47:18.313464Z"
    },
    "papermill": {
     "duration": 0.048672,
     "end_time": "2024-02-24T10:47:18.317427",
     "exception": false,
     "start_time": "2024-02-24T10:47:18.268755",
     "status": "completed"
    },
    "tags": []
   },
   "outputs": [
    {
     "data": {
      "text/html": [
       "<div>\n",
       "<style scoped>\n",
       "    .dataframe tbody tr th:only-of-type {\n",
       "        vertical-align: middle;\n",
       "    }\n",
       "\n",
       "    .dataframe tbody tr th {\n",
       "        vertical-align: top;\n",
       "    }\n",
       "\n",
       "    .dataframe thead th {\n",
       "        text-align: right;\n",
       "    }\n",
       "</style>\n",
       "<table border=\"1\" class=\"dataframe\">\n",
       "  <thead>\n",
       "    <tr style=\"text-align: right;\">\n",
       "      <th></th>\n",
       "      <th>MSSubClass</th>\n",
       "      <th>LotFrontage</th>\n",
       "      <th>LotArea</th>\n",
       "      <th>OverallQual</th>\n",
       "      <th>OverallCond</th>\n",
       "      <th>YearBuilt</th>\n",
       "      <th>YearRemodAdd</th>\n",
       "      <th>MasVnrArea</th>\n",
       "      <th>BsmtFinSF1</th>\n",
       "      <th>BsmtFinSF2</th>\n",
       "      <th>...</th>\n",
       "      <th>GarageArea</th>\n",
       "      <th>WoodDeckSF</th>\n",
       "      <th>OpenPorchSF</th>\n",
       "      <th>EnclosedPorch</th>\n",
       "      <th>3SsnPorch</th>\n",
       "      <th>ScreenPorch</th>\n",
       "      <th>PoolArea</th>\n",
       "      <th>MiscVal</th>\n",
       "      <th>MoSold</th>\n",
       "      <th>YrSold</th>\n",
       "    </tr>\n",
       "    <tr>\n",
       "      <th>Id</th>\n",
       "      <th></th>\n",
       "      <th></th>\n",
       "      <th></th>\n",
       "      <th></th>\n",
       "      <th></th>\n",
       "      <th></th>\n",
       "      <th></th>\n",
       "      <th></th>\n",
       "      <th></th>\n",
       "      <th></th>\n",
       "      <th></th>\n",
       "      <th></th>\n",
       "      <th></th>\n",
       "      <th></th>\n",
       "      <th></th>\n",
       "      <th></th>\n",
       "      <th></th>\n",
       "      <th></th>\n",
       "      <th></th>\n",
       "      <th></th>\n",
       "      <th></th>\n",
       "    </tr>\n",
       "  </thead>\n",
       "  <tbody>\n",
       "    <tr>\n",
       "      <th>619</th>\n",
       "      <td>20</td>\n",
       "      <td>90.0</td>\n",
       "      <td>11694</td>\n",
       "      <td>9</td>\n",
       "      <td>5</td>\n",
       "      <td>2007</td>\n",
       "      <td>2007</td>\n",
       "      <td>452.0</td>\n",
       "      <td>48</td>\n",
       "      <td>0</td>\n",
       "      <td>...</td>\n",
       "      <td>774</td>\n",
       "      <td>0</td>\n",
       "      <td>108</td>\n",
       "      <td>0</td>\n",
       "      <td>0</td>\n",
       "      <td>260</td>\n",
       "      <td>0</td>\n",
       "      <td>0</td>\n",
       "      <td>7</td>\n",
       "      <td>2007</td>\n",
       "    </tr>\n",
       "    <tr>\n",
       "      <th>871</th>\n",
       "      <td>20</td>\n",
       "      <td>60.0</td>\n",
       "      <td>6600</td>\n",
       "      <td>5</td>\n",
       "      <td>5</td>\n",
       "      <td>1962</td>\n",
       "      <td>1962</td>\n",
       "      <td>0.0</td>\n",
       "      <td>0</td>\n",
       "      <td>0</td>\n",
       "      <td>...</td>\n",
       "      <td>308</td>\n",
       "      <td>0</td>\n",
       "      <td>0</td>\n",
       "      <td>0</td>\n",
       "      <td>0</td>\n",
       "      <td>0</td>\n",
       "      <td>0</td>\n",
       "      <td>0</td>\n",
       "      <td>8</td>\n",
       "      <td>2009</td>\n",
       "    </tr>\n",
       "    <tr>\n",
       "      <th>93</th>\n",
       "      <td>30</td>\n",
       "      <td>80.0</td>\n",
       "      <td>13360</td>\n",
       "      <td>5</td>\n",
       "      <td>7</td>\n",
       "      <td>1921</td>\n",
       "      <td>2006</td>\n",
       "      <td>0.0</td>\n",
       "      <td>713</td>\n",
       "      <td>0</td>\n",
       "      <td>...</td>\n",
       "      <td>432</td>\n",
       "      <td>0</td>\n",
       "      <td>0</td>\n",
       "      <td>44</td>\n",
       "      <td>0</td>\n",
       "      <td>0</td>\n",
       "      <td>0</td>\n",
       "      <td>0</td>\n",
       "      <td>8</td>\n",
       "      <td>2009</td>\n",
       "    </tr>\n",
       "    <tr>\n",
       "      <th>818</th>\n",
       "      <td>20</td>\n",
       "      <td>NaN</td>\n",
       "      <td>13265</td>\n",
       "      <td>8</td>\n",
       "      <td>5</td>\n",
       "      <td>2002</td>\n",
       "      <td>2002</td>\n",
       "      <td>148.0</td>\n",
       "      <td>1218</td>\n",
       "      <td>0</td>\n",
       "      <td>...</td>\n",
       "      <td>857</td>\n",
       "      <td>150</td>\n",
       "      <td>59</td>\n",
       "      <td>0</td>\n",
       "      <td>0</td>\n",
       "      <td>0</td>\n",
       "      <td>0</td>\n",
       "      <td>0</td>\n",
       "      <td>7</td>\n",
       "      <td>2008</td>\n",
       "    </tr>\n",
       "    <tr>\n",
       "      <th>303</th>\n",
       "      <td>20</td>\n",
       "      <td>118.0</td>\n",
       "      <td>13704</td>\n",
       "      <td>7</td>\n",
       "      <td>5</td>\n",
       "      <td>2001</td>\n",
       "      <td>2002</td>\n",
       "      <td>150.0</td>\n",
       "      <td>0</td>\n",
       "      <td>0</td>\n",
       "      <td>...</td>\n",
       "      <td>843</td>\n",
       "      <td>468</td>\n",
       "      <td>81</td>\n",
       "      <td>0</td>\n",
       "      <td>0</td>\n",
       "      <td>0</td>\n",
       "      <td>0</td>\n",
       "      <td>0</td>\n",
       "      <td>1</td>\n",
       "      <td>2006</td>\n",
       "    </tr>\n",
       "  </tbody>\n",
       "</table>\n",
       "<p>5 rows × 36 columns</p>\n",
       "</div>"
      ],
      "text/plain": [
       "     MSSubClass  LotFrontage  LotArea  OverallQual  OverallCond  YearBuilt  \\\n",
       "Id                                                                           \n",
       "619          20         90.0    11694            9            5       2007   \n",
       "871          20         60.0     6600            5            5       1962   \n",
       "93           30         80.0    13360            5            7       1921   \n",
       "818          20          NaN    13265            8            5       2002   \n",
       "303          20        118.0    13704            7            5       2001   \n",
       "\n",
       "     YearRemodAdd  MasVnrArea  BsmtFinSF1  BsmtFinSF2  ...  GarageArea  \\\n",
       "Id                                                     ...               \n",
       "619          2007       452.0          48           0  ...         774   \n",
       "871          1962         0.0           0           0  ...         308   \n",
       "93           2006         0.0         713           0  ...         432   \n",
       "818          2002       148.0        1218           0  ...         857   \n",
       "303          2002       150.0           0           0  ...         843   \n",
       "\n",
       "     WoodDeckSF  OpenPorchSF  EnclosedPorch  3SsnPorch  ScreenPorch  PoolArea  \\\n",
       "Id                                                                              \n",
       "619           0          108              0          0          260         0   \n",
       "871           0            0              0          0            0         0   \n",
       "93            0            0             44          0            0         0   \n",
       "818         150           59              0          0            0         0   \n",
       "303         468           81              0          0            0         0   \n",
       "\n",
       "     MiscVal  MoSold  YrSold  \n",
       "Id                            \n",
       "619        0       7    2007  \n",
       "871        0       8    2009  \n",
       "93         0       8    2009  \n",
       "818        0       7    2008  \n",
       "303        0       1    2006  \n",
       "\n",
       "[5 rows x 36 columns]"
      ]
     },
     "execution_count": 3,
     "metadata": {},
     "output_type": "execute_result"
    }
   ],
   "source": [
    "X_train.head()"
   ]
  },
  {
   "cell_type": "markdown",
   "id": "8fc2a449",
   "metadata": {
    "papermill": {
     "duration": 0.011743,
     "end_time": "2024-02-24T10:47:18.342938",
     "exception": false,
     "start_time": "2024-02-24T10:47:18.331195",
     "status": "completed"
    },
    "tags": []
   },
   "source": [
    "You can already see a few missing values in the first several rows.  In the next step, you'll obtain a more comprehensive understanding of the missing values in the dataset.\n",
    "\n",
    "# Step 1: Preliminary investigation\n",
    "\n",
    "Run the code cell below without changes."
   ]
  },
  {
   "cell_type": "code",
   "execution_count": 4,
   "id": "3742722d",
   "metadata": {
    "execution": {
     "iopub.execute_input": "2024-02-24T10:47:18.371497Z",
     "iopub.status.busy": "2024-02-24T10:47:18.370196Z",
     "iopub.status.idle": "2024-02-24T10:47:18.379626Z",
     "shell.execute_reply": "2024-02-24T10:47:18.378125Z"
    },
    "papermill": {
     "duration": 0.02663,
     "end_time": "2024-02-24T10:47:18.382470",
     "exception": false,
     "start_time": "2024-02-24T10:47:18.355840",
     "status": "completed"
    },
    "tags": []
   },
   "outputs": [
    {
     "name": "stdout",
     "output_type": "stream",
     "text": [
      "(1168, 36)\n",
      "LotFrontage    212\n",
      "MasVnrArea       6\n",
      "GarageYrBlt     58\n",
      "dtype: int64\n"
     ]
    }
   ],
   "source": [
    "# Shape of training data (num_rows, num_columns)\n",
    "print(X_train.shape)\n",
    "\n",
    "# Number of missing values in each column of training data\n",
    "missing_val_count_by_column = (X_train.isnull().sum())\n",
    "print(missing_val_count_by_column[missing_val_count_by_column > 0])"
   ]
  },
  {
   "cell_type": "markdown",
   "id": "a794a2b6",
   "metadata": {
    "papermill": {
     "duration": 0.012452,
     "end_time": "2024-02-24T10:47:18.407247",
     "exception": false,
     "start_time": "2024-02-24T10:47:18.394795",
     "status": "completed"
    },
    "tags": []
   },
   "source": [
    "### Part A\n",
    "\n",
    "Use the above output to answer the questions below."
   ]
  },
  {
   "cell_type": "code",
   "execution_count": 5,
   "id": "ee5ff118",
   "metadata": {
    "execution": {
     "iopub.execute_input": "2024-02-24T10:47:18.434811Z",
     "iopub.status.busy": "2024-02-24T10:47:18.434359Z",
     "iopub.status.idle": "2024-02-24T10:47:18.447518Z",
     "shell.execute_reply": "2024-02-24T10:47:18.446172Z"
    },
    "papermill": {
     "duration": 0.030307,
     "end_time": "2024-02-24T10:47:18.450413",
     "exception": false,
     "start_time": "2024-02-24T10:47:18.420106",
     "status": "completed"
    },
    "tags": []
   },
   "outputs": [
    {
     "data": {
      "application/javascript": [
       "parent.postMessage({\"jupyterEvent\": \"custom.exercise_interaction\", \"data\": {\"outcomeType\": 1, \"valueTowardsCompletion\": 1.0, \"interactionType\": 1, \"questionType\": 1, \"questionId\": \"1.1_InvestigateEquality\", \"learnToolsVersion\": \"0.3.4\", \"failureMessage\": \"\", \"exceptionClass\": \"\", \"trace\": \"\"}}, \"*\")"
      ],
      "text/plain": [
       "<IPython.core.display.Javascript object>"
      ]
     },
     "metadata": {},
     "output_type": "display_data"
    },
    {
     "data": {
      "text/markdown": [
       "<span style=\"color:#33cc33\">Correct</span>"
      ],
      "text/plain": [
       "Correct"
      ]
     },
     "metadata": {},
     "output_type": "display_data"
    }
   ],
   "source": [
    "# Fill in the line below: How many rows are in the training data?\n",
    "num_rows = 1168\n",
    "\n",
    "# Fill in the line below: How many columns in the training data\n",
    "# have missing values?\n",
    "num_cols_with_missing = 3\n",
    "\n",
    "# Fill in the line below: How many missing entries are contained in \n",
    "# all of the training data?\n",
    "tot_missing = 276\n",
    "\n",
    "# Check your answers\n",
    "step_1.a.check()"
   ]
  },
  {
   "cell_type": "code",
   "execution_count": 6,
   "id": "a7f345d7",
   "metadata": {
    "execution": {
     "iopub.execute_input": "2024-02-24T10:47:18.482142Z",
     "iopub.status.busy": "2024-02-24T10:47:18.481731Z",
     "iopub.status.idle": "2024-02-24T10:47:18.486760Z",
     "shell.execute_reply": "2024-02-24T10:47:18.484705Z"
    },
    "papermill": {
     "duration": 0.023738,
     "end_time": "2024-02-24T10:47:18.489424",
     "exception": false,
     "start_time": "2024-02-24T10:47:18.465686",
     "status": "completed"
    },
    "tags": []
   },
   "outputs": [],
   "source": [
    "# Lines below will give you a hint or solution code\n",
    "#step_1.a.hint()\n",
    "#step_1.a.solution()"
   ]
  },
  {
   "cell_type": "markdown",
   "id": "cd7dd977",
   "metadata": {
    "papermill": {
     "duration": 0.012099,
     "end_time": "2024-02-24T10:47:18.514615",
     "exception": false,
     "start_time": "2024-02-24T10:47:18.502516",
     "status": "completed"
    },
    "tags": []
   },
   "source": [
    "### Part B\n",
    "Considering your answers above, what do you think is likely the best approach to dealing with the missing values?"
   ]
  },
  {
   "cell_type": "code",
   "execution_count": 7,
   "id": "49b49f6d",
   "metadata": {
    "execution": {
     "iopub.execute_input": "2024-02-24T10:47:18.542332Z",
     "iopub.status.busy": "2024-02-24T10:47:18.541882Z",
     "iopub.status.idle": "2024-02-24T10:47:18.553856Z",
     "shell.execute_reply": "2024-02-24T10:47:18.552253Z"
    },
    "papermill": {
     "duration": 0.029106,
     "end_time": "2024-02-24T10:47:18.556882",
     "exception": false,
     "start_time": "2024-02-24T10:47:18.527776",
     "status": "completed"
    },
    "tags": []
   },
   "outputs": [
    {
     "data": {
      "application/javascript": [
       "parent.postMessage({\"jupyterEvent\": \"custom.exercise_interaction\", \"data\": {\"outcomeType\": 1, \"valueTowardsCompletion\": 1.0, \"interactionType\": 1, \"questionType\": 4, \"questionId\": \"1.2_InvestigateThought\", \"learnToolsVersion\": \"0.3.4\", \"failureMessage\": \"\", \"exceptionClass\": \"\", \"trace\": \"\"}}, \"*\")"
      ],
      "text/plain": [
       "<IPython.core.display.Javascript object>"
      ]
     },
     "metadata": {},
     "output_type": "display_data"
    },
    {
     "data": {
      "text/markdown": [
       "<span style=\"color:#33cc33\">Correct:</span> \n",
       "\n",
       "Since there are relatively few missing entries in the data (the column with the greatest percentage of missing values is missing less than 20% of its entries), we can expect that dropping columns is unlikely to yield good results.  This is because we'd be throwing away a lot of valuable data, and so imputation will likely perform better."
      ],
      "text/plain": [
       "Correct: \n",
       "\n",
       "Since there are relatively few missing entries in the data (the column with the greatest percentage of missing values is missing less than 20% of its entries), we can expect that dropping columns is unlikely to yield good results.  This is because we'd be throwing away a lot of valuable data, and so imputation will likely perform better."
      ]
     },
     "metadata": {},
     "output_type": "display_data"
    }
   ],
   "source": [
    "# Check your answer (Run this code cell to receive credit!)\n",
    "step_1.b.check()"
   ]
  },
  {
   "cell_type": "code",
   "execution_count": 8,
   "id": "95e10a51",
   "metadata": {
    "execution": {
     "iopub.execute_input": "2024-02-24T10:47:18.585306Z",
     "iopub.status.busy": "2024-02-24T10:47:18.584743Z",
     "iopub.status.idle": "2024-02-24T10:47:18.589818Z",
     "shell.execute_reply": "2024-02-24T10:47:18.588609Z"
    },
    "papermill": {
     "duration": 0.022378,
     "end_time": "2024-02-24T10:47:18.592313",
     "exception": false,
     "start_time": "2024-02-24T10:47:18.569935",
     "status": "completed"
    },
    "tags": []
   },
   "outputs": [],
   "source": [
    "#step_1.b.hint()"
   ]
  },
  {
   "cell_type": "markdown",
   "id": "203ea1d3",
   "metadata": {
    "papermill": {
     "duration": 0.012719,
     "end_time": "2024-02-24T10:47:18.618935",
     "exception": false,
     "start_time": "2024-02-24T10:47:18.606216",
     "status": "completed"
    },
    "tags": []
   },
   "source": [
    "To compare different approaches to dealing with missing values, you'll use the same `score_dataset()` function from the tutorial.  This function reports the [mean absolute error](https://en.wikipedia.org/wiki/Mean_absolute_error) (MAE) from a random forest model."
   ]
  },
  {
   "cell_type": "code",
   "execution_count": 9,
   "id": "87e39d5e",
   "metadata": {
    "execution": {
     "iopub.execute_input": "2024-02-24T10:47:18.646994Z",
     "iopub.status.busy": "2024-02-24T10:47:18.646609Z",
     "iopub.status.idle": "2024-02-24T10:47:19.039290Z",
     "shell.execute_reply": "2024-02-24T10:47:19.038016Z"
    },
    "papermill": {
     "duration": 0.410212,
     "end_time": "2024-02-24T10:47:19.042317",
     "exception": false,
     "start_time": "2024-02-24T10:47:18.632105",
     "status": "completed"
    },
    "tags": []
   },
   "outputs": [],
   "source": [
    "from sklearn.ensemble import RandomForestRegressor\n",
    "from sklearn.metrics import mean_absolute_error\n",
    "\n",
    "# Function for comparing different approaches\n",
    "def score_dataset(X_train, X_valid, y_train, y_valid):\n",
    "    model = RandomForestRegressor(n_estimators=100, random_state=0)\n",
    "    model.fit(X_train, y_train)\n",
    "    preds = model.predict(X_valid)\n",
    "    return mean_absolute_error(y_valid, preds)"
   ]
  },
  {
   "cell_type": "markdown",
   "id": "bc7d5250",
   "metadata": {
    "papermill": {
     "duration": 0.013745,
     "end_time": "2024-02-24T10:47:19.069277",
     "exception": false,
     "start_time": "2024-02-24T10:47:19.055532",
     "status": "completed"
    },
    "tags": []
   },
   "source": [
    "# Step 2: Drop columns with missing values\n",
    "\n",
    "In this step, you'll preprocess the data in `X_train` and `X_valid` to remove columns with missing values.  Set the preprocessed DataFrames to `reduced_X_train` and `reduced_X_valid`, respectively.  "
   ]
  },
  {
   "cell_type": "code",
   "execution_count": 10,
   "id": "cbd021ae",
   "metadata": {
    "execution": {
     "iopub.execute_input": "2024-02-24T10:47:19.097964Z",
     "iopub.status.busy": "2024-02-24T10:47:19.097501Z",
     "iopub.status.idle": "2024-02-24T10:47:19.129451Z",
     "shell.execute_reply": "2024-02-24T10:47:19.127764Z"
    },
    "papermill": {
     "duration": 0.05003,
     "end_time": "2024-02-24T10:47:19.132533",
     "exception": false,
     "start_time": "2024-02-24T10:47:19.082503",
     "status": "completed"
    },
    "tags": []
   },
   "outputs": [
    {
     "data": {
      "application/javascript": [
       "parent.postMessage({\"jupyterEvent\": \"custom.exercise_interaction\", \"data\": {\"outcomeType\": 1, \"valueTowardsCompletion\": 1.0, \"interactionType\": 1, \"questionType\": 2, \"questionId\": \"2_DropMissing\", \"learnToolsVersion\": \"0.3.4\", \"failureMessage\": \"\", \"exceptionClass\": \"\", \"trace\": \"\"}}, \"*\")"
      ],
      "text/plain": [
       "<IPython.core.display.Javascript object>"
      ]
     },
     "metadata": {},
     "output_type": "display_data"
    },
    {
     "data": {
      "text/markdown": [
       "<span style=\"color:#33cc33\">Correct</span>"
      ],
      "text/plain": [
       "Correct"
      ]
     },
     "metadata": {},
     "output_type": "display_data"
    }
   ],
   "source": [
    "# Fill in the line below: get names of columns with missing values\n",
    "col_with_missing_values = [col for col in X_train.columns if X_train[col].isnull().any()]\n",
    "\n",
    "# Fill in the lines below: drop columns in training and validation data\n",
    "reduced_X_train = X_train.drop(col_with_missing_values, axis=1)\n",
    "reduced_X_valid = X_valid.drop(col_with_missing_values, axis=1)\n",
    "\n",
    "# Check your answers\n",
    "step_2.check()"
   ]
  },
  {
   "cell_type": "code",
   "execution_count": 11,
   "id": "b569358f",
   "metadata": {
    "execution": {
     "iopub.execute_input": "2024-02-24T10:47:19.162733Z",
     "iopub.status.busy": "2024-02-24T10:47:19.162298Z",
     "iopub.status.idle": "2024-02-24T10:47:19.168269Z",
     "shell.execute_reply": "2024-02-24T10:47:19.166748Z"
    },
    "papermill": {
     "duration": 0.024872,
     "end_time": "2024-02-24T10:47:19.171657",
     "exception": false,
     "start_time": "2024-02-24T10:47:19.146785",
     "status": "completed"
    },
    "tags": []
   },
   "outputs": [],
   "source": [
    "# Lines below will give you a hint or solution code\n",
    "#step_2.hint()\n",
    "#step_2.solution()"
   ]
  },
  {
   "cell_type": "markdown",
   "id": "1fe7261e",
   "metadata": {
    "papermill": {
     "duration": 0.013694,
     "end_time": "2024-02-24T10:47:19.200512",
     "exception": false,
     "start_time": "2024-02-24T10:47:19.186818",
     "status": "completed"
    },
    "tags": []
   },
   "source": [
    "Run the next code cell without changes to obtain the MAE for this approach."
   ]
  },
  {
   "cell_type": "code",
   "execution_count": 12,
   "id": "8fd2588d",
   "metadata": {
    "execution": {
     "iopub.execute_input": "2024-02-24T10:47:19.232644Z",
     "iopub.status.busy": "2024-02-24T10:47:19.232193Z",
     "iopub.status.idle": "2024-02-24T10:47:20.575083Z",
     "shell.execute_reply": "2024-02-24T10:47:20.573166Z"
    },
    "papermill": {
     "duration": 1.362582,
     "end_time": "2024-02-24T10:47:20.578351",
     "exception": false,
     "start_time": "2024-02-24T10:47:19.215769",
     "status": "completed"
    },
    "tags": []
   },
   "outputs": [
    {
     "name": "stdout",
     "output_type": "stream",
     "text": [
      "MAE (Drop columns with missing values):\n",
      "17837.82570776256\n"
     ]
    }
   ],
   "source": [
    "print(\"MAE (Drop columns with missing values):\")\n",
    "print(score_dataset(reduced_X_train, reduced_X_valid, y_train, y_valid))"
   ]
  },
  {
   "cell_type": "markdown",
   "id": "c3b3da55",
   "metadata": {
    "papermill": {
     "duration": 0.014083,
     "end_time": "2024-02-24T10:47:20.607425",
     "exception": false,
     "start_time": "2024-02-24T10:47:20.593342",
     "status": "completed"
    },
    "tags": []
   },
   "source": [
    "# Step 3: Imputation\n",
    "\n",
    "### Part A\n",
    "\n",
    "Use the next code cell to impute missing values with the mean value along each column.  Set the preprocessed DataFrames to `imputed_X_train` and `imputed_X_valid`.  Make sure that the column names match those in `X_train` and `X_valid`."
   ]
  },
  {
   "cell_type": "code",
   "execution_count": 13,
   "id": "214f482b",
   "metadata": {
    "execution": {
     "iopub.execute_input": "2024-02-24T10:47:20.637870Z",
     "iopub.status.busy": "2024-02-24T10:47:20.637192Z",
     "iopub.status.idle": "2024-02-24T10:47:20.673815Z",
     "shell.execute_reply": "2024-02-24T10:47:20.672422Z"
    },
    "papermill": {
     "duration": 0.056156,
     "end_time": "2024-02-24T10:47:20.677263",
     "exception": false,
     "start_time": "2024-02-24T10:47:20.621107",
     "status": "completed"
    },
    "tags": []
   },
   "outputs": [
    {
     "data": {
      "application/javascript": [
       "parent.postMessage({\"jupyterEvent\": \"custom.exercise_interaction\", \"data\": {\"outcomeType\": 1, \"valueTowardsCompletion\": 1.0, \"interactionType\": 1, \"questionType\": 2, \"questionId\": \"3.1_ImputeCode\", \"learnToolsVersion\": \"0.3.4\", \"failureMessage\": \"\", \"exceptionClass\": \"\", \"trace\": \"\"}}, \"*\")"
      ],
      "text/plain": [
       "<IPython.core.display.Javascript object>"
      ]
     },
     "metadata": {},
     "output_type": "display_data"
    },
    {
     "data": {
      "text/markdown": [
       "<span style=\"color:#33cc33\">Correct</span>"
      ],
      "text/plain": [
       "Correct"
      ]
     },
     "metadata": {},
     "output_type": "display_data"
    }
   ],
   "source": [
    "from sklearn.impute import SimpleImputer\n",
    "\n",
    "# Fill in the lines below: imputation\n",
    "my_imputer = SimpleImputer()\n",
    "\n",
    "imputed_X_train = pd.DataFrame(my_imputer.fit_transform(X_train))\n",
    "imputed_X_valid = pd.DataFrame(my_imputer.transform(X_valid))\n",
    "\n",
    "# Fill in the lines below: imputation removed column names; put them back\n",
    "imputed_X_train.columns = X_train.columns\n",
    "imputed_X_valid.columns = X_valid.columns\n",
    "\n",
    "# Check your answers\n",
    "step_3.a.check()"
   ]
  },
  {
   "cell_type": "code",
   "execution_count": 14,
   "id": "836e97d7",
   "metadata": {
    "execution": {
     "iopub.execute_input": "2024-02-24T10:47:20.707786Z",
     "iopub.status.busy": "2024-02-24T10:47:20.707031Z",
     "iopub.status.idle": "2024-02-24T10:47:20.711873Z",
     "shell.execute_reply": "2024-02-24T10:47:20.710587Z"
    },
    "papermill": {
     "duration": 0.023407,
     "end_time": "2024-02-24T10:47:20.714993",
     "exception": false,
     "start_time": "2024-02-24T10:47:20.691586",
     "status": "completed"
    },
    "tags": []
   },
   "outputs": [],
   "source": [
    "# Lines below will give you a hint or solution code\n",
    "#step_3.a.hint()\n",
    "#step_3.a.solution()"
   ]
  },
  {
   "cell_type": "markdown",
   "id": "13218b06",
   "metadata": {
    "papermill": {
     "duration": 0.01481,
     "end_time": "2024-02-24T10:47:20.744970",
     "exception": false,
     "start_time": "2024-02-24T10:47:20.730160",
     "status": "completed"
    },
    "tags": []
   },
   "source": [
    "Run the next code cell without changes to obtain the MAE for this approach."
   ]
  },
  {
   "cell_type": "code",
   "execution_count": 15,
   "id": "06cfb244",
   "metadata": {
    "execution": {
     "iopub.execute_input": "2024-02-24T10:47:20.775288Z",
     "iopub.status.busy": "2024-02-24T10:47:20.774852Z",
     "iopub.status.idle": "2024-02-24T10:47:22.292461Z",
     "shell.execute_reply": "2024-02-24T10:47:22.290665Z"
    },
    "papermill": {
     "duration": 1.53577,
     "end_time": "2024-02-24T10:47:22.295320",
     "exception": false,
     "start_time": "2024-02-24T10:47:20.759550",
     "status": "completed"
    },
    "tags": []
   },
   "outputs": [
    {
     "name": "stdout",
     "output_type": "stream",
     "text": [
      "MAE (Imputation):\n",
      "18062.894611872147\n"
     ]
    }
   ],
   "source": [
    "print(\"MAE (Imputation):\")\n",
    "print(score_dataset(imputed_X_train, imputed_X_valid, y_train, y_valid))"
   ]
  },
  {
   "cell_type": "markdown",
   "id": "e184eb9b",
   "metadata": {
    "papermill": {
     "duration": 0.013911,
     "end_time": "2024-02-24T10:47:22.324612",
     "exception": false,
     "start_time": "2024-02-24T10:47:22.310701",
     "status": "completed"
    },
    "tags": []
   },
   "source": [
    "### Part B\n",
    "\n",
    "Compare the MAE from each approach.  Does anything surprise you about the results?  Why do you think one approach performed better than the other?"
   ]
  },
  {
   "cell_type": "code",
   "execution_count": 16,
   "id": "0c90176a",
   "metadata": {
    "execution": {
     "iopub.execute_input": "2024-02-24T10:47:22.356321Z",
     "iopub.status.busy": "2024-02-24T10:47:22.354990Z",
     "iopub.status.idle": "2024-02-24T10:47:22.365229Z",
     "shell.execute_reply": "2024-02-24T10:47:22.364029Z"
    },
    "papermill": {
     "duration": 0.029037,
     "end_time": "2024-02-24T10:47:22.368387",
     "exception": false,
     "start_time": "2024-02-24T10:47:22.339350",
     "status": "completed"
    },
    "tags": []
   },
   "outputs": [
    {
     "data": {
      "application/javascript": [
       "parent.postMessage({\"jupyterEvent\": \"custom.exercise_interaction\", \"data\": {\"outcomeType\": 1, \"valueTowardsCompletion\": 1.0, \"interactionType\": 1, \"questionType\": 4, \"questionId\": \"3.2_ImputeThought\", \"learnToolsVersion\": \"0.3.4\", \"failureMessage\": \"\", \"exceptionClass\": \"\", \"trace\": \"\"}}, \"*\")"
      ],
      "text/plain": [
       "<IPython.core.display.Javascript object>"
      ]
     },
     "metadata": {},
     "output_type": "display_data"
    },
    {
     "data": {
      "text/markdown": [
       "<span style=\"color:#33cc33\">Correct:</span> \n",
       "\n",
       "Given that thre are so few missing values in the dataset, we'd expect imputation to perform better than dropping columns entirely.  However, we see that dropping columns performs slightly better!  While this can probably partially be attributed to noise in the dataset, another potential explanation is that the imputation method is not a great match to this dataset.  That is, maybe instead of filling in the mean value, it makes more sense to set every missing value to a value of 0, to fill in the most frequently encountered value, or to use some other method.  For instance, consider the `GarageYrBlt` column (which indicates the year that the garage was built).  It's likely that in some cases, a missing value could indicate a house that does not have a garage.  Does it make more sense to fill in the median value along each column in this case?  Or could we get better results by filling in the minimum value along each column?  It's not quite clear what's best in this case, but perhaps we can rule out some options immediately - for instance, setting missing values in this column to 0 is likely to yield horrible results!"
      ],
      "text/plain": [
       "Correct: \n",
       "\n",
       "Given that thre are so few missing values in the dataset, we'd expect imputation to perform better than dropping columns entirely.  However, we see that dropping columns performs slightly better!  While this can probably partially be attributed to noise in the dataset, another potential explanation is that the imputation method is not a great match to this dataset.  That is, maybe instead of filling in the mean value, it makes more sense to set every missing value to a value of 0, to fill in the most frequently encountered value, or to use some other method.  For instance, consider the `GarageYrBlt` column (which indicates the year that the garage was built).  It's likely that in some cases, a missing value could indicate a house that does not have a garage.  Does it make more sense to fill in the median value along each column in this case?  Or could we get better results by filling in the minimum value along each column?  It's not quite clear what's best in this case, but perhaps we can rule out some options immediately - for instance, setting missing values in this column to 0 is likely to yield horrible results!"
      ]
     },
     "metadata": {},
     "output_type": "display_data"
    }
   ],
   "source": [
    "# Check your answer (Run this code cell to receive credit!)\n",
    "step_3.b.check()"
   ]
  },
  {
   "cell_type": "code",
   "execution_count": 17,
   "id": "aaaa8acd",
   "metadata": {
    "execution": {
     "iopub.execute_input": "2024-02-24T10:47:22.400864Z",
     "iopub.status.busy": "2024-02-24T10:47:22.400463Z",
     "iopub.status.idle": "2024-02-24T10:47:22.405427Z",
     "shell.execute_reply": "2024-02-24T10:47:22.404116Z"
    },
    "papermill": {
     "duration": 0.024197,
     "end_time": "2024-02-24T10:47:22.407993",
     "exception": false,
     "start_time": "2024-02-24T10:47:22.383796",
     "status": "completed"
    },
    "tags": []
   },
   "outputs": [],
   "source": [
    "#step_3.b.hint()"
   ]
  },
  {
   "cell_type": "markdown",
   "id": "928c902d",
   "metadata": {
    "papermill": {
     "duration": 0.014302,
     "end_time": "2024-02-24T10:47:22.438381",
     "exception": false,
     "start_time": "2024-02-24T10:47:22.424079",
     "status": "completed"
    },
    "tags": []
   },
   "source": [
    "# Step 4: Generate test predictions\n",
    "\n",
    "In this final step, you'll use any approach of your choosing to deal with missing values.  Once you've preprocessed the training and validation features, you'll train and evaluate a random forest model.  Then, you'll preprocess the test data before generating predictions that can be submitted to the competition!\n",
    "\n",
    "### Part A\n",
    "\n",
    "Use the next code cell to preprocess the training and validation data.  Set the preprocessed DataFrames to `final_X_train` and `final_X_valid`.  **You can use any approach of your choosing here!**  in order for this step to be marked as correct, you need only ensure:\n",
    "- the preprocessed DataFrames have the same number of columns,\n",
    "- the preprocessed DataFrames have no missing values, \n",
    "- `final_X_train` and `y_train` have the same number of rows, and\n",
    "- `final_X_valid` and `y_valid` have the same number of rows."
   ]
  },
  {
   "cell_type": "code",
   "execution_count": 18,
   "id": "c07e1237",
   "metadata": {
    "execution": {
     "iopub.execute_input": "2024-02-24T10:47:22.474713Z",
     "iopub.status.busy": "2024-02-24T10:47:22.473519Z",
     "iopub.status.idle": "2024-02-24T10:47:23.889277Z",
     "shell.execute_reply": "2024-02-24T10:47:23.887604Z"
    },
    "papermill": {
     "duration": 1.438718,
     "end_time": "2024-02-24T10:47:23.893397",
     "exception": false,
     "start_time": "2024-02-24T10:47:22.454679",
     "status": "completed"
    },
    "tags": []
   },
   "outputs": [
    {
     "data": {
      "application/javascript": [
       "parent.postMessage({\"jupyterEvent\": \"custom.exercise_interaction\", \"data\": {\"outcomeType\": 1, \"valueTowardsCompletion\": 1.0, \"interactionType\": 1, \"questionType\": 2, \"questionId\": \"4.1_PredsCodeA\", \"learnToolsVersion\": \"0.3.4\", \"failureMessage\": \"\", \"exceptionClass\": \"\", \"trace\": \"\"}}, \"*\")"
      ],
      "text/plain": [
       "<IPython.core.display.Javascript object>"
      ]
     },
     "metadata": {},
     "output_type": "display_data"
    },
    {
     "data": {
      "text/markdown": [
       "<span style=\"color:#33cc33\">Correct</span>"
      ],
      "text/plain": [
       "Correct"
      ]
     },
     "metadata": {},
     "output_type": "display_data"
    }
   ],
   "source": [
    "from sklearn.experimental import enable_iterative_imputer\n",
    "from sklearn.impute import IterativeImputer\n",
    "\n",
    "# Copies of the data\n",
    "X_train_plus = X_train.copy()\n",
    "X_valid_plus = X_valid.copy()\n",
    "\n",
    "for col in col_with_missing_values:\n",
    "    X_train_plus[col + '_was_missing'] = X_train_plus[col].isnull()\n",
    "    X_valid_plus[col + '_was_missing'] = X_valid_plus[col].isnull()\n",
    "    \n",
    "# Make new columns indicating what will be imputed\n",
    "iterative_imputer = IterativeImputer(random_state=0)\n",
    "imputed_X_train_plus = pd.DataFrame(iterative_imputer.fit_transform(X_train_plus))\n",
    "imputed_X_valid_plus = pd.DataFrame(iterative_imputer.transform(X_valid_plus))\n",
    "\n",
    "# Imputation removed column names; put them back\n",
    "imputed_X_train_plus.columns = X_train_plus.columns\n",
    "imputed_X_valid_plus.columns = X_valid_plus.columns\n",
    "\n",
    "# Preprocessed training and validation features\n",
    "final_X_train = imputed_X_train_plus\n",
    "final_X_valid = imputed_X_valid_plus\n",
    "\n",
    "# Check your answers\n",
    "step_4.a.check()"
   ]
  },
  {
   "cell_type": "code",
   "execution_count": 19,
   "id": "f7346617",
   "metadata": {
    "execution": {
     "iopub.execute_input": "2024-02-24T10:47:23.959632Z",
     "iopub.status.busy": "2024-02-24T10:47:23.958499Z",
     "iopub.status.idle": "2024-02-24T10:47:23.963321Z",
     "shell.execute_reply": "2024-02-24T10:47:23.962351Z"
    },
    "papermill": {
     "duration": 0.023413,
     "end_time": "2024-02-24T10:47:23.965692",
     "exception": false,
     "start_time": "2024-02-24T10:47:23.942279",
     "status": "completed"
    },
    "tags": []
   },
   "outputs": [],
   "source": [
    "# Lines below will give you a hint or solution code\n",
    "#step_4.a.hint()\n",
    "#step_4.a.solution()"
   ]
  },
  {
   "cell_type": "markdown",
   "id": "c4d19d10",
   "metadata": {
    "papermill": {
     "duration": 0.01471,
     "end_time": "2024-02-24T10:47:23.995697",
     "exception": false,
     "start_time": "2024-02-24T10:47:23.980987",
     "status": "completed"
    },
    "tags": []
   },
   "source": [
    "Run the next code cell to train and evaluate a random forest model.  (*Note that we don't use the `score_dataset()` function above, because we will soon use the trained model to generate test predictions!*)"
   ]
  },
  {
   "cell_type": "code",
   "execution_count": 20,
   "id": "7de3905e",
   "metadata": {
    "execution": {
     "iopub.execute_input": "2024-02-24T10:47:24.027827Z",
     "iopub.status.busy": "2024-02-24T10:47:24.027382Z",
     "iopub.status.idle": "2024-02-24T10:47:25.524655Z",
     "shell.execute_reply": "2024-02-24T10:47:25.523001Z"
    },
    "papermill": {
     "duration": 1.517158,
     "end_time": "2024-02-24T10:47:25.527876",
     "exception": false,
     "start_time": "2024-02-24T10:47:24.010718",
     "status": "completed"
    },
    "tags": []
   },
   "outputs": [
    {
     "name": "stdout",
     "output_type": "stream",
     "text": [
      "MAE (Your approach):\n",
      "17905.722123287673\n"
     ]
    }
   ],
   "source": [
    "# Define and fit model\n",
    "model = RandomForestRegressor(n_estimators=100, random_state=0)\n",
    "model.fit(final_X_train, y_train)\n",
    "\n",
    "# Get validation predictions and MAE\n",
    "preds_valid = model.predict(final_X_valid)\n",
    "print(\"MAE (Your approach):\")\n",
    "print(mean_absolute_error(y_valid, preds_valid))"
   ]
  },
  {
   "cell_type": "markdown",
   "id": "0427d0ba",
   "metadata": {
    "papermill": {
     "duration": 0.01573,
     "end_time": "2024-02-24T10:47:25.559142",
     "exception": false,
     "start_time": "2024-02-24T10:47:25.543412",
     "status": "completed"
    },
    "tags": []
   },
   "source": [
    "### Part B\n",
    "\n",
    "Use the next code cell to preprocess your test data.  Make sure that you use a method that agrees with how you preprocessed the training and validation data, and set the preprocessed test features to `final_X_test`.\n",
    "\n",
    "Then, use the preprocessed test features and the trained model to generate test predictions in `preds_test`.\n",
    "\n",
    "In order for this step to be marked correct, you need only ensure:\n",
    "- the preprocessed test DataFrame has no missing values, and\n",
    "- `final_X_test` has the same number of rows as `X_test`."
   ]
  },
  {
   "cell_type": "code",
   "execution_count": 21,
   "id": "188fc51f",
   "metadata": {
    "execution": {
     "iopub.execute_input": "2024-02-24T10:47:25.594590Z",
     "iopub.status.busy": "2024-02-24T10:47:25.594141Z",
     "iopub.status.idle": "2024-02-24T10:47:25.704344Z",
     "shell.execute_reply": "2024-02-24T10:47:25.702729Z"
    },
    "papermill": {
     "duration": 0.132536,
     "end_time": "2024-02-24T10:47:25.708822",
     "exception": false,
     "start_time": "2024-02-24T10:47:25.576286",
     "status": "completed"
    },
    "tags": []
   },
   "outputs": [
    {
     "data": {
      "application/javascript": [
       "parent.postMessage({\"jupyterEvent\": \"custom.exercise_interaction\", \"data\": {\"outcomeType\": 1, \"valueTowardsCompletion\": 1.0, \"interactionType\": 1, \"questionType\": 2, \"questionId\": \"4.2_PredsCodeB\", \"learnToolsVersion\": \"0.3.4\", \"failureMessage\": \"\", \"exceptionClass\": \"\", \"trace\": \"\"}}, \"*\")"
      ],
      "text/plain": [
       "<IPython.core.display.Javascript object>"
      ]
     },
     "metadata": {},
     "output_type": "display_data"
    },
    {
     "data": {
      "text/markdown": [
       "<span style=\"color:#33cc33\">Correct</span>"
      ],
      "text/plain": [
       "Correct"
      ]
     },
     "metadata": {},
     "output_type": "display_data"
    }
   ],
   "source": [
    "# Copies of the data\n",
    "X_test_plus = X_test.copy()\n",
    "\n",
    "# Make new columns indicating what will be imputed\n",
    "for col in col_with_missing_values:\n",
    "    X_test_plus[col + '_was_missing'] = X_train_plus[col].isnull()\n",
    "    \n",
    "# Imputation    \n",
    "imputed_X_test_plus = pd.DataFrame(iterative_imputer.transform(X_test_plus))\n",
    "\n",
    "# Imputation removed column names; put them back\n",
    "imputed_X_test_plus.columns = X_test_plus.columns\n",
    "\n",
    "# Fill in the line below: preprocess test data\n",
    "final_X_test = imputed_X_test_plus\n",
    "\n",
    "# Fill in the line below: get test predictions\n",
    "preds_test = model.predict(final_X_test)\n",
    "\n",
    "# Check your answers\n",
    "step_4.b.check()"
   ]
  },
  {
   "cell_type": "code",
   "execution_count": 22,
   "id": "713b8744",
   "metadata": {
    "execution": {
     "iopub.execute_input": "2024-02-24T10:47:25.763274Z",
     "iopub.status.busy": "2024-02-24T10:47:25.762798Z",
     "iopub.status.idle": "2024-02-24T10:47:25.768633Z",
     "shell.execute_reply": "2024-02-24T10:47:25.767370Z"
    },
    "papermill": {
     "duration": 0.027845,
     "end_time": "2024-02-24T10:47:25.771164",
     "exception": false,
     "start_time": "2024-02-24T10:47:25.743319",
     "status": "completed"
    },
    "tags": []
   },
   "outputs": [],
   "source": [
    "# Lines below will give you a hint or solution code\n",
    "#step_4.b.hint()\n",
    "#step_4.b.solution()"
   ]
  },
  {
   "cell_type": "markdown",
   "id": "42937813",
   "metadata": {
    "papermill": {
     "duration": 0.015162,
     "end_time": "2024-02-24T10:47:25.802663",
     "exception": false,
     "start_time": "2024-02-24T10:47:25.787501",
     "status": "completed"
    },
    "tags": []
   },
   "source": [
    "Run the next code cell without changes to save your results to a CSV file that can be submitted directly to the competition."
   ]
  },
  {
   "cell_type": "code",
   "execution_count": 23,
   "id": "3e434e3d",
   "metadata": {
    "execution": {
     "iopub.execute_input": "2024-02-24T10:47:25.899964Z",
     "iopub.status.busy": "2024-02-24T10:47:25.899543Z",
     "iopub.status.idle": "2024-02-24T10:47:25.912336Z",
     "shell.execute_reply": "2024-02-24T10:47:25.911140Z"
    },
    "papermill": {
     "duration": 0.0971,
     "end_time": "2024-02-24T10:47:25.915147",
     "exception": false,
     "start_time": "2024-02-24T10:47:25.818047",
     "status": "completed"
    },
    "tags": []
   },
   "outputs": [],
   "source": [
    "# Save test predictions to file\n",
    "output = pd.DataFrame({'Id': X_test.index,\n",
    "                       'SalePrice': preds_test})\n",
    "output.to_csv('submission.csv', index=False)"
   ]
  },
  {
   "cell_type": "markdown",
   "id": "1e1c696d",
   "metadata": {
    "papermill": {
     "duration": 0.015679,
     "end_time": "2024-02-24T10:47:25.946731",
     "exception": false,
     "start_time": "2024-02-24T10:47:25.931052",
     "status": "completed"
    },
    "tags": []
   },
   "source": [
    "# Submit your results\n",
    "\n",
    "Once you have successfully completed Step 4, you're ready to submit your results to the leaderboard!  (_You also learned how to do this in the previous exercise.  If you need a reminder of how to do this, please use the instructions below._)  \n",
    "\n",
    "First, you'll need to join the competition if you haven't already.  So open a new window by clicking on [this link](https://www.kaggle.com/c/home-data-for-ml-course).  Then click on the **Join Competition** button.\n",
    "\n",
    "![join competition image](https://storage.googleapis.com/kaggle-media/learn/images/wLmFtH3.png)\n",
    "\n",
    "Next, follow the instructions below:\n",
    "1. Begin by clicking on the **Save Version** button in the top right corner of the window.  This will generate a pop-up window.  \n",
    "2. Ensure that the **Save and Run All** option is selected, and then click on the **Save** button.\n",
    "3. This generates a window in the bottom left corner of the notebook.  After it has finished running, click on the number to the right of the **Save Version** button.  This pulls up a list of versions on the right of the screen.  Click on the ellipsis **(...)** to the right of the most recent version, and select **Open in Viewer**.  This brings you into view mode of the same page. You will need to scroll down to get back to these instructions.\n",
    "4. Click on the **Data** tab near the top of the screen.  Then, click on the file you would like to submit, and click on the **Submit** button to submit your results to the leaderboard.\n",
    "\n",
    "You have now successfully submitted to the competition!\n",
    "\n",
    "If you want to keep working to improve your performance, select the **Edit** button in the top right of the screen. Then you can change your code and repeat the process. There's a lot of room to improve, and you will climb up the leaderboard as you work.\n",
    "\n",
    "\n",
    "# Keep going\n",
    "\n",
    "Move on to learn what **[categorical variables](https://www.kaggle.com/alexisbcook/categorical-variables)** are, along with how to incorporate them into your machine learning models.  Categorical variables are very common in real-world data, but you'll get an error if you try to plug them into your models without processing them first!"
   ]
  },
  {
   "cell_type": "markdown",
   "id": "4d999281",
   "metadata": {
    "papermill": {
     "duration": 0.015296,
     "end_time": "2024-02-24T10:47:25.978915",
     "exception": false,
     "start_time": "2024-02-24T10:47:25.963619",
     "status": "completed"
    },
    "tags": []
   },
   "source": [
    "---\n",
    "\n",
    "\n",
    "\n",
    "\n",
    "*Have questions or comments? Visit the [course discussion forum](https://www.kaggle.com/learn/intermediate-machine-learning/discussion) to chat with other learners.*"
   ]
  }
 ],
 "metadata": {
  "kaggle": {
   "accelerator": "none",
   "dataSources": [
    {
     "databundleVersionId": 111096,
     "sourceId": 10211,
     "sourceType": "competition"
    }
   ],
   "isGpuEnabled": false,
   "isInternetEnabled": false,
   "language": "python",
   "sourceType": "notebook"
  },
  "kernelspec": {
   "display_name": "Python 3",
   "language": "python",
   "name": "python3"
  },
  "language_info": {
   "codemirror_mode": {
    "name": "ipython",
    "version": 3
   },
   "file_extension": ".py",
   "mimetype": "text/x-python",
   "name": "python",
   "nbconvert_exporter": "python",
   "pygments_lexer": "ipython3",
   "version": "3.10.13"
  },
  "papermill": {
   "default_parameters": {},
   "duration": 14.555103,
   "end_time": "2024-02-24T10:47:26.718507",
   "environment_variables": {},
   "exception": null,
   "input_path": "__notebook__.ipynb",
   "output_path": "__notebook__.ipynb",
   "parameters": {},
   "start_time": "2024-02-24T10:47:12.163404",
   "version": "2.5.0"
  }
 },
 "nbformat": 4,
 "nbformat_minor": 5
}
